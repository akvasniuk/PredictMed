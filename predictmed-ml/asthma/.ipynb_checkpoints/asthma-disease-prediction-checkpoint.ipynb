{
 "cells": [
  {
   "cell_type": "code",
   "execution_count": 2,
   "metadata": {
    "execution": {
     "iopub.execute_input": "2023-10-16T02:50:04.095377Z",
     "iopub.status.busy": "2023-10-16T02:50:04.094859Z",
     "iopub.status.idle": "2023-10-16T02:50:04.492171Z",
     "shell.execute_reply": "2023-10-16T02:50:04.491030Z"
    },
    "papermill": {
     "duration": 0.40486,
     "end_time": "2023-10-16T02:50:04.495133",
     "exception": false,
     "start_time": "2023-10-16T02:50:04.090273",
     "status": "completed"
    },
    "tags": []
   },
   "outputs": [],
   "source": [
    "df=pd.read_csv('processed-data.csv')"
   ]
  },
  {
   "cell_type": "code",
   "execution_count": 3,
   "metadata": {
    "execution": {
     "iopub.execute_input": "2023-10-16T02:50:04.508268Z",
     "iopub.status.busy": "2023-10-16T02:50:04.507912Z",
     "iopub.status.idle": "2023-10-16T02:50:04.534055Z",
     "shell.execute_reply": "2023-10-16T02:50:04.533330Z"
    },
    "papermill": {
     "duration": 0.034755,
     "end_time": "2023-10-16T02:50:04.535525",
     "exception": false,
     "start_time": "2023-10-16T02:50:04.500770",
     "status": "completed"
    },
    "tags": []
   },
   "outputs": [
    {
     "data": {
      "text/html": [
       "<div>\n",
       "<style scoped>\n",
       "    .dataframe tbody tr th:only-of-type {\n",
       "        vertical-align: middle;\n",
       "    }\n",
       "\n",
       "    .dataframe tbody tr th {\n",
       "        vertical-align: top;\n",
       "    }\n",
       "\n",
       "    .dataframe thead th {\n",
       "        text-align: right;\n",
       "    }\n",
       "</style>\n",
       "<table border=\"1\" class=\"dataframe\">\n",
       "  <thead>\n",
       "    <tr style=\"text-align: right;\">\n",
       "      <th></th>\n",
       "      <th>Tiredness</th>\n",
       "      <th>Dry-Cough</th>\n",
       "      <th>Difficulty-in-Breathing</th>\n",
       "      <th>Sore-Throat</th>\n",
       "      <th>None_Sympton</th>\n",
       "      <th>Pains</th>\n",
       "      <th>Nasal-Congestion</th>\n",
       "      <th>Runny-Nose</th>\n",
       "      <th>None_Experiencing</th>\n",
       "      <th>Age_0-9</th>\n",
       "      <th>Age_10-19</th>\n",
       "      <th>Age_20-24</th>\n",
       "      <th>Age_25-59</th>\n",
       "      <th>Age_60+</th>\n",
       "      <th>Gender_Female</th>\n",
       "      <th>Gender_Male</th>\n",
       "      <th>Severity_Mild</th>\n",
       "      <th>Severity_Moderate</th>\n",
       "      <th>Severity_None</th>\n",
       "    </tr>\n",
       "  </thead>\n",
       "  <tbody>\n",
       "    <tr>\n",
       "      <th>0</th>\n",
       "      <td>1</td>\n",
       "      <td>1</td>\n",
       "      <td>1</td>\n",
       "      <td>1</td>\n",
       "      <td>0</td>\n",
       "      <td>1</td>\n",
       "      <td>1</td>\n",
       "      <td>1</td>\n",
       "      <td>0</td>\n",
       "      <td>1</td>\n",
       "      <td>0</td>\n",
       "      <td>0</td>\n",
       "      <td>0</td>\n",
       "      <td>0</td>\n",
       "      <td>0</td>\n",
       "      <td>1</td>\n",
       "      <td>1</td>\n",
       "      <td>0</td>\n",
       "      <td>0</td>\n",
       "    </tr>\n",
       "    <tr>\n",
       "      <th>1</th>\n",
       "      <td>1</td>\n",
       "      <td>1</td>\n",
       "      <td>1</td>\n",
       "      <td>1</td>\n",
       "      <td>0</td>\n",
       "      <td>1</td>\n",
       "      <td>1</td>\n",
       "      <td>1</td>\n",
       "      <td>0</td>\n",
       "      <td>1</td>\n",
       "      <td>0</td>\n",
       "      <td>0</td>\n",
       "      <td>0</td>\n",
       "      <td>0</td>\n",
       "      <td>0</td>\n",
       "      <td>1</td>\n",
       "      <td>1</td>\n",
       "      <td>0</td>\n",
       "      <td>0</td>\n",
       "    </tr>\n",
       "    <tr>\n",
       "      <th>2</th>\n",
       "      <td>1</td>\n",
       "      <td>1</td>\n",
       "      <td>1</td>\n",
       "      <td>1</td>\n",
       "      <td>0</td>\n",
       "      <td>1</td>\n",
       "      <td>1</td>\n",
       "      <td>1</td>\n",
       "      <td>0</td>\n",
       "      <td>1</td>\n",
       "      <td>0</td>\n",
       "      <td>0</td>\n",
       "      <td>0</td>\n",
       "      <td>0</td>\n",
       "      <td>0</td>\n",
       "      <td>1</td>\n",
       "      <td>1</td>\n",
       "      <td>0</td>\n",
       "      <td>0</td>\n",
       "    </tr>\n",
       "    <tr>\n",
       "      <th>3</th>\n",
       "      <td>1</td>\n",
       "      <td>1</td>\n",
       "      <td>1</td>\n",
       "      <td>1</td>\n",
       "      <td>0</td>\n",
       "      <td>1</td>\n",
       "      <td>1</td>\n",
       "      <td>1</td>\n",
       "      <td>0</td>\n",
       "      <td>1</td>\n",
       "      <td>0</td>\n",
       "      <td>0</td>\n",
       "      <td>0</td>\n",
       "      <td>0</td>\n",
       "      <td>0</td>\n",
       "      <td>1</td>\n",
       "      <td>0</td>\n",
       "      <td>1</td>\n",
       "      <td>0</td>\n",
       "    </tr>\n",
       "    <tr>\n",
       "      <th>4</th>\n",
       "      <td>1</td>\n",
       "      <td>1</td>\n",
       "      <td>1</td>\n",
       "      <td>1</td>\n",
       "      <td>0</td>\n",
       "      <td>1</td>\n",
       "      <td>1</td>\n",
       "      <td>1</td>\n",
       "      <td>0</td>\n",
       "      <td>1</td>\n",
       "      <td>0</td>\n",
       "      <td>0</td>\n",
       "      <td>0</td>\n",
       "      <td>0</td>\n",
       "      <td>0</td>\n",
       "      <td>1</td>\n",
       "      <td>0</td>\n",
       "      <td>1</td>\n",
       "      <td>0</td>\n",
       "    </tr>\n",
       "    <tr>\n",
       "      <th>...</th>\n",
       "      <td>...</td>\n",
       "      <td>...</td>\n",
       "      <td>...</td>\n",
       "      <td>...</td>\n",
       "      <td>...</td>\n",
       "      <td>...</td>\n",
       "      <td>...</td>\n",
       "      <td>...</td>\n",
       "      <td>...</td>\n",
       "      <td>...</td>\n",
       "      <td>...</td>\n",
       "      <td>...</td>\n",
       "      <td>...</td>\n",
       "      <td>...</td>\n",
       "      <td>...</td>\n",
       "      <td>...</td>\n",
       "      <td>...</td>\n",
       "      <td>...</td>\n",
       "      <td>...</td>\n",
       "    </tr>\n",
       "    <tr>\n",
       "      <th>316795</th>\n",
       "      <td>0</td>\n",
       "      <td>0</td>\n",
       "      <td>0</td>\n",
       "      <td>0</td>\n",
       "      <td>1</td>\n",
       "      <td>0</td>\n",
       "      <td>0</td>\n",
       "      <td>0</td>\n",
       "      <td>1</td>\n",
       "      <td>0</td>\n",
       "      <td>0</td>\n",
       "      <td>0</td>\n",
       "      <td>0</td>\n",
       "      <td>1</td>\n",
       "      <td>0</td>\n",
       "      <td>0</td>\n",
       "      <td>0</td>\n",
       "      <td>0</td>\n",
       "      <td>0</td>\n",
       "    </tr>\n",
       "    <tr>\n",
       "      <th>316796</th>\n",
       "      <td>0</td>\n",
       "      <td>0</td>\n",
       "      <td>0</td>\n",
       "      <td>0</td>\n",
       "      <td>1</td>\n",
       "      <td>0</td>\n",
       "      <td>0</td>\n",
       "      <td>0</td>\n",
       "      <td>1</td>\n",
       "      <td>0</td>\n",
       "      <td>0</td>\n",
       "      <td>0</td>\n",
       "      <td>0</td>\n",
       "      <td>1</td>\n",
       "      <td>0</td>\n",
       "      <td>0</td>\n",
       "      <td>0</td>\n",
       "      <td>0</td>\n",
       "      <td>0</td>\n",
       "    </tr>\n",
       "    <tr>\n",
       "      <th>316797</th>\n",
       "      <td>0</td>\n",
       "      <td>0</td>\n",
       "      <td>0</td>\n",
       "      <td>0</td>\n",
       "      <td>1</td>\n",
       "      <td>0</td>\n",
       "      <td>0</td>\n",
       "      <td>0</td>\n",
       "      <td>1</td>\n",
       "      <td>0</td>\n",
       "      <td>0</td>\n",
       "      <td>0</td>\n",
       "      <td>0</td>\n",
       "      <td>1</td>\n",
       "      <td>0</td>\n",
       "      <td>0</td>\n",
       "      <td>0</td>\n",
       "      <td>0</td>\n",
       "      <td>1</td>\n",
       "    </tr>\n",
       "    <tr>\n",
       "      <th>316798</th>\n",
       "      <td>0</td>\n",
       "      <td>0</td>\n",
       "      <td>0</td>\n",
       "      <td>0</td>\n",
       "      <td>1</td>\n",
       "      <td>0</td>\n",
       "      <td>0</td>\n",
       "      <td>0</td>\n",
       "      <td>1</td>\n",
       "      <td>0</td>\n",
       "      <td>0</td>\n",
       "      <td>0</td>\n",
       "      <td>0</td>\n",
       "      <td>1</td>\n",
       "      <td>0</td>\n",
       "      <td>0</td>\n",
       "      <td>0</td>\n",
       "      <td>0</td>\n",
       "      <td>1</td>\n",
       "    </tr>\n",
       "    <tr>\n",
       "      <th>316799</th>\n",
       "      <td>0</td>\n",
       "      <td>0</td>\n",
       "      <td>0</td>\n",
       "      <td>0</td>\n",
       "      <td>1</td>\n",
       "      <td>0</td>\n",
       "      <td>0</td>\n",
       "      <td>0</td>\n",
       "      <td>1</td>\n",
       "      <td>0</td>\n",
       "      <td>0</td>\n",
       "      <td>0</td>\n",
       "      <td>0</td>\n",
       "      <td>1</td>\n",
       "      <td>0</td>\n",
       "      <td>0</td>\n",
       "      <td>0</td>\n",
       "      <td>0</td>\n",
       "      <td>1</td>\n",
       "    </tr>\n",
       "  </tbody>\n",
       "</table>\n",
       "<p>316800 rows × 19 columns</p>\n",
       "</div>"
      ],
      "text/plain": [
       "        Tiredness  Dry-Cough  Difficulty-in-Breathing  Sore-Throat  \\\n",
       "0               1          1                        1            1   \n",
       "1               1          1                        1            1   \n",
       "2               1          1                        1            1   \n",
       "3               1          1                        1            1   \n",
       "4               1          1                        1            1   \n",
       "...           ...        ...                      ...          ...   \n",
       "316795          0          0                        0            0   \n",
       "316796          0          0                        0            0   \n",
       "316797          0          0                        0            0   \n",
       "316798          0          0                        0            0   \n",
       "316799          0          0                        0            0   \n",
       "\n",
       "        None_Sympton  Pains  Nasal-Congestion  Runny-Nose  None_Experiencing  \\\n",
       "0                  0      1                 1           1                  0   \n",
       "1                  0      1                 1           1                  0   \n",
       "2                  0      1                 1           1                  0   \n",
       "3                  0      1                 1           1                  0   \n",
       "4                  0      1                 1           1                  0   \n",
       "...              ...    ...               ...         ...                ...   \n",
       "316795             1      0                 0           0                  1   \n",
       "316796             1      0                 0           0                  1   \n",
       "316797             1      0                 0           0                  1   \n",
       "316798             1      0                 0           0                  1   \n",
       "316799             1      0                 0           0                  1   \n",
       "\n",
       "        Age_0-9  Age_10-19  Age_20-24  Age_25-59  Age_60+  Gender_Female  \\\n",
       "0             1          0          0          0        0              0   \n",
       "1             1          0          0          0        0              0   \n",
       "2             1          0          0          0        0              0   \n",
       "3             1          0          0          0        0              0   \n",
       "4             1          0          0          0        0              0   \n",
       "...         ...        ...        ...        ...      ...            ...   \n",
       "316795        0          0          0          0        1              0   \n",
       "316796        0          0          0          0        1              0   \n",
       "316797        0          0          0          0        1              0   \n",
       "316798        0          0          0          0        1              0   \n",
       "316799        0          0          0          0        1              0   \n",
       "\n",
       "        Gender_Male  Severity_Mild  Severity_Moderate  Severity_None  \n",
       "0                 1              1                  0              0  \n",
       "1                 1              1                  0              0  \n",
       "2                 1              1                  0              0  \n",
       "3                 1              0                  1              0  \n",
       "4                 1              0                  1              0  \n",
       "...             ...            ...                ...            ...  \n",
       "316795            0              0                  0              0  \n",
       "316796            0              0                  0              0  \n",
       "316797            0              0                  0              1  \n",
       "316798            0              0                  0              1  \n",
       "316799            0              0                  0              1  \n",
       "\n",
       "[316800 rows x 19 columns]"
      ]
     },
     "execution_count": 3,
     "metadata": {},
     "output_type": "execute_result"
    }
   ],
   "source": [
    "df"
   ]
  },
  {
   "cell_type": "code",
   "execution_count": 4,
   "metadata": {
    "execution": {
     "iopub.execute_input": "2023-10-16T02:50:04.544469Z",
     "iopub.status.busy": "2023-10-16T02:50:04.544181Z",
     "iopub.status.idle": "2023-10-16T02:50:14.215125Z",
     "shell.execute_reply": "2023-10-16T02:50:14.214230Z"
    },
    "papermill": {
     "duration": 9.677522,
     "end_time": "2023-10-16T02:50:14.217011",
     "exception": false,
     "start_time": "2023-10-16T02:50:04.539489",
     "status": "completed"
    },
    "tags": []
   },
   "outputs": [],
   "source": [
    "import numpy as np\n",
    "import pandas as pd\n",
    "import matplotlib.pyplot as plt\n",
    "from sklearn.model_selection import train_test_split\n",
    "from sklearn.preprocessing import MinMaxScaler\n",
    "from sklearn.preprocessing import StandardScaler\n",
    "from tensorflow.keras.models import Sequential\n",
    "from tensorflow.keras.layers import Dense\n",
    "from sklearn.linear_model import LinearRegression\n",
    "from sklearn.metrics import r2_score"
   ]
  },
  {
   "cell_type": "code",
   "execution_count": 5,
   "metadata": {
    "execution": {
     "iopub.execute_input": "2023-10-16T02:50:14.226267Z",
     "iopub.status.busy": "2023-10-16T02:50:14.225732Z",
     "iopub.status.idle": "2023-10-16T02:50:14.231757Z",
     "shell.execute_reply": "2023-10-16T02:50:14.230929Z"
    },
    "papermill": {
     "duration": 0.012472,
     "end_time": "2023-10-16T02:50:14.233555",
     "exception": false,
     "start_time": "2023-10-16T02:50:14.221083",
     "status": "completed"
    },
    "tags": []
   },
   "outputs": [
    {
     "data": {
      "text/plain": [
       "(316800, 19)"
      ]
     },
     "execution_count": 5,
     "metadata": {},
     "output_type": "execute_result"
    }
   ],
   "source": [
    "df.shape"
   ]
  },
  {
   "cell_type": "code",
   "execution_count": 8,
   "metadata": {
    "execution": {
     "iopub.execute_input": "2023-10-16T02:50:14.243156Z",
     "iopub.status.busy": "2023-10-16T02:50:14.242791Z",
     "iopub.status.idle": "2023-10-16T02:50:14.272362Z",
     "shell.execute_reply": "2023-10-16T02:50:14.271402Z"
    },
    "papermill": {
     "duration": 0.036614,
     "end_time": "2023-10-16T02:50:14.274193",
     "exception": false,
     "start_time": "2023-10-16T02:50:14.237579",
     "status": "completed"
    },
    "tags": []
   },
   "outputs": [
    {
     "name": "stdout",
     "output_type": "stream",
     "text": [
      "<class 'pandas.core.frame.DataFrame'>\n",
      "RangeIndex: 316800 entries, 0 to 316799\n",
      "Data columns (total 19 columns):\n",
      " #   Column                   Non-Null Count   Dtype\n",
      "---  ------                   --------------   -----\n",
      " 0   Tiredness                316800 non-null  int64\n",
      " 1   Dry-Cough                316800 non-null  int64\n",
      " 2   Difficulty-in-Breathing  316800 non-null  int64\n",
      " 3   Sore-Throat              316800 non-null  int64\n",
      " 4   None_Sympton             316800 non-null  int64\n",
      " 5   Pains                    316800 non-null  int64\n",
      " 6   Nasal-Congestion         316800 non-null  int64\n",
      " 7   Runny-Nose               316800 non-null  int64\n",
      " 8   None_Experiencing        316800 non-null  int64\n",
      " 9   Age_0-9                  316800 non-null  int64\n",
      " 10  Age_10-19                316800 non-null  int64\n",
      " 11  Age_20-24                316800 non-null  int64\n",
      " 12  Age_25-59                316800 non-null  int64\n",
      " 13  Age_60+                  316800 non-null  int64\n",
      " 14  Gender_Female            316800 non-null  int64\n",
      " 15  Gender_Male              316800 non-null  int64\n",
      " 16  Severity_Mild            316800 non-null  int64\n",
      " 17  Severity_Moderate        316800 non-null  int64\n",
      " 18  Severity_None            316800 non-null  int64\n",
      "dtypes: int64(19)\n",
      "memory usage: 45.9 MB\n"
     ]
    }
   ],
   "source": [
    "df.info()"
   ]
  },
  {
   "cell_type": "code",
   "execution_count": 9,
   "metadata": {
    "execution": {
     "iopub.execute_input": "2023-10-16T02:50:14.283609Z",
     "iopub.status.busy": "2023-10-16T02:50:14.283335Z",
     "iopub.status.idle": "2023-10-16T02:50:14.293384Z",
     "shell.execute_reply": "2023-10-16T02:50:14.292458Z"
    },
    "papermill": {
     "duration": 0.016655,
     "end_time": "2023-10-16T02:50:14.294971",
     "exception": false,
     "start_time": "2023-10-16T02:50:14.278316",
     "status": "completed"
    },
    "tags": []
   },
   "outputs": [
    {
     "data": {
      "text/plain": [
       "Tiredness                  0\n",
       "Dry-Cough                  0\n",
       "Difficulty-in-Breathing    0\n",
       "Sore-Throat                0\n",
       "None_Sympton               0\n",
       "Pains                      0\n",
       "Nasal-Congestion           0\n",
       "Runny-Nose                 0\n",
       "None_Experiencing          0\n",
       "Age_0-9                    0\n",
       "Age_10-19                  0\n",
       "Age_20-24                  0\n",
       "Age_25-59                  0\n",
       "Age_60+                    0\n",
       "Gender_Female              0\n",
       "Gender_Male                0\n",
       "Severity_Mild              0\n",
       "Severity_Moderate          0\n",
       "Severity_None              0\n",
       "dtype: int64"
      ]
     },
     "execution_count": 9,
     "metadata": {},
     "output_type": "execute_result"
    }
   ],
   "source": [
    "df.isnull().sum()"
   ]
  },
  {
   "cell_type": "code",
   "execution_count": 10,
   "metadata": {
    "execution": {
     "iopub.execute_input": "2023-10-16T02:50:14.305093Z",
     "iopub.status.busy": "2023-10-16T02:50:14.304760Z",
     "iopub.status.idle": "2023-10-16T02:50:14.312767Z",
     "shell.execute_reply": "2023-10-16T02:50:14.312195Z"
    },
    "papermill": {
     "duration": 0.014709,
     "end_time": "2023-10-16T02:50:14.314271",
     "exception": false,
     "start_time": "2023-10-16T02:50:14.299562",
     "status": "completed"
    },
    "tags": []
   },
   "outputs": [
    {
     "data": {
      "text/plain": [
       "0"
      ]
     },
     "execution_count": 10,
     "metadata": {},
     "output_type": "execute_result"
    }
   ],
   "source": [
    "df.isnull().sum().sum()"
   ]
  },
  {
   "cell_type": "code",
   "execution_count": 11,
   "metadata": {
    "execution": {
     "iopub.execute_input": "2023-10-16T02:50:14.323667Z",
     "iopub.status.busy": "2023-10-16T02:50:14.323308Z",
     "iopub.status.idle": "2023-10-16T02:50:14.344216Z",
     "shell.execute_reply": "2023-10-16T02:50:14.342814Z"
    },
    "papermill": {
     "duration": 0.027815,
     "end_time": "2023-10-16T02:50:14.346237",
     "exception": false,
     "start_time": "2023-10-16T02:50:14.318422",
     "status": "completed"
    },
    "tags": []
   },
   "outputs": [],
   "source": [
    "target = 'Difficulty-in-Breathing'\n",
    "X = df.drop(target , axis= 1)\n",
    "y= df[target]"
   ]
  },
  {
   "cell_type": "code",
   "execution_count": 12,
   "metadata": {
    "execution": {
     "iopub.execute_input": "2023-10-16T02:50:14.356051Z",
     "iopub.status.busy": "2023-10-16T02:50:14.355727Z",
     "iopub.status.idle": "2023-10-16T02:50:14.371251Z",
     "shell.execute_reply": "2023-10-16T02:50:14.370328Z"
    },
    "papermill": {
     "duration": 0.0221,
     "end_time": "2023-10-16T02:50:14.372779",
     "exception": false,
     "start_time": "2023-10-16T02:50:14.350679",
     "status": "completed"
    },
    "tags": []
   },
   "outputs": [
    {
     "data": {
      "text/html": [
       "<div>\n",
       "<style scoped>\n",
       "    .dataframe tbody tr th:only-of-type {\n",
       "        vertical-align: middle;\n",
       "    }\n",
       "\n",
       "    .dataframe tbody tr th {\n",
       "        vertical-align: top;\n",
       "    }\n",
       "\n",
       "    .dataframe thead th {\n",
       "        text-align: right;\n",
       "    }\n",
       "</style>\n",
       "<table border=\"1\" class=\"dataframe\">\n",
       "  <thead>\n",
       "    <tr style=\"text-align: right;\">\n",
       "      <th></th>\n",
       "      <th>Tiredness</th>\n",
       "      <th>Dry-Cough</th>\n",
       "      <th>Sore-Throat</th>\n",
       "      <th>None_Sympton</th>\n",
       "      <th>Pains</th>\n",
       "      <th>Nasal-Congestion</th>\n",
       "      <th>Runny-Nose</th>\n",
       "      <th>None_Experiencing</th>\n",
       "      <th>Age_0-9</th>\n",
       "      <th>Age_10-19</th>\n",
       "      <th>Age_20-24</th>\n",
       "      <th>Age_25-59</th>\n",
       "      <th>Age_60+</th>\n",
       "      <th>Gender_Female</th>\n",
       "      <th>Gender_Male</th>\n",
       "      <th>Severity_Mild</th>\n",
       "      <th>Severity_Moderate</th>\n",
       "      <th>Severity_None</th>\n",
       "    </tr>\n",
       "  </thead>\n",
       "  <tbody>\n",
       "    <tr>\n",
       "      <th>0</th>\n",
       "      <td>1</td>\n",
       "      <td>1</td>\n",
       "      <td>1</td>\n",
       "      <td>0</td>\n",
       "      <td>1</td>\n",
       "      <td>1</td>\n",
       "      <td>1</td>\n",
       "      <td>0</td>\n",
       "      <td>1</td>\n",
       "      <td>0</td>\n",
       "      <td>0</td>\n",
       "      <td>0</td>\n",
       "      <td>0</td>\n",
       "      <td>0</td>\n",
       "      <td>1</td>\n",
       "      <td>1</td>\n",
       "      <td>0</td>\n",
       "      <td>0</td>\n",
       "    </tr>\n",
       "    <tr>\n",
       "      <th>1</th>\n",
       "      <td>1</td>\n",
       "      <td>1</td>\n",
       "      <td>1</td>\n",
       "      <td>0</td>\n",
       "      <td>1</td>\n",
       "      <td>1</td>\n",
       "      <td>1</td>\n",
       "      <td>0</td>\n",
       "      <td>1</td>\n",
       "      <td>0</td>\n",
       "      <td>0</td>\n",
       "      <td>0</td>\n",
       "      <td>0</td>\n",
       "      <td>0</td>\n",
       "      <td>1</td>\n",
       "      <td>1</td>\n",
       "      <td>0</td>\n",
       "      <td>0</td>\n",
       "    </tr>\n",
       "    <tr>\n",
       "      <th>2</th>\n",
       "      <td>1</td>\n",
       "      <td>1</td>\n",
       "      <td>1</td>\n",
       "      <td>0</td>\n",
       "      <td>1</td>\n",
       "      <td>1</td>\n",
       "      <td>1</td>\n",
       "      <td>0</td>\n",
       "      <td>1</td>\n",
       "      <td>0</td>\n",
       "      <td>0</td>\n",
       "      <td>0</td>\n",
       "      <td>0</td>\n",
       "      <td>0</td>\n",
       "      <td>1</td>\n",
       "      <td>1</td>\n",
       "      <td>0</td>\n",
       "      <td>0</td>\n",
       "    </tr>\n",
       "    <tr>\n",
       "      <th>3</th>\n",
       "      <td>1</td>\n",
       "      <td>1</td>\n",
       "      <td>1</td>\n",
       "      <td>0</td>\n",
       "      <td>1</td>\n",
       "      <td>1</td>\n",
       "      <td>1</td>\n",
       "      <td>0</td>\n",
       "      <td>1</td>\n",
       "      <td>0</td>\n",
       "      <td>0</td>\n",
       "      <td>0</td>\n",
       "      <td>0</td>\n",
       "      <td>0</td>\n",
       "      <td>1</td>\n",
       "      <td>0</td>\n",
       "      <td>1</td>\n",
       "      <td>0</td>\n",
       "    </tr>\n",
       "    <tr>\n",
       "      <th>4</th>\n",
       "      <td>1</td>\n",
       "      <td>1</td>\n",
       "      <td>1</td>\n",
       "      <td>0</td>\n",
       "      <td>1</td>\n",
       "      <td>1</td>\n",
       "      <td>1</td>\n",
       "      <td>0</td>\n",
       "      <td>1</td>\n",
       "      <td>0</td>\n",
       "      <td>0</td>\n",
       "      <td>0</td>\n",
       "      <td>0</td>\n",
       "      <td>0</td>\n",
       "      <td>1</td>\n",
       "      <td>0</td>\n",
       "      <td>1</td>\n",
       "      <td>0</td>\n",
       "    </tr>\n",
       "    <tr>\n",
       "      <th>...</th>\n",
       "      <td>...</td>\n",
       "      <td>...</td>\n",
       "      <td>...</td>\n",
       "      <td>...</td>\n",
       "      <td>...</td>\n",
       "      <td>...</td>\n",
       "      <td>...</td>\n",
       "      <td>...</td>\n",
       "      <td>...</td>\n",
       "      <td>...</td>\n",
       "      <td>...</td>\n",
       "      <td>...</td>\n",
       "      <td>...</td>\n",
       "      <td>...</td>\n",
       "      <td>...</td>\n",
       "      <td>...</td>\n",
       "      <td>...</td>\n",
       "      <td>...</td>\n",
       "    </tr>\n",
       "    <tr>\n",
       "      <th>316795</th>\n",
       "      <td>0</td>\n",
       "      <td>0</td>\n",
       "      <td>0</td>\n",
       "      <td>1</td>\n",
       "      <td>0</td>\n",
       "      <td>0</td>\n",
       "      <td>0</td>\n",
       "      <td>1</td>\n",
       "      <td>0</td>\n",
       "      <td>0</td>\n",
       "      <td>0</td>\n",
       "      <td>0</td>\n",
       "      <td>1</td>\n",
       "      <td>0</td>\n",
       "      <td>0</td>\n",
       "      <td>0</td>\n",
       "      <td>0</td>\n",
       "      <td>0</td>\n",
       "    </tr>\n",
       "    <tr>\n",
       "      <th>316796</th>\n",
       "      <td>0</td>\n",
       "      <td>0</td>\n",
       "      <td>0</td>\n",
       "      <td>1</td>\n",
       "      <td>0</td>\n",
       "      <td>0</td>\n",
       "      <td>0</td>\n",
       "      <td>1</td>\n",
       "      <td>0</td>\n",
       "      <td>0</td>\n",
       "      <td>0</td>\n",
       "      <td>0</td>\n",
       "      <td>1</td>\n",
       "      <td>0</td>\n",
       "      <td>0</td>\n",
       "      <td>0</td>\n",
       "      <td>0</td>\n",
       "      <td>0</td>\n",
       "    </tr>\n",
       "    <tr>\n",
       "      <th>316797</th>\n",
       "      <td>0</td>\n",
       "      <td>0</td>\n",
       "      <td>0</td>\n",
       "      <td>1</td>\n",
       "      <td>0</td>\n",
       "      <td>0</td>\n",
       "      <td>0</td>\n",
       "      <td>1</td>\n",
       "      <td>0</td>\n",
       "      <td>0</td>\n",
       "      <td>0</td>\n",
       "      <td>0</td>\n",
       "      <td>1</td>\n",
       "      <td>0</td>\n",
       "      <td>0</td>\n",
       "      <td>0</td>\n",
       "      <td>0</td>\n",
       "      <td>1</td>\n",
       "    </tr>\n",
       "    <tr>\n",
       "      <th>316798</th>\n",
       "      <td>0</td>\n",
       "      <td>0</td>\n",
       "      <td>0</td>\n",
       "      <td>1</td>\n",
       "      <td>0</td>\n",
       "      <td>0</td>\n",
       "      <td>0</td>\n",
       "      <td>1</td>\n",
       "      <td>0</td>\n",
       "      <td>0</td>\n",
       "      <td>0</td>\n",
       "      <td>0</td>\n",
       "      <td>1</td>\n",
       "      <td>0</td>\n",
       "      <td>0</td>\n",
       "      <td>0</td>\n",
       "      <td>0</td>\n",
       "      <td>1</td>\n",
       "    </tr>\n",
       "    <tr>\n",
       "      <th>316799</th>\n",
       "      <td>0</td>\n",
       "      <td>0</td>\n",
       "      <td>0</td>\n",
       "      <td>1</td>\n",
       "      <td>0</td>\n",
       "      <td>0</td>\n",
       "      <td>0</td>\n",
       "      <td>1</td>\n",
       "      <td>0</td>\n",
       "      <td>0</td>\n",
       "      <td>0</td>\n",
       "      <td>0</td>\n",
       "      <td>1</td>\n",
       "      <td>0</td>\n",
       "      <td>0</td>\n",
       "      <td>0</td>\n",
       "      <td>0</td>\n",
       "      <td>1</td>\n",
       "    </tr>\n",
       "  </tbody>\n",
       "</table>\n",
       "<p>316800 rows × 18 columns</p>\n",
       "</div>"
      ],
      "text/plain": [
       "        Tiredness  Dry-Cough  Sore-Throat  None_Sympton  Pains  \\\n",
       "0               1          1            1             0      1   \n",
       "1               1          1            1             0      1   \n",
       "2               1          1            1             0      1   \n",
       "3               1          1            1             0      1   \n",
       "4               1          1            1             0      1   \n",
       "...           ...        ...          ...           ...    ...   \n",
       "316795          0          0            0             1      0   \n",
       "316796          0          0            0             1      0   \n",
       "316797          0          0            0             1      0   \n",
       "316798          0          0            0             1      0   \n",
       "316799          0          0            0             1      0   \n",
       "\n",
       "        Nasal-Congestion  Runny-Nose  None_Experiencing  Age_0-9  Age_10-19  \\\n",
       "0                      1           1                  0        1          0   \n",
       "1                      1           1                  0        1          0   \n",
       "2                      1           1                  0        1          0   \n",
       "3                      1           1                  0        1          0   \n",
       "4                      1           1                  0        1          0   \n",
       "...                  ...         ...                ...      ...        ...   \n",
       "316795                 0           0                  1        0          0   \n",
       "316796                 0           0                  1        0          0   \n",
       "316797                 0           0                  1        0          0   \n",
       "316798                 0           0                  1        0          0   \n",
       "316799                 0           0                  1        0          0   \n",
       "\n",
       "        Age_20-24  Age_25-59  Age_60+  Gender_Female  Gender_Male  \\\n",
       "0               0          0        0              0            1   \n",
       "1               0          0        0              0            1   \n",
       "2               0          0        0              0            1   \n",
       "3               0          0        0              0            1   \n",
       "4               0          0        0              0            1   \n",
       "...           ...        ...      ...            ...          ...   \n",
       "316795          0          0        1              0            0   \n",
       "316796          0          0        1              0            0   \n",
       "316797          0          0        1              0            0   \n",
       "316798          0          0        1              0            0   \n",
       "316799          0          0        1              0            0   \n",
       "\n",
       "        Severity_Mild  Severity_Moderate  Severity_None  \n",
       "0                   1                  0              0  \n",
       "1                   1                  0              0  \n",
       "2                   1                  0              0  \n",
       "3                   0                  1              0  \n",
       "4                   0                  1              0  \n",
       "...               ...                ...            ...  \n",
       "316795              0                  0              0  \n",
       "316796              0                  0              0  \n",
       "316797              0                  0              1  \n",
       "316798              0                  0              1  \n",
       "316799              0                  0              1  \n",
       "\n",
       "[316800 rows x 18 columns]"
      ]
     },
     "execution_count": 12,
     "metadata": {},
     "output_type": "execute_result"
    }
   ],
   "source": [
    "X"
   ]
  },
  {
   "cell_type": "code",
   "execution_count": 13,
   "metadata": {
    "execution": {
     "iopub.execute_input": "2023-10-16T02:50:14.382483Z",
     "iopub.status.busy": "2023-10-16T02:50:14.382218Z",
     "iopub.status.idle": "2023-10-16T02:50:14.388631Z",
     "shell.execute_reply": "2023-10-16T02:50:14.387994Z"
    },
    "papermill": {
     "duration": 0.012646,
     "end_time": "2023-10-16T02:50:14.389866",
     "exception": false,
     "start_time": "2023-10-16T02:50:14.377220",
     "status": "completed"
    },
    "tags": []
   },
   "outputs": [
    {
     "data": {
      "text/plain": [
       "0         1\n",
       "1         1\n",
       "2         1\n",
       "3         1\n",
       "4         1\n",
       "         ..\n",
       "316795    0\n",
       "316796    0\n",
       "316797    0\n",
       "316798    0\n",
       "316799    0\n",
       "Name: Difficulty-in-Breathing, Length: 316800, dtype: int64"
      ]
     },
     "execution_count": 13,
     "metadata": {},
     "output_type": "execute_result"
    }
   ],
   "source": [
    "y"
   ]
  },
  {
   "cell_type": "code",
   "execution_count": 14,
   "metadata": {
    "execution": {
     "iopub.execute_input": "2023-10-16T02:50:14.400191Z",
     "iopub.status.busy": "2023-10-16T02:50:14.399837Z",
     "iopub.status.idle": "2023-10-16T02:50:14.444324Z",
     "shell.execute_reply": "2023-10-16T02:50:14.443530Z"
    },
    "papermill": {
     "duration": 0.051775,
     "end_time": "2023-10-16T02:50:14.446099",
     "exception": false,
     "start_time": "2023-10-16T02:50:14.394324",
     "status": "completed"
    },
    "tags": []
   },
   "outputs": [],
   "source": [
    "scaler = MinMaxScaler()\n",
    "\n",
    "X = scaler.fit_transform(X)\n",
    "y = scaler.fit_transform(y.values.reshape(-1 , 1))"
   ]
  },
  {
   "cell_type": "code",
   "execution_count": 15,
   "metadata": {
    "execution": {
     "iopub.execute_input": "2023-10-16T02:50:14.456171Z",
     "iopub.status.busy": "2023-10-16T02:50:14.455869Z",
     "iopub.status.idle": "2023-10-16T02:50:14.460164Z",
     "shell.execute_reply": "2023-10-16T02:50:14.459180Z"
    },
    "papermill": {
     "duration": 0.011106,
     "end_time": "2023-10-16T02:50:14.461740",
     "exception": false,
     "start_time": "2023-10-16T02:50:14.450634",
     "status": "completed"
    },
    "tags": []
   },
   "outputs": [
    {
     "name": "stdout",
     "output_type": "stream",
     "text": [
      "The shape of X is (316800, 18)\n",
      "The shape of y is (316800, 1)\n"
     ]
    }
   ],
   "source": [
    "print(f'The shape of X is {X.shape}')\n",
    "print(f'The shape of y is {y.shape}')"
   ]
  },
  {
   "cell_type": "code",
   "execution_count": 16,
   "metadata": {
    "execution": {
     "iopub.execute_input": "2023-10-16T02:50:14.472483Z",
     "iopub.status.busy": "2023-10-16T02:50:14.472010Z",
     "iopub.status.idle": "2023-10-16T02:50:14.538772Z",
     "shell.execute_reply": "2023-10-16T02:50:14.537977Z"
    },
    "papermill": {
     "duration": 0.073912,
     "end_time": "2023-10-16T02:50:14.540374",
     "exception": false,
     "start_time": "2023-10-16T02:50:14.466462",
     "status": "completed"
    },
    "tags": []
   },
   "outputs": [
    {
     "name": "stdout",
     "output_type": "stream",
     "text": [
      "the shape of X train is (253440, 18)\n",
      "the shape of y train is (253440, 1)\n",
      "the shape of X test is (63360, 18)\n",
      "the shape of y test is (63360, 1)\n"
     ]
    }
   ],
   "source": [
    "X_train , X_test , y_train , y_test = train_test_split(X, y , test_size = 0.2 , random_state = 42)\n",
    "\n",
    "print(f'the shape of X train is {X_train.shape}')\n",
    "print(f'the shape of y train is {y_train.shape}')\n",
    "print(f'the shape of X test is {X_test.shape}')\n",
    "print(f'the shape of y test is {y_test.shape}')"
   ]
  },
  {
   "cell_type": "code",
   "execution_count": 17,
   "metadata": {
    "execution": {
     "iopub.execute_input": "2023-10-16T02:50:14.550860Z",
     "iopub.status.busy": "2023-10-16T02:50:14.550584Z",
     "iopub.status.idle": "2023-10-16T02:50:14.569760Z",
     "shell.execute_reply": "2023-10-16T02:50:14.568319Z"
    },
    "papermill": {
     "duration": 0.026402,
     "end_time": "2023-10-16T02:50:14.571561",
     "exception": false,
     "start_time": "2023-10-16T02:50:14.545159",
     "status": "completed"
    },
    "tags": []
   },
   "outputs": [
    {
     "name": "stdout",
     "output_type": "stream",
     "text": [
      "Mean apt price: 0.5000710227272728\n",
      "Baseline MAE: 0.49999998991154443\n"
     ]
    }
   ],
   "source": [
    "from sklearn.metrics import mean_absolute_error\n",
    "y_mean = y_train.mean()\n",
    "y_pred_baseline= [y_mean] * len(y_train)\n",
    "print(\"Mean apt price:\", y_mean)\n",
    "\n",
    "print(\"Baseline MAE:\",mean_absolute_error(y_train,y_pred_baseline))"
   ]
  },
  {
   "cell_type": "code",
   "execution_count": 18,
   "metadata": {
    "execution": {
     "iopub.execute_input": "2023-10-16T02:50:14.582319Z",
     "iopub.status.busy": "2023-10-16T02:50:14.581984Z",
     "iopub.status.idle": "2023-10-16T02:50:14.746771Z",
     "shell.execute_reply": "2023-10-16T02:50:14.745538Z"
    },
    "papermill": {
     "duration": 0.172763,
     "end_time": "2023-10-16T02:50:14.749055",
     "exception": false,
     "start_time": "2023-10-16T02:50:14.576292",
     "status": "completed"
    },
    "tags": []
   },
   "outputs": [
    {
     "name": "stdout",
     "output_type": "stream",
     "text": [
      "Model: \"sequential\"\n",
      "_________________________________________________________________\n",
      " Layer (type)                Output Shape              Param #   \n",
      "=================================================================\n",
      " dense (Dense)               (None, 10)                190       \n",
      "                                                                 \n",
      " dense_1 (Dense)             (None, 10)                110       \n",
      "                                                                 \n",
      " dense_2 (Dense)             (None, 1)                 11        \n",
      "                                                                 \n",
      "=================================================================\n",
      "Total params: 311\n",
      "Trainable params: 311\n",
      "Non-trainable params: 0\n",
      "_________________________________________________________________\n"
     ]
    }
   ],
   "source": [
    "model = Sequential()\n",
    "model.add(Dense(10, activation='relu', input_dim=18))\n",
    "model.add(Dense(10, activation='relu'))\n",
    "model.add(Dense(1, activation='linear'))\n",
    "\n",
    "model.compile(optimizer='adam', loss='mean_squared_error', metrics=['mean_absolute_error'])\n",
    "model.summary()"
   ]
  },
  {
   "cell_type": "code",
   "execution_count": null,
   "metadata": {
    "execution": {
     "iopub.execute_input": "2023-10-16T02:50:14.760602Z",
     "iopub.status.busy": "2023-10-16T02:50:14.760317Z",
     "iopub.status.idle": "2023-10-16T02:51:35.864054Z",
     "shell.execute_reply": "2023-10-16T02:51:35.862927Z"
    },
    "papermill": {
     "duration": 81.111218,
     "end_time": "2023-10-16T02:51:35.865561",
     "exception": false,
     "start_time": "2023-10-16T02:50:14.754343",
     "status": "completed"
    },
    "tags": []
   },
   "outputs": [
    {
     "name": "stdout",
     "output_type": "stream",
     "text": [
      "Epoch 1/10\n",
      "6336/6336 [==============================] - 23s 3ms/step - loss: 0.1707 - mean_absolute_error: 0.3427 - val_loss: 0.1586 - val_mean_absolute_error: 0.3230\n",
      "Epoch 2/10\n",
      "6336/6336 [==============================] - 19s 3ms/step - loss: 0.1574 - mean_absolute_error: 0.3219 - val_loss: 0.1603 - val_mean_absolute_error: 0.3334\n",
      "Epoch 3/10\n",
      "4650/6336 [=====================>........] - ETA: 4s - loss: 0.1571 - mean_absolute_error: 0.3206"
     ]
    }
   ],
   "source": [
    "history = model.fit(X_train , y_train , epochs = 10 , validation_split= 0.2)"
   ]
  },
  {
   "cell_type": "code",
   "execution_count": null,
   "metadata": {
    "execution": {
     "iopub.execute_input": "2023-10-16T02:51:36.021572Z",
     "iopub.status.busy": "2023-10-16T02:51:36.021274Z",
     "iopub.status.idle": "2023-10-16T02:51:36.468200Z",
     "shell.execute_reply": "2023-10-16T02:51:36.467401Z"
    },
    "papermill": {
     "duration": 0.503778,
     "end_time": "2023-10-16T02:51:36.469660",
     "exception": false,
     "start_time": "2023-10-16T02:51:35.965882",
     "status": "completed"
    },
    "tags": []
   },
   "outputs": [],
   "source": [
    "tr_acc = history.history['mean_absolute_error']\n",
    "tr_loss = history.history['loss']\n",
    "val_acc = history.history['val_mean_absolute_error']\n",
    "val_loss = history.history['val_loss']\n",
    "index_loss = np.argmin(val_loss)\n",
    "val_lowest = val_loss[index_loss]\n",
    "index_acc = np.argmin(val_acc)\n",
    "acc_highest = val_acc[index_acc]\n",
    "Epochs = [i+1 for i in range(len(tr_acc))]\n",
    "loss_label = f'best epoch= {str(index_loss + 1)}'\n",
    "acc_label = f'best epoch= {str(index_acc + 1)}'\n",
    "\n",
    "# Plot training history\n",
    "plt.figure(figsize= (20, 8))\n",
    "plt.style.use('fivethirtyeight')\n",
    "\n",
    "plt.subplot(1, 2, 1)\n",
    "plt.plot(Epochs, tr_loss, 'r', label= 'Training loss')\n",
    "plt.plot(Epochs, val_loss, 'g', label= 'Validation loss')\n",
    "plt.scatter(index_loss + 1, val_lowest, s= 150, c= 'blue', label= loss_label)\n",
    "plt.title('Training and Validation Loss')\n",
    "plt.xlabel('Epochs')\n",
    "plt.ylabel('Loss')\n",
    "plt.legend()\n",
    "\n",
    "plt.subplot(1, 2, 2)\n",
    "plt.plot(Epochs, tr_acc, 'r', label= 'Training Accuracy')\n",
    "plt.plot(Epochs, val_acc, 'g', label= 'Validation Accuracy')\n",
    "plt.scatter(index_acc + 1 , acc_highest, s= 150, c= 'blue', label= acc_label)\n",
    "plt.title('Training and Validation Accuracy')\n",
    "plt.xlabel('Epochs')\n",
    "plt.ylabel('Accuracy')\n",
    "plt.legend()\n",
    "\n",
    "plt.tight_layout\n",
    "plt.show()"
   ]
  },
  {
   "cell_type": "code",
   "execution_count": null,
   "metadata": {
    "execution": {
     "iopub.execute_input": "2023-10-16T02:51:36.578862Z",
     "iopub.status.busy": "2023-10-16T02:51:36.578538Z",
     "iopub.status.idle": "2023-10-16T02:51:39.212467Z",
     "shell.execute_reply": "2023-10-16T02:51:39.211833Z"
    },
    "papermill": {
     "duration": 2.690239,
     "end_time": "2023-10-16T02:51:39.214249",
     "exception": false,
     "start_time": "2023-10-16T02:51:36.524010",
     "status": "completed"
    },
    "tags": []
   },
   "outputs": [],
   "source": [
    "y_pred = model.predict(X_test)"
   ]
  },
  {
   "cell_type": "code",
   "execution_count": null,
   "metadata": {
    "execution": {
     "iopub.execute_input": "2023-10-16T02:51:39.330661Z",
     "iopub.status.busy": "2023-10-16T02:51:39.330186Z",
     "iopub.status.idle": "2023-10-16T02:51:39.333454Z",
     "shell.execute_reply": "2023-10-16T02:51:39.332655Z"
    },
    "papermill": {
     "duration": 0.063658,
     "end_time": "2023-10-16T02:51:39.334893",
     "exception": false,
     "start_time": "2023-10-16T02:51:39.271235",
     "status": "completed"
    },
    "tags": []
   },
   "outputs": [],
   "source": [
    "from sklearn.metrics import r2_score"
   ]
  },
  {
   "cell_type": "code",
   "execution_count": null,
   "metadata": {
    "execution": {
     "iopub.execute_input": "2023-10-16T02:51:39.447887Z",
     "iopub.status.busy": "2023-10-16T02:51:39.447585Z",
     "iopub.status.idle": "2023-10-16T02:51:39.456648Z",
     "shell.execute_reply": "2023-10-16T02:51:39.455440Z"
    },
    "papermill": {
     "duration": 0.067246,
     "end_time": "2023-10-16T02:51:39.458422",
     "exception": false,
     "start_time": "2023-10-16T02:51:39.391176",
     "status": "completed"
    },
    "tags": []
   },
   "outputs": [],
   "source": [
    "test_acc = r2_score(y_test , y_pred)\n",
    "print(f'R2 Score = {test_acc}')"
   ]
  },
  {
   "cell_type": "code",
   "execution_count": null,
   "metadata": {
    "execution": {
     "iopub.execute_input": "2023-10-16T02:51:39.574070Z",
     "iopub.status.busy": "2023-10-16T02:51:39.573785Z",
     "iopub.status.idle": "2023-10-16T02:51:39.619329Z",
     "shell.execute_reply": "2023-10-16T02:51:39.618413Z"
    },
    "papermill": {
     "duration": 0.105019,
     "end_time": "2023-10-16T02:51:39.621219",
     "exception": false,
     "start_time": "2023-10-16T02:51:39.516200",
     "status": "completed"
    },
    "tags": []
   },
   "outputs": [],
   "source": [
    "import keras\n",
    "from keras.models import Sequential\n",
    "from keras.layers import Dense #sparse or dense\n",
    "from keras.layers import LeakyReLU,PReLU,ELU # activation functions\n",
    "\n",
    "\n",
    "# intialize the empty artifical neural network without inputs and outputs\n",
    "classifier=Sequential()\n",
    "\n",
    "\n",
    "# adding the input layer and the first hidden layer\n",
    "classifier.add(Dense(units =4, kernel_initializer = 'he_uniform',activation='relu',input_dim = 18)) #units are output dimension(neurons),keral_intializers are weight intilalization Technqiues\n",
    "\n",
    "\n",
    "\n",
    "# adding the second input layer and the first hidden layer\n",
    "classifier.add(Dense(units = 4, kernel_initializer = 'he_uniform',activation='relu')) # for relu u can use he_uniform, he_normal\n",
    "\n",
    "\n",
    "# adding the output layer\n",
    "classifier.add(Dense(units=1,kernel_initializer='glorot_uniform',activation=\"relu\")) # for sigmoid we have to use weight intialzers as a glorot\n",
    "\n",
    "\n",
    "\n",
    "# relu actiavtion function will be used in output layers if your ouptut is binary classification\n",
    "\n",
    "\n",
    "#compling the ANN\n",
    "classifier.compile(optimizer='Adamax',loss=\"binary_crossentropy\",metrics=[\"mae\"])"
   ]
  },
  {
   "cell_type": "code",
   "execution_count": null,
   "metadata": {
    "execution": {
     "iopub.execute_input": "2023-10-16T02:51:39.736458Z",
     "iopub.status.busy": "2023-10-16T02:51:39.736144Z",
     "iopub.status.idle": "2023-10-16T02:53:54.639529Z",
     "shell.execute_reply": "2023-10-16T02:53:54.638667Z"
    },
    "papermill": {
     "duration": 134.962809,
     "end_time": "2023-10-16T02:53:54.641325",
     "exception": false,
     "start_time": "2023-10-16T02:51:39.678516",
     "status": "completed"
    },
    "tags": []
   },
   "outputs": [],
   "source": [
    "annhistory=classifier.fit(X_train,y_train,validation_split=.33,batch_size=10,epochs=5)"
   ]
  },
  {
   "cell_type": "code",
   "execution_count": null,
   "metadata": {
    "execution": {
     "iopub.execute_input": "2023-10-16T02:53:54.947796Z",
     "iopub.status.busy": "2023-10-16T02:53:54.947539Z",
     "iopub.status.idle": "2023-10-16T02:53:55.307708Z",
     "shell.execute_reply": "2023-10-16T02:53:55.306663Z"
    },
    "papermill": {
     "duration": 0.538344,
     "end_time": "2023-10-16T02:53:55.309284",
     "exception": false,
     "start_time": "2023-10-16T02:53:54.770940",
     "status": "completed"
    },
    "tags": []
   },
   "outputs": [],
   "source": [
    "plt.plot(annhistory.history['mae'])\n",
    "plt.plot(annhistory.history['val_mae'])\n",
    "plt.title('model accuracy')\n",
    "plt.ylabel('accuracy')\n",
    "plt.xlabel('epoch')\n",
    "plt.legend(['train', 'test'], loc='upper left')\n",
    "plt.show()\n",
    "\n",
    "# summarize history for loss\n",
    "plt.plot(annhistory.history['loss'])\n",
    "plt.plot(annhistory.history['val_loss'])\n",
    "plt.title('model loss')\n",
    "plt.ylabel('loss')\n",
    "plt.xlabel('epoch')\n",
    "plt.legend(['train', 'test'], loc='upper left')\n",
    "plt.show()"
   ]
  },
  {
   "cell_type": "code",
   "execution_count": null,
   "metadata": {},
   "outputs": [],
   "source": []
  },
  {
   "cell_type": "code",
   "execution_count": null,
   "metadata": {},
   "outputs": [],
   "source": []
  },
  {
   "cell_type": "code",
   "execution_count": null,
   "metadata": {},
   "outputs": [],
   "source": []
  },
  {
   "cell_type": "code",
   "execution_count": null,
   "metadata": {},
   "outputs": [],
   "source": []
  }
 ],
 "metadata": {
  "kernelspec": {
   "display_name": "Python 3 (ipykernel)",
   "language": "python",
   "name": "python3"
  },
  "language_info": {
   "codemirror_mode": {
    "name": "ipython",
    "version": 3
   },
   "file_extension": ".py",
   "mimetype": "text/x-python",
   "name": "python",
   "nbconvert_exporter": "python",
   "pygments_lexer": "ipython3",
   "version": "3.8.10"
  },
  "papermill": {
   "default_parameters": {},
   "duration": 236.96608,
   "end_time": "2023-10-16T02:53:56.856872",
   "environment_variables": {},
   "exception": null,
   "input_path": "__notebook__.ipynb",
   "output_path": "__notebook__.ipynb",
   "parameters": {},
   "start_time": "2023-10-16T02:49:59.890792",
   "version": "2.4.0"
  }
 },
 "nbformat": 4,
 "nbformat_minor": 5
}
