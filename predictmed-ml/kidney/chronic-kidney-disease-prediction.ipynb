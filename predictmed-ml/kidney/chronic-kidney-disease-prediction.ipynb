{
 "cells": [
  {
   "cell_type": "code",
   "execution_count": 110,
   "metadata": {
    "execution": {
     "iopub.execute_input": "2022-05-05T08:15:45.257281Z",
     "iopub.status.busy": "2022-05-05T08:15:45.256747Z",
     "iopub.status.idle": "2022-05-05T08:15:46.569258Z",
     "shell.execute_reply": "2022-05-05T08:15:46.568364Z"
    },
    "papermill": {
     "duration": 1.41337,
     "end_time": "2022-05-05T08:15:46.572527",
     "exception": false,
     "start_time": "2022-05-05T08:15:45.159157",
     "status": "completed"
    },
    "tags": []
   },
   "outputs": [],
   "source": [
    "# Importing the libraries\n",
    "import pandas as pd\n",
    "import matplotlib.pyplot as plt\n",
    "import numpy as np\n",
    "import seaborn as sns\n",
    "from sklearn.model_selection import train_test_split\n",
    "from sklearn.ensemble import RandomForestClassifier\n",
    "from sklearn.metrics import roc_curve, auc, confusion_matrix, classification_report,accuracy_score\n",
    "from sklearn.linear_model import LogisticRegression\n",
    "from sklearn.tree import DecisionTreeClassifier\n",
    "from sklearn.neighbors import KNeighborsClassifier"
   ]
  },
  {
   "cell_type": "code",
   "execution_count": 111,
   "metadata": {
    "execution": {
     "iopub.execute_input": "2022-05-05T08:15:46.777874Z",
     "iopub.status.busy": "2022-05-05T08:15:46.777113Z",
     "iopub.status.idle": "2022-05-05T08:15:46.857201Z",
     "shell.execute_reply": "2022-05-05T08:15:46.856291Z"
    },
    "papermill": {
     "duration": 0.184457,
     "end_time": "2022-05-05T08:15:46.860636",
     "exception": false,
     "start_time": "2022-05-05T08:15:46.676179",
     "status": "completed"
    },
    "tags": []
   },
   "outputs": [
    {
     "data": {
      "text/html": [
       "<div>\n",
       "<style scoped>\n",
       "    .dataframe tbody tr th:only-of-type {\n",
       "        vertical-align: middle;\n",
       "    }\n",
       "\n",
       "    .dataframe tbody tr th {\n",
       "        vertical-align: top;\n",
       "    }\n",
       "\n",
       "    .dataframe thead th {\n",
       "        text-align: right;\n",
       "    }\n",
       "</style>\n",
       "<table border=\"1\" class=\"dataframe\">\n",
       "  <thead>\n",
       "    <tr style=\"text-align: right;\">\n",
       "      <th></th>\n",
       "      <th>id</th>\n",
       "      <th>age</th>\n",
       "      <th>bp</th>\n",
       "      <th>sg</th>\n",
       "      <th>al</th>\n",
       "      <th>su</th>\n",
       "      <th>rbc</th>\n",
       "      <th>pc</th>\n",
       "      <th>pcc</th>\n",
       "      <th>ba</th>\n",
       "      <th>...</th>\n",
       "      <th>pcv</th>\n",
       "      <th>wc</th>\n",
       "      <th>rc</th>\n",
       "      <th>htn</th>\n",
       "      <th>dm</th>\n",
       "      <th>cad</th>\n",
       "      <th>appet</th>\n",
       "      <th>pe</th>\n",
       "      <th>ane</th>\n",
       "      <th>classification</th>\n",
       "    </tr>\n",
       "  </thead>\n",
       "  <tbody>\n",
       "    <tr>\n",
       "      <th>0</th>\n",
       "      <td>0</td>\n",
       "      <td>48.0</td>\n",
       "      <td>80.0</td>\n",
       "      <td>1.020</td>\n",
       "      <td>1.0</td>\n",
       "      <td>0.0</td>\n",
       "      <td>NaN</td>\n",
       "      <td>normal</td>\n",
       "      <td>notpresent</td>\n",
       "      <td>notpresent</td>\n",
       "      <td>...</td>\n",
       "      <td>44</td>\n",
       "      <td>7800</td>\n",
       "      <td>5.2</td>\n",
       "      <td>yes</td>\n",
       "      <td>yes</td>\n",
       "      <td>no</td>\n",
       "      <td>good</td>\n",
       "      <td>no</td>\n",
       "      <td>no</td>\n",
       "      <td>ckd</td>\n",
       "    </tr>\n",
       "    <tr>\n",
       "      <th>1</th>\n",
       "      <td>1</td>\n",
       "      <td>7.0</td>\n",
       "      <td>50.0</td>\n",
       "      <td>1.020</td>\n",
       "      <td>4.0</td>\n",
       "      <td>0.0</td>\n",
       "      <td>NaN</td>\n",
       "      <td>normal</td>\n",
       "      <td>notpresent</td>\n",
       "      <td>notpresent</td>\n",
       "      <td>...</td>\n",
       "      <td>38</td>\n",
       "      <td>6000</td>\n",
       "      <td>NaN</td>\n",
       "      <td>no</td>\n",
       "      <td>no</td>\n",
       "      <td>no</td>\n",
       "      <td>good</td>\n",
       "      <td>no</td>\n",
       "      <td>no</td>\n",
       "      <td>ckd</td>\n",
       "    </tr>\n",
       "    <tr>\n",
       "      <th>2</th>\n",
       "      <td>2</td>\n",
       "      <td>62.0</td>\n",
       "      <td>80.0</td>\n",
       "      <td>1.010</td>\n",
       "      <td>2.0</td>\n",
       "      <td>3.0</td>\n",
       "      <td>normal</td>\n",
       "      <td>normal</td>\n",
       "      <td>notpresent</td>\n",
       "      <td>notpresent</td>\n",
       "      <td>...</td>\n",
       "      <td>31</td>\n",
       "      <td>7500</td>\n",
       "      <td>NaN</td>\n",
       "      <td>no</td>\n",
       "      <td>yes</td>\n",
       "      <td>no</td>\n",
       "      <td>poor</td>\n",
       "      <td>no</td>\n",
       "      <td>yes</td>\n",
       "      <td>ckd</td>\n",
       "    </tr>\n",
       "    <tr>\n",
       "      <th>3</th>\n",
       "      <td>3</td>\n",
       "      <td>48.0</td>\n",
       "      <td>70.0</td>\n",
       "      <td>1.005</td>\n",
       "      <td>4.0</td>\n",
       "      <td>0.0</td>\n",
       "      <td>normal</td>\n",
       "      <td>abnormal</td>\n",
       "      <td>present</td>\n",
       "      <td>notpresent</td>\n",
       "      <td>...</td>\n",
       "      <td>32</td>\n",
       "      <td>6700</td>\n",
       "      <td>3.9</td>\n",
       "      <td>yes</td>\n",
       "      <td>no</td>\n",
       "      <td>no</td>\n",
       "      <td>poor</td>\n",
       "      <td>yes</td>\n",
       "      <td>yes</td>\n",
       "      <td>ckd</td>\n",
       "    </tr>\n",
       "    <tr>\n",
       "      <th>4</th>\n",
       "      <td>4</td>\n",
       "      <td>51.0</td>\n",
       "      <td>80.0</td>\n",
       "      <td>1.010</td>\n",
       "      <td>2.0</td>\n",
       "      <td>0.0</td>\n",
       "      <td>normal</td>\n",
       "      <td>normal</td>\n",
       "      <td>notpresent</td>\n",
       "      <td>notpresent</td>\n",
       "      <td>...</td>\n",
       "      <td>35</td>\n",
       "      <td>7300</td>\n",
       "      <td>4.6</td>\n",
       "      <td>no</td>\n",
       "      <td>no</td>\n",
       "      <td>no</td>\n",
       "      <td>good</td>\n",
       "      <td>no</td>\n",
       "      <td>no</td>\n",
       "      <td>ckd</td>\n",
       "    </tr>\n",
       "  </tbody>\n",
       "</table>\n",
       "<p>5 rows × 26 columns</p>\n",
       "</div>"
      ],
      "text/plain": [
       "   id   age    bp     sg   al   su     rbc        pc         pcc          ba  \\\n",
       "0   0  48.0  80.0  1.020  1.0  0.0     NaN    normal  notpresent  notpresent   \n",
       "1   1   7.0  50.0  1.020  4.0  0.0     NaN    normal  notpresent  notpresent   \n",
       "2   2  62.0  80.0  1.010  2.0  3.0  normal    normal  notpresent  notpresent   \n",
       "3   3  48.0  70.0  1.005  4.0  0.0  normal  abnormal     present  notpresent   \n",
       "4   4  51.0  80.0  1.010  2.0  0.0  normal    normal  notpresent  notpresent   \n",
       "\n",
       "   ...  pcv    wc   rc  htn   dm  cad appet   pe  ane classification  \n",
       "0  ...   44  7800  5.2  yes  yes   no  good   no   no            ckd  \n",
       "1  ...   38  6000  NaN   no   no   no  good   no   no            ckd  \n",
       "2  ...   31  7500  NaN   no  yes   no  poor   no  yes            ckd  \n",
       "3  ...   32  6700  3.9  yes   no   no  poor  yes  yes            ckd  \n",
       "4  ...   35  7300  4.6   no   no   no  good   no   no            ckd  \n",
       "\n",
       "[5 rows x 26 columns]"
      ]
     },
     "execution_count": 111,
     "metadata": {},
     "output_type": "execute_result"
    }
   ],
   "source": [
    "#Reading the dataset\n",
    "kidney = pd.read_csv(\"kidney_disease.csv\")\n",
    "kidney.head()"
   ]
  },
  {
   "cell_type": "code",
   "execution_count": 112,
   "metadata": {
    "execution": {
     "iopub.execute_input": "2022-05-05T08:15:47.065092Z",
     "iopub.status.busy": "2022-05-05T08:15:47.064418Z",
     "iopub.status.idle": "2022-05-05T08:15:47.069397Z",
     "shell.execute_reply": "2022-05-05T08:15:47.068683Z"
    },
    "papermill": {
     "duration": 0.104829,
     "end_time": "2022-05-05T08:15:47.071739",
     "exception": false,
     "start_time": "2022-05-05T08:15:46.966910",
     "status": "completed"
    },
    "tags": []
   },
   "outputs": [
    {
     "name": "stdout",
     "output_type": "stream",
     "text": [
      "Index(['id', 'age', 'bp', 'sg', 'al', 'su', 'rbc', 'pc', 'pcc', 'ba', 'bgr',\n",
      "       'bu', 'sc', 'sod', 'pot', 'hemo', 'pcv', 'wc', 'rc', 'htn', 'dm', 'cad',\n",
      "       'appet', 'pe', 'ane', 'classification'],\n",
      "      dtype='object')\n"
     ]
    }
   ],
   "source": [
    "# To see what are the column names in our dataset\n",
    "print(kidney.columns)"
   ]
  },
  {
   "cell_type": "code",
   "execution_count": 113,
   "metadata": {
    "execution": {
     "iopub.execute_input": "2022-05-05T08:15:47.269476Z",
     "iopub.status.busy": "2022-05-05T08:15:47.269000Z",
     "iopub.status.idle": "2022-05-05T08:15:47.304151Z",
     "shell.execute_reply": "2022-05-05T08:15:47.303445Z"
    },
    "papermill": {
     "duration": 0.135792,
     "end_time": "2022-05-05T08:15:47.306265",
     "exception": false,
     "start_time": "2022-05-05T08:15:47.170473",
     "status": "completed"
    },
    "tags": []
   },
   "outputs": [],
   "source": [
    "# Mapping the text to 1/0 and cleaning the dataset \n",
    "kidney[['htn','dm','cad','pe','ane']] = kidney[['htn','dm','cad','pe','ane']].replace(to_replace={'yes':1,'no':0})\n",
    "kidney[['rbc','pc']] = kidney[['rbc','pc']].replace(to_replace={'abnormal':1,'normal':0})\n",
    "kidney[['pcc','ba']] = kidney[['pcc','ba']].replace(to_replace={'present':1,'notpresent':0})\n",
    "kidney[['appet']] = kidney[['appet']].replace(to_replace={'good':1,'poor':0,'no':np.nan})\n",
    "kidney['classification'] = kidney['classification'].replace(to_replace={'ckd':1.0,'ckd\\t':1.0,'notckd':0.0,'no':0.0})\n",
    "kidney.rename(columns={'classification':'class'},inplace=True)\n",
    "\n",
    "kidney['pe'] = kidney['pe'].replace(to_replace='good',value=0) # Not having pedal edema is good\n",
    "kidney['appet'] = kidney['appet'].replace(to_replace='no',value=0)\n",
    "kidney['cad'] = kidney['cad'].replace(to_replace='\\tno',value=0)\n",
    "kidney['dm'] = kidney['dm'].replace(to_replace={'\\tno':0,'\\tyes':1,' yes':1, '':np.nan})\n",
    "kidney.drop('id',axis=1,inplace=True)"
   ]
  },
  {
   "cell_type": "code",
   "execution_count": 114,
   "metadata": {
    "execution": {
     "iopub.execute_input": "2022-05-05T08:15:47.501957Z",
     "iopub.status.busy": "2022-05-05T08:15:47.501393Z",
     "iopub.status.idle": "2022-05-05T08:15:47.531710Z",
     "shell.execute_reply": "2022-05-05T08:15:47.531054Z"
    },
    "papermill": {
     "duration": 0.130439,
     "end_time": "2022-05-05T08:15:47.533566",
     "exception": false,
     "start_time": "2022-05-05T08:15:47.403127",
     "status": "completed"
    },
    "tags": []
   },
   "outputs": [
    {
     "data": {
      "text/html": [
       "<div>\n",
       "<style scoped>\n",
       "    .dataframe tbody tr th:only-of-type {\n",
       "        vertical-align: middle;\n",
       "    }\n",
       "\n",
       "    .dataframe tbody tr th {\n",
       "        vertical-align: top;\n",
       "    }\n",
       "\n",
       "    .dataframe thead th {\n",
       "        text-align: right;\n",
       "    }\n",
       "</style>\n",
       "<table border=\"1\" class=\"dataframe\">\n",
       "  <thead>\n",
       "    <tr style=\"text-align: right;\">\n",
       "      <th></th>\n",
       "      <th>age</th>\n",
       "      <th>bp</th>\n",
       "      <th>sg</th>\n",
       "      <th>al</th>\n",
       "      <th>su</th>\n",
       "      <th>rbc</th>\n",
       "      <th>pc</th>\n",
       "      <th>pcc</th>\n",
       "      <th>ba</th>\n",
       "      <th>bgr</th>\n",
       "      <th>...</th>\n",
       "      <th>pcv</th>\n",
       "      <th>wc</th>\n",
       "      <th>rc</th>\n",
       "      <th>htn</th>\n",
       "      <th>dm</th>\n",
       "      <th>cad</th>\n",
       "      <th>appet</th>\n",
       "      <th>pe</th>\n",
       "      <th>ane</th>\n",
       "      <th>class</th>\n",
       "    </tr>\n",
       "  </thead>\n",
       "  <tbody>\n",
       "    <tr>\n",
       "      <th>0</th>\n",
       "      <td>48.0</td>\n",
       "      <td>80.0</td>\n",
       "      <td>1.020</td>\n",
       "      <td>1.0</td>\n",
       "      <td>0.0</td>\n",
       "      <td>NaN</td>\n",
       "      <td>0.0</td>\n",
       "      <td>0.0</td>\n",
       "      <td>0.0</td>\n",
       "      <td>121.0</td>\n",
       "      <td>...</td>\n",
       "      <td>44</td>\n",
       "      <td>7800</td>\n",
       "      <td>5.2</td>\n",
       "      <td>1.0</td>\n",
       "      <td>1.0</td>\n",
       "      <td>0.0</td>\n",
       "      <td>1.0</td>\n",
       "      <td>0.0</td>\n",
       "      <td>0.0</td>\n",
       "      <td>1.0</td>\n",
       "    </tr>\n",
       "    <tr>\n",
       "      <th>1</th>\n",
       "      <td>7.0</td>\n",
       "      <td>50.0</td>\n",
       "      <td>1.020</td>\n",
       "      <td>4.0</td>\n",
       "      <td>0.0</td>\n",
       "      <td>NaN</td>\n",
       "      <td>0.0</td>\n",
       "      <td>0.0</td>\n",
       "      <td>0.0</td>\n",
       "      <td>NaN</td>\n",
       "      <td>...</td>\n",
       "      <td>38</td>\n",
       "      <td>6000</td>\n",
       "      <td>NaN</td>\n",
       "      <td>0.0</td>\n",
       "      <td>0.0</td>\n",
       "      <td>0.0</td>\n",
       "      <td>1.0</td>\n",
       "      <td>0.0</td>\n",
       "      <td>0.0</td>\n",
       "      <td>1.0</td>\n",
       "    </tr>\n",
       "    <tr>\n",
       "      <th>2</th>\n",
       "      <td>62.0</td>\n",
       "      <td>80.0</td>\n",
       "      <td>1.010</td>\n",
       "      <td>2.0</td>\n",
       "      <td>3.0</td>\n",
       "      <td>0.0</td>\n",
       "      <td>0.0</td>\n",
       "      <td>0.0</td>\n",
       "      <td>0.0</td>\n",
       "      <td>423.0</td>\n",
       "      <td>...</td>\n",
       "      <td>31</td>\n",
       "      <td>7500</td>\n",
       "      <td>NaN</td>\n",
       "      <td>0.0</td>\n",
       "      <td>1.0</td>\n",
       "      <td>0.0</td>\n",
       "      <td>0.0</td>\n",
       "      <td>0.0</td>\n",
       "      <td>1.0</td>\n",
       "      <td>1.0</td>\n",
       "    </tr>\n",
       "    <tr>\n",
       "      <th>3</th>\n",
       "      <td>48.0</td>\n",
       "      <td>70.0</td>\n",
       "      <td>1.005</td>\n",
       "      <td>4.0</td>\n",
       "      <td>0.0</td>\n",
       "      <td>0.0</td>\n",
       "      <td>1.0</td>\n",
       "      <td>1.0</td>\n",
       "      <td>0.0</td>\n",
       "      <td>117.0</td>\n",
       "      <td>...</td>\n",
       "      <td>32</td>\n",
       "      <td>6700</td>\n",
       "      <td>3.9</td>\n",
       "      <td>1.0</td>\n",
       "      <td>0.0</td>\n",
       "      <td>0.0</td>\n",
       "      <td>0.0</td>\n",
       "      <td>1.0</td>\n",
       "      <td>1.0</td>\n",
       "      <td>1.0</td>\n",
       "    </tr>\n",
       "    <tr>\n",
       "      <th>4</th>\n",
       "      <td>51.0</td>\n",
       "      <td>80.0</td>\n",
       "      <td>1.010</td>\n",
       "      <td>2.0</td>\n",
       "      <td>0.0</td>\n",
       "      <td>0.0</td>\n",
       "      <td>0.0</td>\n",
       "      <td>0.0</td>\n",
       "      <td>0.0</td>\n",
       "      <td>106.0</td>\n",
       "      <td>...</td>\n",
       "      <td>35</td>\n",
       "      <td>7300</td>\n",
       "      <td>4.6</td>\n",
       "      <td>0.0</td>\n",
       "      <td>0.0</td>\n",
       "      <td>0.0</td>\n",
       "      <td>1.0</td>\n",
       "      <td>0.0</td>\n",
       "      <td>0.0</td>\n",
       "      <td>1.0</td>\n",
       "    </tr>\n",
       "  </tbody>\n",
       "</table>\n",
       "<p>5 rows × 25 columns</p>\n",
       "</div>"
      ],
      "text/plain": [
       "    age    bp     sg   al   su  rbc   pc  pcc   ba    bgr  ...  pcv    wc  \\\n",
       "0  48.0  80.0  1.020  1.0  0.0  NaN  0.0  0.0  0.0  121.0  ...   44  7800   \n",
       "1   7.0  50.0  1.020  4.0  0.0  NaN  0.0  0.0  0.0    NaN  ...   38  6000   \n",
       "2  62.0  80.0  1.010  2.0  3.0  0.0  0.0  0.0  0.0  423.0  ...   31  7500   \n",
       "3  48.0  70.0  1.005  4.0  0.0  0.0  1.0  1.0  0.0  117.0  ...   32  6700   \n",
       "4  51.0  80.0  1.010  2.0  0.0  0.0  0.0  0.0  0.0  106.0  ...   35  7300   \n",
       "\n",
       "    rc  htn   dm  cad appet   pe  ane  class  \n",
       "0  5.2  1.0  1.0  0.0   1.0  0.0  0.0    1.0  \n",
       "1  NaN  0.0  0.0  0.0   1.0  0.0  0.0    1.0  \n",
       "2  NaN  0.0  1.0  0.0   0.0  0.0  1.0    1.0  \n",
       "3  3.9  1.0  0.0  0.0   0.0  1.0  1.0    1.0  \n",
       "4  4.6  0.0  0.0  0.0   1.0  0.0  0.0    1.0  \n",
       "\n",
       "[5 rows x 25 columns]"
      ]
     },
     "execution_count": 114,
     "metadata": {},
     "output_type": "execute_result"
    }
   ],
   "source": [
    "kidney.head()"
   ]
  },
  {
   "cell_type": "code",
   "execution_count": 115,
   "metadata": {
    "execution": {
     "iopub.execute_input": "2022-05-05T08:15:47.730304Z",
     "iopub.status.busy": "2022-05-05T08:15:47.729882Z",
     "iopub.status.idle": "2022-05-05T08:15:47.738320Z",
     "shell.execute_reply": "2022-05-05T08:15:47.737670Z"
    },
    "papermill": {
     "duration": 0.109036,
     "end_time": "2022-05-05T08:15:47.740208",
     "exception": false,
     "start_time": "2022-05-05T08:15:47.631172",
     "status": "completed"
    },
    "tags": []
   },
   "outputs": [
    {
     "data": {
      "text/plain": [
       "age        9\n",
       "bp        12\n",
       "sg        47\n",
       "al        46\n",
       "su        49\n",
       "rbc      152\n",
       "pc        65\n",
       "pcc        4\n",
       "ba         4\n",
       "bgr       44\n",
       "bu        19\n",
       "sc        17\n",
       "sod       87\n",
       "pot       88\n",
       "hemo      52\n",
       "pcv       70\n",
       "wc       105\n",
       "rc       130\n",
       "htn        2\n",
       "dm         2\n",
       "cad        2\n",
       "appet      1\n",
       "pe         1\n",
       "ane        1\n",
       "class      0\n",
       "dtype: int64"
      ]
     },
     "execution_count": 115,
     "metadata": {},
     "output_type": "execute_result"
    }
   ],
   "source": [
    "# This helps us to count how many NaN are there in each column\n",
    "len(kidney)-kidney.count()"
   ]
  },
  {
   "cell_type": "code",
   "execution_count": 116,
   "metadata": {
    "execution": {
     "iopub.execute_input": "2022-05-05T08:15:47.965618Z",
     "iopub.status.busy": "2022-05-05T08:15:47.965148Z",
     "iopub.status.idle": "2022-05-05T08:15:47.973572Z",
     "shell.execute_reply": "2022-05-05T08:15:47.972528Z"
    },
    "papermill": {
     "duration": 0.110802,
     "end_time": "2022-05-05T08:15:47.975871",
     "exception": false,
     "start_time": "2022-05-05T08:15:47.865069",
     "status": "completed"
    },
    "tags": []
   },
   "outputs": [
    {
     "data": {
      "text/plain": [
       "0      3\n",
       "1      5\n",
       "2      3\n",
       "3      0\n",
       "4      2\n",
       "      ..\n",
       "395    0\n",
       "396    0\n",
       "397    0\n",
       "398    0\n",
       "399    0\n",
       "Length: 400, dtype: int64"
      ]
     },
     "execution_count": 116,
     "metadata": {},
     "output_type": "execute_result"
    }
   ],
   "source": [
    "# This shows number of rows with missing data\n",
    "kidney.isnull().sum(axis = 1)"
   ]
  },
  {
   "cell_type": "code",
   "execution_count": 117,
   "metadata": {
    "execution": {
     "iopub.execute_input": "2022-05-05T08:15:48.176877Z",
     "iopub.status.busy": "2022-05-05T08:15:48.176336Z",
     "iopub.status.idle": "2022-05-05T08:15:48.488842Z",
     "shell.execute_reply": "2022-05-05T08:15:48.488256Z"
    },
    "papermill": {
     "duration": 0.415246,
     "end_time": "2022-05-05T08:15:48.490733",
     "exception": false,
     "start_time": "2022-05-05T08:15:48.075487",
     "status": "completed"
    },
    "tags": []
   },
   "outputs": [
    {
     "data": {
      "text/plain": [
       "<Axes: >"
      ]
     },
     "execution_count": 117,
     "metadata": {},
     "output_type": "execute_result"
    },
    {
     "data": {
      "image/png": "[encoded data removed]",
      "text/plain": [
       "<Figure size 432x288 with 1 Axes>"
      ]
     },
     "metadata": {
      "needs_background": "light"
     },
     "output_type": "display_data"
    }
   ],
   "source": [
    "#This is a visualization of missing data in the dataset\n",
    "sns.heatmap(kidney.isnull(),yticklabels=False,cbar=False,cmap='viridis')"
   ]
  },
  {
   "cell_type": "code",
   "execution_count": 118,
   "metadata": {
    "execution": {
     "iopub.execute_input": "2022-05-05T08:15:48.692323Z",
     "iopub.status.busy": "2022-05-05T08:15:48.691761Z",
     "iopub.status.idle": "2022-05-05T08:15:48.698461Z",
     "shell.execute_reply": "2022-05-05T08:15:48.697908Z"
    },
    "papermill": {
     "duration": 0.109418,
     "end_time": "2022-05-05T08:15:48.700559",
     "exception": false,
     "start_time": "2022-05-05T08:15:48.591141",
     "status": "completed"
    },
    "tags": []
   },
   "outputs": [
    {
     "name": "stdout",
     "output_type": "stream",
     "text": [
      "(158, 25)\n"
     ]
    }
   ],
   "source": [
    "# This shows number of complete cases and also removes all the rows with NaN\n",
    "kidney2 = kidney.dropna()\n",
    "print(kidney2.shape)"
   ]
  },
  {
   "cell_type": "code",
   "execution_count": 119,
   "metadata": {
    "execution": {
     "iopub.execute_input": "2022-05-05T08:15:48.901637Z",
     "iopub.status.busy": "2022-05-05T08:15:48.901112Z",
     "iopub.status.idle": "2022-05-05T08:15:49.164214Z",
     "shell.execute_reply": "2022-05-05T08:15:49.163542Z"
    },
    "papermill": {
     "duration": 0.365784,
     "end_time": "2022-05-05T08:15:49.166102",
     "exception": false,
     "start_time": "2022-05-05T08:15:48.800318",
     "status": "completed"
    },
    "tags": []
   },
   "outputs": [
    {
     "data": {
      "text/plain": [
       "<Axes: >"
      ]
     },
     "execution_count": 119,
     "metadata": {},
     "output_type": "execute_result"
    },
    {
     "data": {
      "image/png": "[encoded data removed]",
      "text/plain": [
       "<Figure size 432x288 with 1 Axes>"
      ]
     },
     "metadata": {
      "needs_background": "light"
     },
     "output_type": "display_data"
    }
   ],
   "source": [
    "# Now our dataset is clean\n",
    "sns.heatmap(kidney2.isnull(),yticklabels=False,cbar=False,cmap='viridis')"
   ]
  },
  {
   "cell_type": "code",
   "execution_count": 120,
   "metadata": {
    "execution": {
     "iopub.execute_input": "2022-05-05T08:15:49.370105Z",
     "iopub.status.busy": "2022-05-05T08:15:49.369474Z",
     "iopub.status.idle": "2022-05-05T08:15:49.783648Z",
     "shell.execute_reply": "2022-05-05T08:15:49.782667Z"
    },
    "papermill": {
     "duration": 0.51835,
     "end_time": "2022-05-05T08:15:49.785704",
     "exception": false,
     "start_time": "2022-05-05T08:15:49.267354",
     "status": "completed"
    },
    "tags": []
   },
   "outputs": [
    {
     "name": "stderr",
     "output_type": "stream",
     "text": [
      "<ipython-input-120-963865e4cbb6>:1: FutureWarning: The default value of numeric_only in DataFrame.corr is deprecated. In a future version, it will default to False. Select only valid columns or specify the value of numeric_only to silence this warning.\n",
      "  sns.heatmap(kidney2.corr())\n"
     ]
    },
    {
     "data": {
      "text/plain": [
       "<Axes: >"
      ]
     },
     "execution_count": 120,
     "metadata": {},
     "output_type": "execute_result"
    },
    {
     "data": {
      "image/png": "[encoded data removed]",
      "text/plain": [
       "<Figure size 432x288 with 2 Axes>"
      ]
     },
     "metadata": {
      "needs_background": "light"
     },
     "output_type": "display_data"
    }
   ],
   "source": [
    "sns.heatmap(kidney2.corr())"
   ]
  },
  {
   "cell_type": "code",
   "execution_count": 121,
   "metadata": {
    "execution": {
     "iopub.execute_input": "2022-05-05T08:15:49.995163Z",
     "iopub.status.busy": "2022-05-05T08:15:49.994254Z",
     "iopub.status.idle": "2022-05-05T08:15:50.191152Z",
     "shell.execute_reply": "2022-05-05T08:15:50.190093Z"
    },
    "papermill": {
     "duration": 0.303751,
     "end_time": "2022-05-05T08:15:50.193303",
     "exception": false,
     "start_time": "2022-05-05T08:15:49.889552",
     "status": "completed"
    },
    "tags": []
   },
   "outputs": [
    {
     "name": "stdout",
     "output_type": "stream",
     "text": [
      "Axes(0.125,0.125;0.775x0.755)\n"
     ]
    },
    {
     "data": {
      "image/png": "[encoded data removed]",
      "text/plain": [
       "<Figure size 432x288 with 1 Axes>"
      ]
     },
     "metadata": {
      "needs_background": "light"
     },
     "output_type": "display_data"
    }
   ],
   "source": [
    "# Counting number of normal vs. abnormal red blood cells of people having chronic kidney disease\n",
    "print(kidney2.groupby('rbc').rbc.count().plot(kind=\"bar\"))"
   ]
  },
  {
   "cell_type": "code",
   "execution_count": 122,
   "metadata": {
    "execution": {
     "iopub.execute_input": "2022-05-05T08:15:50.403772Z",
     "iopub.status.busy": "2022-05-05T08:15:50.403138Z",
     "iopub.status.idle": "2022-05-05T08:15:50.602298Z",
     "shell.execute_reply": "2022-05-05T08:15:50.601507Z"
    },
    "papermill": {
     "duration": 0.307422,
     "end_time": "2022-05-05T08:15:50.604698",
     "exception": false,
     "start_time": "2022-05-05T08:15:50.297276",
     "status": "completed"
    },
    "tags": []
   },
   "outputs": [
    {
     "data": {
      "image/png": "[encoded data removed]",
      "text/plain": [
       "<Figure size 432x288 with 1 Axes>"
      ]
     },
     "metadata": {
      "needs_background": "light"
     },
     "output_type": "display_data"
    }
   ],
   "source": [
    "#This plot shows the patient's sugar level compared to their ages\n",
    "kidney2.plot(kind='scatter', x='age',y='su');\n",
    "plt.show()"
   ]
  },
  {
   "cell_type": "code",
   "execution_count": 123,
   "metadata": {
    "execution": {
     "iopub.execute_input": "2022-05-05T08:15:50.817297Z",
     "iopub.status.busy": "2022-05-05T08:15:50.816650Z",
     "iopub.status.idle": "2022-05-05T08:15:50.825103Z",
     "shell.execute_reply": "2022-05-05T08:15:50.824505Z"
    },
    "papermill": {
     "duration": 0.118154,
     "end_time": "2022-05-05T08:15:50.827073",
     "exception": false,
     "start_time": "2022-05-05T08:15:50.708919",
     "status": "completed"
    },
    "tags": []
   },
   "outputs": [
    {
     "name": "stdout",
     "output_type": "stream",
     "text": [
      "class\n",
      "0.0     80.0\n",
      "1.0    110.0\n",
      "Name: bp, dtype: float64\n"
     ]
    }
   ],
   "source": [
    "# Shows the maximum blood pressure having chronic kidney disease\n",
    "print(kidney2.groupby('class').bp.max())"
   ]
  },
  {
   "cell_type": "code",
   "execution_count": 124,
   "metadata": {
    "execution": {
     "iopub.execute_input": "2022-05-05T08:15:51.041792Z",
     "iopub.status.busy": "2022-05-05T08:15:51.041021Z",
     "iopub.status.idle": "2022-05-05T08:15:51.048882Z",
     "shell.execute_reply": "2022-05-05T08:15:51.047952Z"
    },
    "papermill": {
     "duration": 0.118629,
     "end_time": "2022-05-05T08:15:51.050918",
     "exception": false,
     "start_time": "2022-05-05T08:15:50.932289",
     "status": "completed"
    },
    "tags": []
   },
   "outputs": [
    {
     "name": "stdout",
     "output_type": "stream",
     "text": [
      "0.0    130\n",
      "1.0     28\n",
      "Name: dm, dtype: int64\n"
     ]
    }
   ],
   "source": [
    "print(kidney2['dm'].value_counts(dropna=False))"
   ]
  },
  {
   "cell_type": "code",
   "execution_count": 125,
   "metadata": {
    "execution": {
     "iopub.execute_input": "2022-05-05T08:15:51.264175Z",
     "iopub.status.busy": "2022-05-05T08:15:51.263635Z",
     "iopub.status.idle": "2022-05-05T08:15:51.272245Z",
     "shell.execute_reply": "2022-05-05T08:15:51.271370Z"
    },
    "papermill": {
     "duration": 0.117502,
     "end_time": "2022-05-05T08:15:51.274643",
     "exception": false,
     "start_time": "2022-05-05T08:15:51.157141",
     "status": "completed"
    },
    "tags": []
   },
   "outputs": [],
   "source": [
    "X_train, X_test, y_train, y_test = train_test_split(kidney2.iloc[:,:-1], kidney2['class'], test_size=0.2, random_state=42, stratify= kidney2['class'])"
   ]
  },
  {
   "cell_type": "code",
   "execution_count": 126,
   "metadata": {
    "execution": {
     "iopub.execute_input": "2022-05-05T08:15:51.487232Z",
     "iopub.status.busy": "2022-05-05T08:15:51.486924Z",
     "iopub.status.idle": "2022-05-05T08:15:51.491669Z",
     "shell.execute_reply": "2022-05-05T08:15:51.490986Z"
    },
    "papermill": {
     "duration": 0.114613,
     "end_time": "2022-05-05T08:15:51.495011",
     "exception": false,
     "start_time": "2022-05-05T08:15:51.380398",
     "status": "completed"
    },
    "tags": []
   },
   "outputs": [
    {
     "name": "stdout",
     "output_type": "stream",
     "text": [
      "(126, 24)\n"
     ]
    }
   ],
   "source": [
    "print(X_train.shape)"
   ]
  },
  {
   "cell_type": "code",
   "execution_count": 127,
   "metadata": {
    "execution": {
     "iopub.execute_input": "2022-05-05T08:15:51.708941Z",
     "iopub.status.busy": "2022-05-05T08:15:51.707954Z",
     "iopub.status.idle": "2022-05-05T08:15:51.715275Z",
     "shell.execute_reply": "2022-05-05T08:15:51.714625Z"
    },
    "papermill": {
     "duration": 0.115398,
     "end_time": "2022-05-05T08:15:51.716993",
     "exception": false,
     "start_time": "2022-05-05T08:15:51.601595",
     "status": "completed"
    },
    "tags": []
   },
   "outputs": [
    {
     "data": {
      "text/plain": [
       "0.0    92\n",
       "1.0    34\n",
       "Name: class, dtype: int64"
      ]
     },
     "execution_count": 127,
     "metadata": {},
     "output_type": "execute_result"
    }
   ],
   "source": [
    "y_train.value_counts()"
   ]
  },
  {
   "cell_type": "code",
   "execution_count": 128,
   "metadata": {
    "execution": {
     "iopub.execute_input": "2022-05-05T08:15:51.930762Z",
     "iopub.status.busy": "2022-05-05T08:15:51.929909Z",
     "iopub.status.idle": "2022-05-05T08:15:52.236772Z",
     "shell.execute_reply": "2022-05-05T08:15:52.235769Z"
    },
    "papermill": {
     "duration": 0.416366,
     "end_time": "2022-05-05T08:15:52.239090",
     "exception": false,
     "start_time": "2022-05-05T08:15:51.822724",
     "status": "completed"
    },
    "tags": []
   },
   "outputs": [],
   "source": [
    "rfc = RandomForestClassifier(random_state = 22)\n",
    "rfc_fit = rfc.fit(X_train,y_train)"
   ]
  },
  {
   "cell_type": "code",
   "execution_count": 129,
   "metadata": {
    "execution": {
     "iopub.execute_input": "2022-05-05T08:15:52.452745Z",
     "iopub.status.busy": "2022-05-05T08:15:52.451983Z",
     "iopub.status.idle": "2022-05-05T08:15:52.468323Z",
     "shell.execute_reply": "2022-05-05T08:15:52.467666Z"
    },
    "papermill": {
     "duration": 0.125396,
     "end_time": "2022-05-05T08:15:52.470455",
     "exception": false,
     "start_time": "2022-05-05T08:15:52.345059",
     "status": "completed"
    },
    "tags": []
   },
   "outputs": [],
   "source": [
    "rfc_pred = rfc_fit.predict(X_test)"
   ]
  },
  {
   "cell_type": "code",
   "execution_count": 130,
   "metadata": {
    "execution": {
     "iopub.execute_input": "2022-05-05T08:15:52.684474Z",
     "iopub.status.busy": "2022-05-05T08:15:52.683922Z",
     "iopub.status.idle": "2022-05-05T08:15:52.691330Z",
     "shell.execute_reply": "2022-05-05T08:15:52.690670Z"
    },
    "papermill": {
     "duration": 0.116937,
     "end_time": "2022-05-05T08:15:52.693473",
     "exception": false,
     "start_time": "2022-05-05T08:15:52.576536",
     "status": "completed"
    },
    "tags": []
   },
   "outputs": [
    {
     "name": "stdout",
     "output_type": "stream",
     "text": [
      "[[23  0]\n",
      " [ 0  9]]\n"
     ]
    }
   ],
   "source": [
    "print(confusion_matrix(y_test,rfc_pred))"
   ]
  },
  {
   "cell_type": "code",
   "execution_count": 131,
   "metadata": {
    "execution": {
     "iopub.execute_input": "2022-05-05T08:15:52.910803Z",
     "iopub.status.busy": "2022-05-05T08:15:52.910177Z",
     "iopub.status.idle": "2022-05-05T08:15:52.919830Z",
     "shell.execute_reply": "2022-05-05T08:15:52.919082Z"
    },
    "papermill": {
     "duration": 0.120023,
     "end_time": "2022-05-05T08:15:52.922096",
     "exception": false,
     "start_time": "2022-05-05T08:15:52.802073",
     "status": "completed"
    },
    "tags": []
   },
   "outputs": [
    {
     "name": "stdout",
     "output_type": "stream",
     "text": [
      "              precision    recall  f1-score   support\n",
      "\n",
      "         0.0       1.00      1.00      1.00        23\n",
      "         1.0       1.00      1.00      1.00         9\n",
      "\n",
      "    accuracy                           1.00        32\n",
      "   macro avg       1.00      1.00      1.00        32\n",
      "weighted avg       1.00      1.00      1.00        32\n",
      "\n"
     ]
    }
   ],
   "source": [
    "print(classification_report(y_test,rfc_pred))"
   ]
  },
  {
   "cell_type": "code",
   "execution_count": 132,
   "metadata": {
    "execution": {
     "iopub.execute_input": "2022-05-05T08:15:53.142408Z",
     "iopub.status.busy": "2022-05-05T08:15:53.141790Z",
     "iopub.status.idle": "2022-05-05T08:15:53.148099Z",
     "shell.execute_reply": "2022-05-05T08:15:53.147492Z"
    },
    "papermill": {
     "duration": 0.119143,
     "end_time": "2022-05-05T08:15:53.149931",
     "exception": false,
     "start_time": "2022-05-05T08:15:53.030788",
     "status": "completed"
    },
    "tags": []
   },
   "outputs": [
    {
     "data": {
      "text/plain": [
       "1.0"
      ]
     },
     "execution_count": 132,
     "metadata": {},
     "output_type": "execute_result"
    }
   ],
   "source": [
    "accuracy_score( y_test, rfc_pred)"
   ]
  },
  {
   "cell_type": "markdown",
   "metadata": {
    "papermill": {
     "duration": 0.106697,
     "end_time": "2022-05-05T08:15:53.363572",
     "exception": false,
     "start_time": "2022-05-05T08:15:53.256875",
     "status": "completed"
    },
    "tags": []
   },
   "source": [
    "# Saving the best model RFC"
   ]
  },
  {
   "cell_type": "code",
   "execution_count": 133,
   "metadata": {
    "execution": {
     "iopub.execute_input": "2022-05-05T08:15:53.580305Z",
     "iopub.status.busy": "2022-05-05T08:15:53.579741Z",
     "iopub.status.idle": "2022-05-05T08:15:53.588693Z",
     "shell.execute_reply": "2022-05-05T08:15:53.588012Z"
    },
    "papermill": {
     "duration": 0.120076,
     "end_time": "2022-05-05T08:15:53.590922",
     "exception": false,
     "start_time": "2022-05-05T08:15:53.470846",
     "status": "completed"
    },
    "tags": []
   },
   "outputs": [],
   "source": [
    "import pickle\n",
    "\n",
    "#Save model\n",
    "filename = 'rfc.pkl'\n",
    "pickle.dump(rfc_fit, open(filename, 'wb'))"
   ]
  },
  {
   "cell_type": "code",
   "execution_count": 134,
   "metadata": {
    "execution": {
     "iopub.execute_input": "2022-05-05T08:15:53.814050Z",
     "iopub.status.busy": "2022-05-05T08:15:53.813359Z",
     "iopub.status.idle": "2022-05-05T08:15:53.817293Z",
     "shell.execute_reply": "2022-05-05T08:15:53.816583Z"
    },
    "papermill": {
     "duration": 0.119413,
     "end_time": "2022-05-05T08:15:53.819250",
     "exception": false,
     "start_time": "2022-05-05T08:15:53.699837",
     "status": "completed"
    },
    "tags": []
   },
   "outputs": [],
   "source": [
    "knn = KNeighborsClassifier(n_neighbors=1)"
   ]
  },
  {
   "cell_type": "code",
   "execution_count": 135,
   "metadata": {
    "execution": {
     "iopub.execute_input": "2022-05-05T08:15:54.040142Z",
     "iopub.status.busy": "2022-05-05T08:15:54.039268Z",
     "iopub.status.idle": "2022-05-05T08:15:54.048983Z",
     "shell.execute_reply": "2022-05-05T08:15:54.048211Z"
    },
    "papermill": {
     "duration": 0.123962,
     "end_time": "2022-05-05T08:15:54.051205",
     "exception": false,
     "start_time": "2022-05-05T08:15:53.927243",
     "status": "completed"
    },
    "tags": []
   },
   "outputs": [
    {
     "data": {
      "text/html": [
       "<style>#sk-container-id-4 {color: black;background-color: white;}#sk-container-id-4 pre{padding: 0;}#sk-container-id-4 div.sk-toggleable {background-color: white;}#sk-container-id-4 label.sk-toggleable__label {cursor: pointer;display: block;width: 100%;margin-bottom: 0;padding: 0.3em;box-sizing: border-box;text-align: center;}#sk-container-id-4 label.sk-toggleable__label-arrow:before {content: \"▸\";float: left;margin-right: 0.25em;color: #696969;}#sk-container-id-4 label.sk-toggleable__label-arrow:hover:before {color: black;}#sk-container-id-4 div.sk-estimator:hover label.sk-toggleable__label-arrow:before {color: black;}#sk-container-id-4 div.sk-toggleable__content {max-height: 0;max-width: 0;overflow: hidden;text-align: left;background-color: #f0f8ff;}#sk-container-id-4 div.sk-toggleable__content pre {margin: 0.2em;color: black;border-radius: 0.25em;background-color: #f0f8ff;}#sk-container-id-4 input.sk-toggleable__control:checked~div.sk-toggleable__content {max-height: 200px;max-width: 100%;overflow: auto;}#sk-container-id-4 input.sk-toggleable__control:checked~label.sk-toggleable__label-arrow:before {content: \"▾\";}#sk-container-id-4 div.sk-estimator input.sk-toggleable__control:checked~label.sk-toggleable__label {background-color: #d4ebff;}#sk-container-id-4 div.sk-label input.sk-toggleable__control:checked~label.sk-toggleable__label {background-color: #d4ebff;}#sk-container-id-4 input.sk-hidden--visually {border: 0;clip: rect(1px 1px 1px 1px);clip: rect(1px, 1px, 1px, 1px);height: 1px;margin: -1px;overflow: hidden;padding: 0;position: absolute;width: 1px;}#sk-container-id-4 div.sk-estimator {font-family: monospace;background-color: #f0f8ff;border: 1px dotted black;border-radius: 0.25em;box-sizing: border-box;margin-bottom: 0.5em;}#sk-container-id-4 div.sk-estimator:hover {background-color: #d4ebff;}#sk-container-id-4 div.sk-parallel-item::after {content: \"\";width: 100%;border-bottom: 1px solid gray;flex-grow: 1;}#sk-container-id-4 div.sk-label:hover label.sk-toggleable__label {background-color: #d4ebff;}#sk-container-id-4 div.sk-serial::before {content: \"\";position: absolute;border-left: 1px solid gray;box-sizing: border-box;top: 0;bottom: 0;left: 50%;z-index: 0;}#sk-container-id-4 div.sk-serial {display: flex;flex-direction: column;align-items: center;background-color: white;padding-right: 0.2em;padding-left: 0.2em;position: relative;}#sk-container-id-4 div.sk-item {position: relative;z-index: 1;}#sk-container-id-4 div.sk-parallel {display: flex;align-items: stretch;justify-content: center;background-color: white;position: relative;}#sk-container-id-4 div.sk-item::before, #sk-container-id-4 div.sk-parallel-item::before {content: \"\";position: absolute;border-left: 1px solid gray;box-sizing: border-box;top: 0;bottom: 0;left: 50%;z-index: -1;}#sk-container-id-4 div.sk-parallel-item {display: flex;flex-direction: column;z-index: 1;position: relative;background-color: white;}#sk-container-id-4 div.sk-parallel-item:first-child::after {align-self: flex-end;width: 50%;}#sk-container-id-4 div.sk-parallel-item:last-child::after {align-self: flex-start;width: 50%;}#sk-container-id-4 div.sk-parallel-item:only-child::after {width: 0;}#sk-container-id-4 div.sk-dashed-wrapped {border: 1px dashed gray;margin: 0 0.4em 0.5em 0.4em;box-sizing: border-box;padding-bottom: 0.4em;background-color: white;}#sk-container-id-4 div.sk-label label {font-family: monospace;font-weight: bold;display: inline-block;line-height: 1.2em;}#sk-container-id-4 div.sk-label-container {text-align: center;}#sk-container-id-4 div.sk-container {/* jupyter's `normalize.less` sets `[hidden] { display: none; }` but bootstrap.min.css set `[hidden] { display: none !important; }` so we also need the `!important` here to be able to override the default hidden behavior on the sphinx rendered scikit-learn.org. See: https://github.com/scikit-learn/scikit-learn/issues/21755 */display: inline-block !important;position: relative;}#sk-container-id-4 div.sk-text-repr-fallback {display: none;}</style><div id=\"sk-container-id-4\" class=\"sk-top-container\"><div class=\"sk-text-repr-fallback\"><pre>KNeighborsClassifier(n_neighbors=1)</pre><b>In a Jupyter environment, please rerun this cell to show the HTML representation or trust the notebook. <br />On GitHub, the HTML representation is unable to render, please try loading this page with nbviewer.org.</b></div><div class=\"sk-container\" hidden><div class=\"sk-item\"><div class=\"sk-estimator sk-toggleable\"><input class=\"sk-toggleable__control sk-hidden--visually\" id=\"sk-estimator-id-4\" type=\"checkbox\" checked><label for=\"sk-estimator-id-4\" class=\"sk-toggleable__label sk-toggleable__label-arrow\">KNeighborsClassifier</label><div class=\"sk-toggleable__content\"><pre>KNeighborsClassifier(n_neighbors=1)</pre></div></div></div></div></div>"
      ],
      "text/plain": [
       "KNeighborsClassifier(n_neighbors=1)"
      ]
     },
     "execution_count": 135,
     "metadata": {},
     "output_type": "execute_result"
    }
   ],
   "source": [
    "knn.fit(X_train,y_train)"
   ]
  },
  {
   "cell_type": "code",
   "execution_count": 136,
   "metadata": {
    "execution": {
     "iopub.execute_input": "2022-05-05T08:15:54.271443Z",
     "iopub.status.busy": "2022-05-05T08:15:54.270897Z",
     "iopub.status.idle": "2022-05-05T08:15:54.280111Z",
     "shell.execute_reply": "2022-05-05T08:15:54.279389Z"
    },
    "papermill": {
     "duration": 0.120664,
     "end_time": "2022-05-05T08:15:54.282233",
     "exception": false,
     "start_time": "2022-05-05T08:15:54.161569",
     "status": "completed"
    },
    "tags": []
   },
   "outputs": [],
   "source": [
    "pred = knn.predict(X_test)"
   ]
  },
  {
   "cell_type": "code",
   "execution_count": 137,
   "metadata": {
    "execution": {
     "iopub.execute_input": "2022-05-05T08:15:54.525109Z",
     "iopub.status.busy": "2022-05-05T08:15:54.524787Z",
     "iopub.status.idle": "2022-05-05T08:15:54.531547Z",
     "shell.execute_reply": "2022-05-05T08:15:54.530196Z"
    },
    "papermill": {
     "duration": 0.142929,
     "end_time": "2022-05-05T08:15:54.533834",
     "exception": false,
     "start_time": "2022-05-05T08:15:54.390905",
     "status": "completed"
    },
    "tags": []
   },
   "outputs": [
    {
     "name": "stdout",
     "output_type": "stream",
     "text": [
      "[[23  0]\n",
      " [ 3  6]]\n"
     ]
    }
   ],
   "source": [
    "print(confusion_matrix(y_test,pred))"
   ]
  },
  {
   "cell_type": "code",
   "execution_count": 138,
   "metadata": {
    "execution": {
     "iopub.execute_input": "2022-05-05T08:15:54.751409Z",
     "iopub.status.busy": "2022-05-05T08:15:54.750772Z",
     "iopub.status.idle": "2022-05-05T08:15:54.771921Z",
     "shell.execute_reply": "2022-05-05T08:15:54.770783Z"
    },
    "papermill": {
     "duration": 0.134208,
     "end_time": "2022-05-05T08:15:54.776048",
     "exception": false,
     "start_time": "2022-05-05T08:15:54.641840",
     "status": "completed"
    },
    "tags": []
   },
   "outputs": [
    {
     "data": {
      "text/plain": [
       "1.0"
      ]
     },
     "execution_count": 138,
     "metadata": {},
     "output_type": "execute_result"
    }
   ],
   "source": [
    "knn.score(X_train, y_train)"
   ]
  },
  {
   "cell_type": "markdown",
   "metadata": {
    "papermill": {
     "duration": 0.11384,
     "end_time": "2022-05-05T08:15:55.046983",
     "exception": false,
     "start_time": "2022-05-05T08:15:54.933143",
     "status": "completed"
    },
    "tags": []
   },
   "source": [
    "# Saving KNN model"
   ]
  },
  {
   "cell_type": "code",
   "execution_count": 139,
   "metadata": {
    "execution": {
     "iopub.execute_input": "2022-05-05T08:15:55.267347Z",
     "iopub.status.busy": "2022-05-05T08:15:55.267050Z",
     "iopub.status.idle": "2022-05-05T08:15:55.272290Z",
     "shell.execute_reply": "2022-05-05T08:15:55.271451Z"
    },
    "papermill": {
     "duration": 0.117097,
     "end_time": "2022-05-05T08:15:55.274404",
     "exception": false,
     "start_time": "2022-05-05T08:15:55.157307",
     "status": "completed"
    },
    "tags": []
   },
   "outputs": [],
   "source": [
    "#Save model\n",
    "filename = 'knn.pkl'\n",
    "pickle.dump(knn, open(filename, 'wb'))"
   ]
  },
  {
   "cell_type": "code",
   "execution_count": 140,
   "metadata": {
    "execution": {
     "iopub.execute_input": "2022-05-05T08:15:55.498141Z",
     "iopub.status.busy": "2022-05-05T08:15:55.497177Z",
     "iopub.status.idle": "2022-05-05T08:15:55.508387Z",
     "shell.execute_reply": "2022-05-05T08:15:55.507288Z"
    },
    "papermill": {
     "duration": 0.125459,
     "end_time": "2022-05-05T08:15:55.511252",
     "exception": false,
     "start_time": "2022-05-05T08:15:55.385793",
     "status": "completed"
    },
    "tags": []
   },
   "outputs": [
    {
     "name": "stdout",
     "output_type": "stream",
     "text": [
      "              precision    recall  f1-score   support\n",
      "\n",
      "         0.0       0.88      1.00      0.94        23\n",
      "         1.0       1.00      0.67      0.80         9\n",
      "\n",
      "    accuracy                           0.91        32\n",
      "   macro avg       0.94      0.83      0.87        32\n",
      "weighted avg       0.92      0.91      0.90        32\n",
      "\n"
     ]
    }
   ],
   "source": [
    "print(classification_report(y_test,pred))"
   ]
  },
  {
   "cell_type": "code",
   "execution_count": 141,
   "metadata": {
    "execution": {
     "iopub.execute_input": "2022-05-05T08:15:55.731244Z",
     "iopub.status.busy": "2022-05-05T08:15:55.730969Z",
     "iopub.status.idle": "2022-05-05T08:15:55.737164Z",
     "shell.execute_reply": "2022-05-05T08:15:55.736566Z"
    },
    "papermill": {
     "duration": 0.118962,
     "end_time": "2022-05-05T08:15:55.739170",
     "exception": false,
     "start_time": "2022-05-05T08:15:55.620208",
     "status": "completed"
    },
    "tags": []
   },
   "outputs": [
    {
     "data": {
      "text/plain": [
       "0.90625"
      ]
     },
     "execution_count": 141,
     "metadata": {},
     "output_type": "execute_result"
    }
   ],
   "source": [
    "accuracy_score( y_test,pred)"
   ]
  },
  {
   "cell_type": "code",
   "execution_count": 142,
   "metadata": {
    "execution": {
     "iopub.execute_input": "2022-05-05T08:15:55.958719Z",
     "iopub.status.busy": "2022-05-05T08:15:55.957690Z",
     "iopub.status.idle": "2022-05-05T08:15:55.996919Z",
     "shell.execute_reply": "2022-05-05T08:15:55.995899Z"
    },
    "papermill": {
     "duration": 0.151333,
     "end_time": "2022-05-05T08:15:55.999447",
     "exception": false,
     "start_time": "2022-05-05T08:15:55.848114",
     "status": "completed"
    },
    "tags": []
   },
   "outputs": [
    {
     "name": "stderr",
     "output_type": "stream",
     "text": [
      "/home/user/.local/lib/python3.8/site-packages/sklearn/linear_model/_logistic.py:458: ConvergenceWarning: lbfgs failed to converge (status=1):\n",
      "STOP: TOTAL NO. of ITERATIONS REACHED LIMIT.\n",
      "\n",
      "Increase the number of iterations (max_iter) or scale the data as shown in:\n",
      "    https://scikit-learn.org/stable/modules/preprocessing.html\n",
      "Please also refer to the documentation for alternative solver options:\n",
      "    https://scikit-learn.org/stable/modules/linear_model.html#logistic-regression\n",
      "  n_iter_i = _check_optimize_result(\n"
     ]
    },
    {
     "data": {
      "text/html": [
       "<style>#sk-container-id-5 {color: black;background-color: white;}#sk-container-id-5 pre{padding: 0;}#sk-container-id-5 div.sk-toggleable {background-color: white;}#sk-container-id-5 label.sk-toggleable__label {cursor: pointer;display: block;width: 100%;margin-bottom: 0;padding: 0.3em;box-sizing: border-box;text-align: center;}#sk-container-id-5 label.sk-toggleable__label-arrow:before {content: \"▸\";float: left;margin-right: 0.25em;color: #696969;}#sk-container-id-5 label.sk-toggleable__label-arrow:hover:before {color: black;}#sk-container-id-5 div.sk-estimator:hover label.sk-toggleable__label-arrow:before {color: black;}#sk-container-id-5 div.sk-toggleable__content {max-height: 0;max-width: 0;overflow: hidden;text-align: left;background-color: #f0f8ff;}#sk-container-id-5 div.sk-toggleable__content pre {margin: 0.2em;color: black;border-radius: 0.25em;background-color: #f0f8ff;}#sk-container-id-5 input.sk-toggleable__control:checked~div.sk-toggleable__content {max-height: 200px;max-width: 100%;overflow: auto;}#sk-container-id-5 input.sk-toggleable__control:checked~label.sk-toggleable__label-arrow:before {content: \"▾\";}#sk-container-id-5 div.sk-estimator input.sk-toggleable__control:checked~label.sk-toggleable__label {background-color: #d4ebff;}#sk-container-id-5 div.sk-label input.sk-toggleable__control:checked~label.sk-toggleable__label {background-color: #d4ebff;}#sk-container-id-5 input.sk-hidden--visually {border: 0;clip: rect(1px 1px 1px 1px);clip: rect(1px, 1px, 1px, 1px);height: 1px;margin: -1px;overflow: hidden;padding: 0;position: absolute;width: 1px;}#sk-container-id-5 div.sk-estimator {font-family: monospace;background-color: #f0f8ff;border: 1px dotted black;border-radius: 0.25em;box-sizing: border-box;margin-bottom: 0.5em;}#sk-container-id-5 div.sk-estimator:hover {background-color: #d4ebff;}#sk-container-id-5 div.sk-parallel-item::after {content: \"\";width: 100%;border-bottom: 1px solid gray;flex-grow: 1;}#sk-container-id-5 div.sk-label:hover label.sk-toggleable__label {background-color: #d4ebff;}#sk-container-id-5 div.sk-serial::before {content: \"\";position: absolute;border-left: 1px solid gray;box-sizing: border-box;top: 0;bottom: 0;left: 50%;z-index: 0;}#sk-container-id-5 div.sk-serial {display: flex;flex-direction: column;align-items: center;background-color: white;padding-right: 0.2em;padding-left: 0.2em;position: relative;}#sk-container-id-5 div.sk-item {position: relative;z-index: 1;}#sk-container-id-5 div.sk-parallel {display: flex;align-items: stretch;justify-content: center;background-color: white;position: relative;}#sk-container-id-5 div.sk-item::before, #sk-container-id-5 div.sk-parallel-item::before {content: \"\";position: absolute;border-left: 1px solid gray;box-sizing: border-box;top: 0;bottom: 0;left: 50%;z-index: -1;}#sk-container-id-5 div.sk-parallel-item {display: flex;flex-direction: column;z-index: 1;position: relative;background-color: white;}#sk-container-id-5 div.sk-parallel-item:first-child::after {align-self: flex-end;width: 50%;}#sk-container-id-5 div.sk-parallel-item:last-child::after {align-self: flex-start;width: 50%;}#sk-container-id-5 div.sk-parallel-item:only-child::after {width: 0;}#sk-container-id-5 div.sk-dashed-wrapped {border: 1px dashed gray;margin: 0 0.4em 0.5em 0.4em;box-sizing: border-box;padding-bottom: 0.4em;background-color: white;}#sk-container-id-5 div.sk-label label {font-family: monospace;font-weight: bold;display: inline-block;line-height: 1.2em;}#sk-container-id-5 div.sk-label-container {text-align: center;}#sk-container-id-5 div.sk-container {/* jupyter's `normalize.less` sets `[hidden] { display: none; }` but bootstrap.min.css set `[hidden] { display: none !important; }` so we also need the `!important` here to be able to override the default hidden behavior on the sphinx rendered scikit-learn.org. See: https://github.com/scikit-learn/scikit-learn/issues/21755 */display: inline-block !important;position: relative;}#sk-container-id-5 div.sk-text-repr-fallback {display: none;}</style><div id=\"sk-container-id-5\" class=\"sk-top-container\"><div class=\"sk-text-repr-fallback\"><pre>LogisticRegression()</pre><b>In a Jupyter environment, please rerun this cell to show the HTML representation or trust the notebook. <br />On GitHub, the HTML representation is unable to render, please try loading this page with nbviewer.org.</b></div><div class=\"sk-container\" hidden><div class=\"sk-item\"><div class=\"sk-estimator sk-toggleable\"><input class=\"sk-toggleable__control sk-hidden--visually\" id=\"sk-estimator-id-5\" type=\"checkbox\" checked><label for=\"sk-estimator-id-5\" class=\"sk-toggleable__label sk-toggleable__label-arrow\">LogisticRegression</label><div class=\"sk-toggleable__content\"><pre>LogisticRegression()</pre></div></div></div></div></div>"
      ],
      "text/plain": [
       "LogisticRegression()"
      ]
     },
     "execution_count": 142,
     "metadata": {},
     "output_type": "execute_result"
    }
   ],
   "source": [
    "logmodel = LogisticRegression()\n",
    "logmodel.fit(X_train,y_train)"
   ]
  },
  {
   "cell_type": "code",
   "execution_count": 143,
   "metadata": {
    "execution": {
     "iopub.execute_input": "2022-05-05T08:15:56.223532Z",
     "iopub.status.busy": "2022-05-05T08:15:56.223228Z",
     "iopub.status.idle": "2022-05-05T08:15:56.232949Z",
     "shell.execute_reply": "2022-05-05T08:15:56.232139Z"
    },
    "papermill": {
     "duration": 0.124283,
     "end_time": "2022-05-05T08:15:56.234991",
     "exception": false,
     "start_time": "2022-05-05T08:15:56.110708",
     "status": "completed"
    },
    "tags": []
   },
   "outputs": [
    {
     "data": {
      "text/plain": [
       "1.0"
      ]
     },
     "execution_count": 143,
     "metadata": {},
     "output_type": "execute_result"
    }
   ],
   "source": [
    "logmodel.score(X_train, y_train)"
   ]
  },
  {
   "cell_type": "markdown",
   "metadata": {
    "papermill": {
     "duration": 0.109997,
     "end_time": "2022-05-05T08:15:56.455404",
     "exception": false,
     "start_time": "2022-05-05T08:15:56.345407",
     "status": "completed"
    },
    "tags": []
   },
   "source": [
    "# Saving Log Model"
   ]
  },
  {
   "cell_type": "code",
   "execution_count": 144,
   "metadata": {
    "execution": {
     "iopub.execute_input": "2022-05-05T08:15:56.677977Z",
     "iopub.status.busy": "2022-05-05T08:15:56.677175Z",
     "iopub.status.idle": "2022-05-05T08:15:56.682366Z",
     "shell.execute_reply": "2022-05-05T08:15:56.681510Z"
    },
    "papermill": {
     "duration": 0.119052,
     "end_time": "2022-05-05T08:15:56.684454",
     "exception": false,
     "start_time": "2022-05-05T08:15:56.565402",
     "status": "completed"
    },
    "tags": []
   },
   "outputs": [],
   "source": [
    "#Save model\n",
    "filename = 'logmodel.pkl'\n",
    "pickle.dump(logmodel, open(filename, 'wb'))"
   ]
  },
  {
   "cell_type": "code",
   "execution_count": 145,
   "metadata": {
    "execution": {
     "iopub.execute_input": "2022-05-05T08:15:56.907378Z",
     "iopub.status.busy": "2022-05-05T08:15:56.906426Z",
     "iopub.status.idle": "2022-05-05T08:15:56.912679Z",
     "shell.execute_reply": "2022-05-05T08:15:56.912042Z"
    },
    "papermill": {
     "duration": 0.119445,
     "end_time": "2022-05-05T08:15:56.914640",
     "exception": false,
     "start_time": "2022-05-05T08:15:56.795195",
     "status": "completed"
    },
    "tags": []
   },
   "outputs": [],
   "source": [
    "predictions = logmodel.predict(X_test)"
   ]
  },
  {
   "cell_type": "code",
   "execution_count": 146,
   "metadata": {
    "execution": {
     "iopub.execute_input": "2022-05-05T08:15:57.143188Z",
     "iopub.status.busy": "2022-05-05T08:15:57.142554Z",
     "iopub.status.idle": "2022-05-05T08:15:57.152801Z",
     "shell.execute_reply": "2022-05-05T08:15:57.151168Z"
    },
    "papermill": {
     "duration": 0.126367,
     "end_time": "2022-05-05T08:15:57.155284",
     "exception": false,
     "start_time": "2022-05-05T08:15:57.028917",
     "status": "completed"
    },
    "tags": []
   },
   "outputs": [
    {
     "name": "stdout",
     "output_type": "stream",
     "text": [
      "              precision    recall  f1-score   support\n",
      "\n",
      "         0.0       1.00      1.00      1.00        23\n",
      "         1.0       1.00      1.00      1.00         9\n",
      "\n",
      "    accuracy                           1.00        32\n",
      "   macro avg       1.00      1.00      1.00        32\n",
      "weighted avg       1.00      1.00      1.00        32\n",
      "\n"
     ]
    }
   ],
   "source": [
    "print(classification_report(y_test,predictions))"
   ]
  },
  {
   "cell_type": "code",
   "execution_count": 147,
   "metadata": {
    "execution": {
     "iopub.execute_input": "2022-05-05T08:15:57.377655Z",
     "iopub.status.busy": "2022-05-05T08:15:57.377314Z",
     "iopub.status.idle": "2022-05-05T08:15:57.384424Z",
     "shell.execute_reply": "2022-05-05T08:15:57.383464Z"
    },
    "papermill": {
     "duration": 0.120934,
     "end_time": "2022-05-05T08:15:57.386617",
     "exception": false,
     "start_time": "2022-05-05T08:15:57.265683",
     "status": "completed"
    },
    "tags": []
   },
   "outputs": [
    {
     "name": "stdout",
     "output_type": "stream",
     "text": [
      "[[23  0]\n",
      " [ 0  9]]\n"
     ]
    }
   ],
   "source": [
    "print(confusion_matrix(y_test,predictions))"
   ]
  },
  {
   "cell_type": "code",
   "execution_count": 148,
   "metadata": {
    "execution": {
     "iopub.execute_input": "2022-05-05T08:15:57.610438Z",
     "iopub.status.busy": "2022-05-05T08:15:57.609624Z",
     "iopub.status.idle": "2022-05-05T08:15:57.616166Z",
     "shell.execute_reply": "2022-05-05T08:15:57.615528Z"
    },
    "papermill": {
     "duration": 0.119788,
     "end_time": "2022-05-05T08:15:57.617977",
     "exception": false,
     "start_time": "2022-05-05T08:15:57.498189",
     "status": "completed"
    },
    "tags": []
   },
   "outputs": [
    {
     "data": {
      "text/plain": [
       "1.0"
      ]
     },
     "execution_count": 148,
     "metadata": {},
     "output_type": "execute_result"
    }
   ],
   "source": [
    "accuracy_score( y_test, predictions)"
   ]
  },
  {
   "cell_type": "code",
   "execution_count": 149,
   "metadata": {
    "execution": {
     "iopub.execute_input": "2022-05-05T08:15:57.841905Z",
     "iopub.status.busy": "2022-05-05T08:15:57.841179Z",
     "iopub.status.idle": "2022-05-05T08:15:58.030855Z",
     "shell.execute_reply": "2022-05-05T08:15:58.030278Z"
    },
    "papermill": {
     "duration": 0.303462,
     "end_time": "2022-05-05T08:15:58.032843",
     "exception": false,
     "start_time": "2022-05-05T08:15:57.729381",
     "status": "completed"
    },
    "tags": []
   },
   "outputs": [
    {
     "name": "stdout",
     "output_type": "stream",
     "text": [
      "       importance\n",
      "al       0.191918\n",
      "pcv      0.142417\n",
      "hemo     0.126328\n",
      "sc       0.116986\n",
      "sg       0.083417\n",
      "rc       0.080043\n",
      "bu       0.074990\n",
      "pc       0.045342\n",
      "htn      0.036520\n",
      "bgr      0.024205\n",
      "dm       0.021721\n",
      "sod      0.020059\n",
      "bp       0.008601\n",
      "rbc      0.008064\n",
      "wc       0.005361\n",
      "pcc      0.003808\n",
      "su       0.003093\n",
      "age      0.002289\n",
      "ane      0.001701\n",
      "cad      0.001170\n",
      "appet    0.001098\n",
      "ba       0.000870\n",
      "pot      0.000000\n",
      "pe       0.000000\n"
     ]
    }
   ],
   "source": [
    "feature_importances = pd.DataFrame(rfc.fit(X_train,y_train).feature_importances_, index = X_train.columns,\n",
    "                                   columns=['importance']).sort_values('importance', ascending=False)\n",
    "print(feature_importances)"
   ]
  },
  {
   "cell_type": "code",
   "execution_count": 150,
   "metadata": {
    "execution": {
     "iopub.execute_input": "2022-05-05T08:15:58.260176Z",
     "iopub.status.busy": "2022-05-05T08:15:58.259362Z",
     "iopub.status.idle": "2022-05-05T08:15:58.266285Z",
     "shell.execute_reply": "2022-05-05T08:15:58.265690Z"
    },
    "papermill": {
     "duration": 0.121138,
     "end_time": "2022-05-05T08:15:58.268183",
     "exception": false,
     "start_time": "2022-05-05T08:15:58.147045",
     "status": "completed"
    },
    "tags": []
   },
   "outputs": [
    {
     "data": {
      "text/plain": [
       "(400, 18)"
      ]
     },
     "execution_count": 150,
     "metadata": {},
     "output_type": "execute_result"
    }
   ],
   "source": [
    "kidney3 = kidney.drop(columns=['rbc', 'pc', 'sod', 'pot', 'pcv', 'wc', 'rc'])\n",
    "kidney3. shape"
   ]
  },
  {
   "cell_type": "code",
   "execution_count": 151,
   "metadata": {
    "execution": {
     "iopub.execute_input": "2022-05-05T08:15:58.494691Z",
     "iopub.status.busy": "2022-05-05T08:15:58.494205Z",
     "iopub.status.idle": "2022-05-05T08:15:58.531578Z",
     "shell.execute_reply": "2022-05-05T08:15:58.530755Z"
    },
    "papermill": {
     "duration": 0.153021,
     "end_time": "2022-05-05T08:15:58.533464",
     "exception": false,
     "start_time": "2022-05-05T08:15:58.380443",
     "status": "completed"
    },
    "tags": []
   },
   "outputs": [
    {
     "data": {
      "text/html": [
       "<div>\n",
       "<style scoped>\n",
       "    .dataframe tbody tr th:only-of-type {\n",
       "        vertical-align: middle;\n",
       "    }\n",
       "\n",
       "    .dataframe tbody tr th {\n",
       "        vertical-align: top;\n",
       "    }\n",
       "\n",
       "    .dataframe thead th {\n",
       "        text-align: right;\n",
       "    }\n",
       "</style>\n",
       "<table border=\"1\" class=\"dataframe\">\n",
       "  <thead>\n",
       "    <tr style=\"text-align: right;\">\n",
       "      <th></th>\n",
       "      <th>age</th>\n",
       "      <th>bp</th>\n",
       "      <th>sg</th>\n",
       "      <th>al</th>\n",
       "      <th>su</th>\n",
       "      <th>pcc</th>\n",
       "      <th>ba</th>\n",
       "      <th>bgr</th>\n",
       "      <th>bu</th>\n",
       "      <th>sc</th>\n",
       "      <th>hemo</th>\n",
       "      <th>htn</th>\n",
       "      <th>dm</th>\n",
       "      <th>cad</th>\n",
       "      <th>appet</th>\n",
       "      <th>pe</th>\n",
       "      <th>ane</th>\n",
       "      <th>class</th>\n",
       "    </tr>\n",
       "  </thead>\n",
       "  <tbody>\n",
       "    <tr>\n",
       "      <th>390</th>\n",
       "      <td>52.0</td>\n",
       "      <td>80.0</td>\n",
       "      <td>1.025</td>\n",
       "      <td>0.0</td>\n",
       "      <td>0.0</td>\n",
       "      <td>0.0</td>\n",
       "      <td>0.0</td>\n",
       "      <td>99.0</td>\n",
       "      <td>25.0</td>\n",
       "      <td>0.8</td>\n",
       "      <td>15.0</td>\n",
       "      <td>0.0</td>\n",
       "      <td>0.0</td>\n",
       "      <td>0.0</td>\n",
       "      <td>1.0</td>\n",
       "      <td>0.0</td>\n",
       "      <td>0.0</td>\n",
       "      <td>0.0</td>\n",
       "    </tr>\n",
       "    <tr>\n",
       "      <th>391</th>\n",
       "      <td>36.0</td>\n",
       "      <td>80.0</td>\n",
       "      <td>1.025</td>\n",
       "      <td>0.0</td>\n",
       "      <td>0.0</td>\n",
       "      <td>0.0</td>\n",
       "      <td>0.0</td>\n",
       "      <td>85.0</td>\n",
       "      <td>16.0</td>\n",
       "      <td>1.1</td>\n",
       "      <td>15.6</td>\n",
       "      <td>0.0</td>\n",
       "      <td>0.0</td>\n",
       "      <td>0.0</td>\n",
       "      <td>1.0</td>\n",
       "      <td>0.0</td>\n",
       "      <td>0.0</td>\n",
       "      <td>0.0</td>\n",
       "    </tr>\n",
       "    <tr>\n",
       "      <th>392</th>\n",
       "      <td>57.0</td>\n",
       "      <td>80.0</td>\n",
       "      <td>1.020</td>\n",
       "      <td>0.0</td>\n",
       "      <td>0.0</td>\n",
       "      <td>0.0</td>\n",
       "      <td>0.0</td>\n",
       "      <td>133.0</td>\n",
       "      <td>48.0</td>\n",
       "      <td>1.2</td>\n",
       "      <td>14.8</td>\n",
       "      <td>0.0</td>\n",
       "      <td>0.0</td>\n",
       "      <td>0.0</td>\n",
       "      <td>1.0</td>\n",
       "      <td>0.0</td>\n",
       "      <td>0.0</td>\n",
       "      <td>0.0</td>\n",
       "    </tr>\n",
       "    <tr>\n",
       "      <th>393</th>\n",
       "      <td>43.0</td>\n",
       "      <td>60.0</td>\n",
       "      <td>1.025</td>\n",
       "      <td>0.0</td>\n",
       "      <td>0.0</td>\n",
       "      <td>0.0</td>\n",
       "      <td>0.0</td>\n",
       "      <td>117.0</td>\n",
       "      <td>45.0</td>\n",
       "      <td>0.7</td>\n",
       "      <td>13.0</td>\n",
       "      <td>0.0</td>\n",
       "      <td>0.0</td>\n",
       "      <td>0.0</td>\n",
       "      <td>1.0</td>\n",
       "      <td>0.0</td>\n",
       "      <td>0.0</td>\n",
       "      <td>0.0</td>\n",
       "    </tr>\n",
       "    <tr>\n",
       "      <th>394</th>\n",
       "      <td>50.0</td>\n",
       "      <td>80.0</td>\n",
       "      <td>1.020</td>\n",
       "      <td>0.0</td>\n",
       "      <td>0.0</td>\n",
       "      <td>0.0</td>\n",
       "      <td>0.0</td>\n",
       "      <td>137.0</td>\n",
       "      <td>46.0</td>\n",
       "      <td>0.8</td>\n",
       "      <td>14.1</td>\n",
       "      <td>0.0</td>\n",
       "      <td>0.0</td>\n",
       "      <td>0.0</td>\n",
       "      <td>1.0</td>\n",
       "      <td>0.0</td>\n",
       "      <td>0.0</td>\n",
       "      <td>0.0</td>\n",
       "    </tr>\n",
       "    <tr>\n",
       "      <th>395</th>\n",
       "      <td>55.0</td>\n",
       "      <td>80.0</td>\n",
       "      <td>1.020</td>\n",
       "      <td>0.0</td>\n",
       "      <td>0.0</td>\n",
       "      <td>0.0</td>\n",
       "      <td>0.0</td>\n",
       "      <td>140.0</td>\n",
       "      <td>49.0</td>\n",
       "      <td>0.5</td>\n",
       "      <td>15.7</td>\n",
       "      <td>0.0</td>\n",
       "      <td>0.0</td>\n",
       "      <td>0.0</td>\n",
       "      <td>1.0</td>\n",
       "      <td>0.0</td>\n",
       "      <td>0.0</td>\n",
       "      <td>0.0</td>\n",
       "    </tr>\n",
       "    <tr>\n",
       "      <th>396</th>\n",
       "      <td>42.0</td>\n",
       "      <td>70.0</td>\n",
       "      <td>1.025</td>\n",
       "      <td>0.0</td>\n",
       "      <td>0.0</td>\n",
       "      <td>0.0</td>\n",
       "      <td>0.0</td>\n",
       "      <td>75.0</td>\n",
       "      <td>31.0</td>\n",
       "      <td>1.2</td>\n",
       "      <td>16.5</td>\n",
       "      <td>0.0</td>\n",
       "      <td>0.0</td>\n",
       "      <td>0.0</td>\n",
       "      <td>1.0</td>\n",
       "      <td>0.0</td>\n",
       "      <td>0.0</td>\n",
       "      <td>0.0</td>\n",
       "    </tr>\n",
       "    <tr>\n",
       "      <th>397</th>\n",
       "      <td>12.0</td>\n",
       "      <td>80.0</td>\n",
       "      <td>1.020</td>\n",
       "      <td>0.0</td>\n",
       "      <td>0.0</td>\n",
       "      <td>0.0</td>\n",
       "      <td>0.0</td>\n",
       "      <td>100.0</td>\n",
       "      <td>26.0</td>\n",
       "      <td>0.6</td>\n",
       "      <td>15.8</td>\n",
       "      <td>0.0</td>\n",
       "      <td>0.0</td>\n",
       "      <td>0.0</td>\n",
       "      <td>1.0</td>\n",
       "      <td>0.0</td>\n",
       "      <td>0.0</td>\n",
       "      <td>0.0</td>\n",
       "    </tr>\n",
       "    <tr>\n",
       "      <th>398</th>\n",
       "      <td>17.0</td>\n",
       "      <td>60.0</td>\n",
       "      <td>1.025</td>\n",
       "      <td>0.0</td>\n",
       "      <td>0.0</td>\n",
       "      <td>0.0</td>\n",
       "      <td>0.0</td>\n",
       "      <td>114.0</td>\n",
       "      <td>50.0</td>\n",
       "      <td>1.0</td>\n",
       "      <td>14.2</td>\n",
       "      <td>0.0</td>\n",
       "      <td>0.0</td>\n",
       "      <td>0.0</td>\n",
       "      <td>1.0</td>\n",
       "      <td>0.0</td>\n",
       "      <td>0.0</td>\n",
       "      <td>0.0</td>\n",
       "    </tr>\n",
       "    <tr>\n",
       "      <th>399</th>\n",
       "      <td>58.0</td>\n",
       "      <td>80.0</td>\n",
       "      <td>1.025</td>\n",
       "      <td>0.0</td>\n",
       "      <td>0.0</td>\n",
       "      <td>0.0</td>\n",
       "      <td>0.0</td>\n",
       "      <td>131.0</td>\n",
       "      <td>18.0</td>\n",
       "      <td>1.1</td>\n",
       "      <td>15.8</td>\n",
       "      <td>0.0</td>\n",
       "      <td>0.0</td>\n",
       "      <td>0.0</td>\n",
       "      <td>1.0</td>\n",
       "      <td>0.0</td>\n",
       "      <td>0.0</td>\n",
       "      <td>0.0</td>\n",
       "    </tr>\n",
       "  </tbody>\n",
       "</table>\n",
       "</div>"
      ],
      "text/plain": [
       "      age    bp     sg   al   su  pcc   ba    bgr    bu   sc  hemo  htn   dm  \\\n",
       "390  52.0  80.0  1.025  0.0  0.0  0.0  0.0   99.0  25.0  0.8  15.0  0.0  0.0   \n",
       "391  36.0  80.0  1.025  0.0  0.0  0.0  0.0   85.0  16.0  1.1  15.6  0.0  0.0   \n",
       "392  57.0  80.0  1.020  0.0  0.0  0.0  0.0  133.0  48.0  1.2  14.8  0.0  0.0   \n",
       "393  43.0  60.0  1.025  0.0  0.0  0.0  0.0  117.0  45.0  0.7  13.0  0.0  0.0   \n",
       "394  50.0  80.0  1.020  0.0  0.0  0.0  0.0  137.0  46.0  0.8  14.1  0.0  0.0   \n",
       "395  55.0  80.0  1.020  0.0  0.0  0.0  0.0  140.0  49.0  0.5  15.7  0.0  0.0   \n",
       "396  42.0  70.0  1.025  0.0  0.0  0.0  0.0   75.0  31.0  1.2  16.5  0.0  0.0   \n",
       "397  12.0  80.0  1.020  0.0  0.0  0.0  0.0  100.0  26.0  0.6  15.8  0.0  0.0   \n",
       "398  17.0  60.0  1.025  0.0  0.0  0.0  0.0  114.0  50.0  1.0  14.2  0.0  0.0   \n",
       "399  58.0  80.0  1.025  0.0  0.0  0.0  0.0  131.0  18.0  1.1  15.8  0.0  0.0   \n",
       "\n",
       "     cad  appet   pe  ane  class  \n",
       "390  0.0    1.0  0.0  0.0    0.0  \n",
       "391  0.0    1.0  0.0  0.0    0.0  \n",
       "392  0.0    1.0  0.0  0.0    0.0  \n",
       "393  0.0    1.0  0.0  0.0    0.0  \n",
       "394  0.0    1.0  0.0  0.0    0.0  \n",
       "395  0.0    1.0  0.0  0.0    0.0  \n",
       "396  0.0    1.0  0.0  0.0    0.0  \n",
       "397  0.0    1.0  0.0  0.0    0.0  \n",
       "398  0.0    1.0  0.0  0.0    0.0  \n",
       "399  0.0    1.0  0.0  0.0    0.0  "
      ]
     },
     "execution_count": 151,
     "metadata": {},
     "output_type": "execute_result"
    }
   ],
   "source": [
    "kidney3[-10:]"
   ]
  },
  {
   "cell_type": "code",
   "execution_count": 152,
   "metadata": {
    "execution": {
     "iopub.execute_input": "2022-05-05T08:15:58.763762Z",
     "iopub.status.busy": "2022-05-05T08:15:58.762546Z",
     "iopub.status.idle": "2022-05-05T08:15:58.773156Z",
     "shell.execute_reply": "2022-05-05T08:15:58.772503Z"
    },
    "papermill": {
     "duration": 0.129089,
     "end_time": "2022-05-05T08:15:58.776002",
     "exception": false,
     "start_time": "2022-05-05T08:15:58.646913",
     "status": "completed"
    },
    "tags": []
   },
   "outputs": [
    {
     "data": {
      "text/plain": [
       "age       9\n",
       "bp       12\n",
       "sg       47\n",
       "al       46\n",
       "su       49\n",
       "pcc       4\n",
       "ba        4\n",
       "bgr      44\n",
       "bu       19\n",
       "sc       17\n",
       "hemo     52\n",
       "htn       2\n",
       "dm        2\n",
       "cad       2\n",
       "appet     1\n",
       "pe        1\n",
       "ane       1\n",
       "class     0\n",
       "dtype: int64"
      ]
     },
     "execution_count": 152,
     "metadata": {},
     "output_type": "execute_result"
    }
   ],
   "source": [
    "kidney3.isnull().sum()"
   ]
  },
  {
   "cell_type": "code",
   "execution_count": 153,
   "metadata": {
    "execution": {
     "iopub.execute_input": "2022-05-05T08:15:59.028009Z",
     "iopub.status.busy": "2022-05-05T08:15:59.027482Z",
     "iopub.status.idle": "2022-05-05T08:15:59.051772Z",
     "shell.execute_reply": "2022-05-05T08:15:59.051139Z"
    },
    "papermill": {
     "duration": 0.141645,
     "end_time": "2022-05-05T08:15:59.053786",
     "exception": false,
     "start_time": "2022-05-05T08:15:58.912141",
     "status": "completed"
    },
    "tags": []
   },
   "outputs": [
    {
     "data": {
      "text/html": [
       "<div>\n",
       "<style scoped>\n",
       "    .dataframe tbody tr th:only-of-type {\n",
       "        vertical-align: middle;\n",
       "    }\n",
       "\n",
       "    .dataframe tbody tr th {\n",
       "        vertical-align: top;\n",
       "    }\n",
       "\n",
       "    .dataframe thead th {\n",
       "        text-align: right;\n",
       "    }\n",
       "</style>\n",
       "<table border=\"1\" class=\"dataframe\">\n",
       "  <thead>\n",
       "    <tr style=\"text-align: right;\">\n",
       "      <th></th>\n",
       "      <th>age</th>\n",
       "      <th>bp</th>\n",
       "      <th>sg</th>\n",
       "      <th>al</th>\n",
       "      <th>su</th>\n",
       "      <th>pcc</th>\n",
       "      <th>ba</th>\n",
       "      <th>bgr</th>\n",
       "      <th>bu</th>\n",
       "      <th>sc</th>\n",
       "      <th>hemo</th>\n",
       "      <th>htn</th>\n",
       "      <th>dm</th>\n",
       "      <th>cad</th>\n",
       "      <th>appet</th>\n",
       "      <th>pe</th>\n",
       "      <th>ane</th>\n",
       "      <th>class</th>\n",
       "    </tr>\n",
       "  </thead>\n",
       "  <tbody>\n",
       "    <tr>\n",
       "      <th>0</th>\n",
       "      <td>60.0</td>\n",
       "      <td>80.0</td>\n",
       "      <td>1.02</td>\n",
       "      <td>0.0</td>\n",
       "      <td>0.0</td>\n",
       "      <td>0.0</td>\n",
       "      <td>0.0</td>\n",
       "      <td>99.0</td>\n",
       "      <td>46.0</td>\n",
       "      <td>1.2</td>\n",
       "      <td>15.0</td>\n",
       "      <td>0.0</td>\n",
       "      <td>0.0</td>\n",
       "      <td>0.0</td>\n",
       "      <td>1.0</td>\n",
       "      <td>0.0</td>\n",
       "      <td>0.0</td>\n",
       "      <td>1.0</td>\n",
       "    </tr>\n",
       "  </tbody>\n",
       "</table>\n",
       "</div>"
      ],
      "text/plain": [
       "    age    bp    sg   al   su  pcc   ba   bgr    bu   sc  hemo  htn   dm  cad  \\\n",
       "0  60.0  80.0  1.02  0.0  0.0  0.0  0.0  99.0  46.0  1.2  15.0  0.0  0.0  0.0   \n",
       "\n",
       "   appet   pe  ane  class  \n",
       "0    1.0  0.0  0.0    1.0  "
      ]
     },
     "execution_count": 153,
     "metadata": {},
     "output_type": "execute_result"
    }
   ],
   "source": [
    "kidney3.mode()"
   ]
  },
  {
   "cell_type": "code",
   "execution_count": 154,
   "metadata": {
    "execution": {
     "iopub.execute_input": "2022-05-05T08:15:59.283440Z",
     "iopub.status.busy": "2022-05-05T08:15:59.282934Z",
     "iopub.status.idle": "2022-05-05T08:15:59.296568Z",
     "shell.execute_reply": "2022-05-05T08:15:59.295912Z"
    },
    "papermill": {
     "duration": 0.129534,
     "end_time": "2022-05-05T08:15:59.298542",
     "exception": false,
     "start_time": "2022-05-05T08:15:59.169008",
     "status": "completed"
    },
    "tags": []
   },
   "outputs": [],
   "source": [
    "# Fill in the NaNs with the mode for each column.   \n",
    "kidney3_imp = kidney3.apply(lambda x:x.fillna(x.value_counts().index[0]))"
   ]
  },
  {
   "cell_type": "code",
   "execution_count": 155,
   "metadata": {
    "execution": {
     "iopub.execute_input": "2022-05-05T08:15:59.529185Z",
     "iopub.status.busy": "2022-05-05T08:15:59.527865Z",
     "iopub.status.idle": "2022-05-05T08:15:59.537835Z",
     "shell.execute_reply": "2022-05-05T08:15:59.536817Z"
    },
    "papermill": {
     "duration": 0.12882,
     "end_time": "2022-05-05T08:15:59.540351",
     "exception": false,
     "start_time": "2022-05-05T08:15:59.411531",
     "status": "completed"
    },
    "tags": []
   },
   "outputs": [
    {
     "data": {
      "text/plain": [
       "age      0\n",
       "bp       0\n",
       "sg       0\n",
       "al       0\n",
       "su       0\n",
       "pcc      0\n",
       "ba       0\n",
       "bgr      0\n",
       "bu       0\n",
       "sc       0\n",
       "hemo     0\n",
       "htn      0\n",
       "dm       0\n",
       "cad      0\n",
       "appet    0\n",
       "pe       0\n",
       "ane      0\n",
       "class    0\n",
       "dtype: int64"
      ]
     },
     "execution_count": 155,
     "metadata": {},
     "output_type": "execute_result"
    }
   ],
   "source": [
    "kidney3_imp.isnull().sum()"
   ]
  },
  {
   "cell_type": "code",
   "execution_count": 156,
   "metadata": {
    "execution": {
     "iopub.execute_input": "2022-05-05T08:15:59.810700Z",
     "iopub.status.busy": "2022-05-05T08:15:59.810095Z",
     "iopub.status.idle": "2022-05-05T08:15:59.818089Z",
     "shell.execute_reply": "2022-05-05T08:15:59.817427Z"
    },
    "papermill": {
     "duration": 0.12757,
     "end_time": "2022-05-05T08:15:59.820374",
     "exception": false,
     "start_time": "2022-05-05T08:15:59.692804",
     "status": "completed"
    },
    "tags": []
   },
   "outputs": [],
   "source": [
    "X_train, X_test, y_train, y_test = train_test_split(kidney3_imp.iloc[:,:-1], kidney3_imp['class'],\n",
    "                                                    test_size = 0.2, random_state=44,\n",
    "                                                   stratify = kidney3_imp['class'])"
   ]
  },
  {
   "cell_type": "code",
   "execution_count": 157,
   "metadata": {
    "execution": {
     "iopub.execute_input": "2022-05-05T08:16:00.051718Z",
     "iopub.status.busy": "2022-05-05T08:16:00.051130Z",
     "iopub.status.idle": "2022-05-05T08:16:00.058976Z",
     "shell.execute_reply": "2022-05-05T08:16:00.057777Z"
    },
    "papermill": {
     "duration": 0.126781,
     "end_time": "2022-05-05T08:16:00.061212",
     "exception": false,
     "start_time": "2022-05-05T08:15:59.934431",
     "status": "completed"
    },
    "tags": []
   },
   "outputs": [
    {
     "data": {
      "text/plain": [
       "1.0    200\n",
       "0.0    120\n",
       "Name: class, dtype: int64"
      ]
     },
     "execution_count": 157,
     "metadata": {},
     "output_type": "execute_result"
    }
   ],
   "source": [
    "y_train.value_counts()"
   ]
  },
  {
   "cell_type": "code",
   "execution_count": 158,
   "metadata": {
    "execution": {
     "iopub.execute_input": "2022-05-05T08:16:00.293052Z",
     "iopub.status.busy": "2022-05-05T08:16:00.292496Z",
     "iopub.status.idle": "2022-05-05T08:16:00.483652Z",
     "shell.execute_reply": "2022-05-05T08:16:00.482774Z"
    },
    "papermill": {
     "duration": 0.309104,
     "end_time": "2022-05-05T08:16:00.486122",
     "exception": false,
     "start_time": "2022-05-05T08:16:00.177018",
     "status": "completed"
    },
    "tags": []
   },
   "outputs": [],
   "source": [
    "rfc = RandomForestClassifier(random_state = 22)\n",
    "rfc_fit = rfc.fit(X_train,y_train)"
   ]
  },
  {
   "cell_type": "code",
   "execution_count": 159,
   "metadata": {
    "execution": {
     "iopub.execute_input": "2022-05-05T08:16:00.715810Z",
     "iopub.status.busy": "2022-05-05T08:16:00.715539Z",
     "iopub.status.idle": "2022-05-05T08:16:00.735949Z",
     "shell.execute_reply": "2022-05-05T08:16:00.735092Z"
    },
    "papermill": {
     "duration": 0.138292,
     "end_time": "2022-05-05T08:16:00.738443",
     "exception": false,
     "start_time": "2022-05-05T08:16:00.600151",
     "status": "completed"
    },
    "tags": []
   },
   "outputs": [],
   "source": [
    "rfc_pred = rfc_fit.predict(X_test)"
   ]
  },
  {
   "cell_type": "code",
   "execution_count": 160,
   "metadata": {
    "execution": {
     "iopub.execute_input": "2022-05-05T08:16:00.973283Z",
     "iopub.status.busy": "2022-05-05T08:16:00.972425Z",
     "iopub.status.idle": "2022-05-05T08:16:00.996233Z",
     "shell.execute_reply": "2022-05-05T08:16:00.995316Z"
    },
    "papermill": {
     "duration": 0.144116,
     "end_time": "2022-05-05T08:16:00.998458",
     "exception": false,
     "start_time": "2022-05-05T08:16:00.854342",
     "status": "completed"
    },
    "tags": []
   },
   "outputs": [
    {
     "data": {
      "text/plain": [
       "1.0"
      ]
     },
     "execution_count": 160,
     "metadata": {},
     "output_type": "execute_result"
    }
   ],
   "source": [
    "rfc_fit.score(X_train, y_train)"
   ]
  },
  {
   "cell_type": "markdown",
   "metadata": {
    "papermill": {
     "duration": 0.114404,
     "end_time": "2022-05-05T08:16:01.230529",
     "exception": false,
     "start_time": "2022-05-05T08:16:01.116125",
     "status": "completed"
    },
    "tags": []
   },
   "source": [
    "# Saving New RFC Model"
   ]
  },
  {
   "cell_type": "code",
   "execution_count": 161,
   "metadata": {
    "execution": {
     "iopub.execute_input": "2022-05-05T08:16:01.461807Z",
     "iopub.status.busy": "2022-05-05T08:16:01.461503Z",
     "iopub.status.idle": "2022-05-05T08:16:01.474522Z",
     "shell.execute_reply": "2022-05-05T08:16:01.473548Z"
    },
    "papermill": {
     "duration": 0.130782,
     "end_time": "2022-05-05T08:16:01.476890",
     "exception": false,
     "start_time": "2022-05-05T08:16:01.346108",
     "status": "completed"
    },
    "tags": []
   },
   "outputs": [],
   "source": [
    "#Save model\n",
    "filename = 'rfc_fit_new.pkl'\n",
    "pickle.dump(rfc_fit, open(filename, 'wb'))"
   ]
  },
  {
   "cell_type": "code",
   "execution_count": 162,
   "metadata": {
    "execution": {
     "iopub.execute_input": "2022-05-05T08:16:01.709031Z",
     "iopub.status.busy": "2022-05-05T08:16:01.708723Z",
     "iopub.status.idle": "2022-05-05T08:16:01.715880Z",
     "shell.execute_reply": "2022-05-05T08:16:01.714860Z"
    },
    "papermill": {
     "duration": 0.125031,
     "end_time": "2022-05-05T08:16:01.718056",
     "exception": false,
     "start_time": "2022-05-05T08:16:01.593025",
     "status": "completed"
    },
    "tags": []
   },
   "outputs": [
    {
     "name": "stdout",
     "output_type": "stream",
     "text": [
      "[[30  0]\n",
      " [ 0 50]]\n"
     ]
    }
   ],
   "source": [
    "print(confusion_matrix(y_test,rfc_pred))"
   ]
  },
  {
   "cell_type": "code",
   "execution_count": 163,
   "metadata": {
    "execution": {
     "iopub.execute_input": "2022-05-05T08:16:01.950212Z",
     "iopub.status.busy": "2022-05-05T08:16:01.949908Z",
     "iopub.status.idle": "2022-05-05T08:16:01.960883Z",
     "shell.execute_reply": "2022-05-05T08:16:01.960182Z"
    },
    "papermill": {
     "duration": 0.130087,
     "end_time": "2022-05-05T08:16:01.963126",
     "exception": false,
     "start_time": "2022-05-05T08:16:01.833039",
     "status": "completed"
    },
    "tags": []
   },
   "outputs": [
    {
     "name": "stdout",
     "output_type": "stream",
     "text": [
      "              precision    recall  f1-score   support\n",
      "\n",
      "         0.0       1.00      1.00      1.00        30\n",
      "         1.0       1.00      1.00      1.00        50\n",
      "\n",
      "    accuracy                           1.00        80\n",
      "   macro avg       1.00      1.00      1.00        80\n",
      "weighted avg       1.00      1.00      1.00        80\n",
      "\n"
     ]
    }
   ],
   "source": [
    "print(classification_report(y_test,rfc_pred))"
   ]
  },
  {
   "cell_type": "code",
   "execution_count": 164,
   "metadata": {
    "execution": {
     "iopub.execute_input": "2022-05-05T08:16:02.198767Z",
     "iopub.status.busy": "2022-05-05T08:16:02.198471Z",
     "iopub.status.idle": "2022-05-05T08:16:02.205043Z",
     "shell.execute_reply": "2022-05-05T08:16:02.204188Z"
    },
    "papermill": {
     "duration": 0.127374,
     "end_time": "2022-05-05T08:16:02.207182",
     "exception": false,
     "start_time": "2022-05-05T08:16:02.079808",
     "status": "completed"
    },
    "tags": []
   },
   "outputs": [
    {
     "data": {
      "text/plain": [
       "1.0"
      ]
     },
     "execution_count": 164,
     "metadata": {},
     "output_type": "execute_result"
    }
   ],
   "source": [
    "accuracy_score( y_test, rfc_pred)"
   ]
  },
  {
   "cell_type": "code",
   "execution_count": 165,
   "metadata": {
    "execution": {
     "iopub.execute_input": "2022-05-05T08:16:02.440554Z",
     "iopub.status.busy": "2022-05-05T08:16:02.440254Z",
     "iopub.status.idle": "2022-05-05T08:16:02.499473Z",
     "shell.execute_reply": "2022-05-05T08:16:02.498754Z"
    },
    "papermill": {
     "duration": 0.178435,
     "end_time": "2022-05-05T08:16:02.501566",
     "exception": false,
     "start_time": "2022-05-05T08:16:02.323131",
     "status": "completed"
    },
    "tags": []
   },
   "outputs": [
    {
     "name": "stderr",
     "output_type": "stream",
     "text": [
      "/home/user/.local/lib/python3.8/site-packages/sklearn/linear_model/_logistic.py:458: ConvergenceWarning: lbfgs failed to converge (status=1):\n",
      "STOP: TOTAL NO. of ITERATIONS REACHED LIMIT.\n",
      "\n",
      "Increase the number of iterations (max_iter) or scale the data as shown in:\n",
      "    https://scikit-learn.org/stable/modules/preprocessing.html\n",
      "Please also refer to the documentation for alternative solver options:\n",
      "    https://scikit-learn.org/stable/modules/linear_model.html#logistic-regression\n",
      "  n_iter_i = _check_optimize_result(\n"
     ]
    },
    {
     "data": {
      "text/html": [
       "<style>#sk-container-id-6 {color: black;background-color: white;}#sk-container-id-6 pre{padding: 0;}#sk-container-id-6 div.sk-toggleable {background-color: white;}#sk-container-id-6 label.sk-toggleable__label {cursor: pointer;display: block;width: 100%;margin-bottom: 0;padding: 0.3em;box-sizing: border-box;text-align: center;}#sk-container-id-6 label.sk-toggleable__label-arrow:before {content: \"▸\";float: left;margin-right: 0.25em;color: #696969;}#sk-container-id-6 label.sk-toggleable__label-arrow:hover:before {color: black;}#sk-container-id-6 div.sk-estimator:hover label.sk-toggleable__label-arrow:before {color: black;}#sk-container-id-6 div.sk-toggleable__content {max-height: 0;max-width: 0;overflow: hidden;text-align: left;background-color: #f0f8ff;}#sk-container-id-6 div.sk-toggleable__content pre {margin: 0.2em;color: black;border-radius: 0.25em;background-color: #f0f8ff;}#sk-container-id-6 input.sk-toggleable__control:checked~div.sk-toggleable__content {max-height: 200px;max-width: 100%;overflow: auto;}#sk-container-id-6 input.sk-toggleable__control:checked~label.sk-toggleable__label-arrow:before {content: \"▾\";}#sk-container-id-6 div.sk-estimator input.sk-toggleable__control:checked~label.sk-toggleable__label {background-color: #d4ebff;}#sk-container-id-6 div.sk-label input.sk-toggleable__control:checked~label.sk-toggleable__label {background-color: #d4ebff;}#sk-container-id-6 input.sk-hidden--visually {border: 0;clip: rect(1px 1px 1px 1px);clip: rect(1px, 1px, 1px, 1px);height: 1px;margin: -1px;overflow: hidden;padding: 0;position: absolute;width: 1px;}#sk-container-id-6 div.sk-estimator {font-family: monospace;background-color: #f0f8ff;border: 1px dotted black;border-radius: 0.25em;box-sizing: border-box;margin-bottom: 0.5em;}#sk-container-id-6 div.sk-estimator:hover {background-color: #d4ebff;}#sk-container-id-6 div.sk-parallel-item::after {content: \"\";width: 100%;border-bottom: 1px solid gray;flex-grow: 1;}#sk-container-id-6 div.sk-label:hover label.sk-toggleable__label {background-color: #d4ebff;}#sk-container-id-6 div.sk-serial::before {content: \"\";position: absolute;border-left: 1px solid gray;box-sizing: border-box;top: 0;bottom: 0;left: 50%;z-index: 0;}#sk-container-id-6 div.sk-serial {display: flex;flex-direction: column;align-items: center;background-color: white;padding-right: 0.2em;padding-left: 0.2em;position: relative;}#sk-container-id-6 div.sk-item {position: relative;z-index: 1;}#sk-container-id-6 div.sk-parallel {display: flex;align-items: stretch;justify-content: center;background-color: white;position: relative;}#sk-container-id-6 div.sk-item::before, #sk-container-id-6 div.sk-parallel-item::before {content: \"\";position: absolute;border-left: 1px solid gray;box-sizing: border-box;top: 0;bottom: 0;left: 50%;z-index: -1;}#sk-container-id-6 div.sk-parallel-item {display: flex;flex-direction: column;z-index: 1;position: relative;background-color: white;}#sk-container-id-6 div.sk-parallel-item:first-child::after {align-self: flex-end;width: 50%;}#sk-container-id-6 div.sk-parallel-item:last-child::after {align-self: flex-start;width: 50%;}#sk-container-id-6 div.sk-parallel-item:only-child::after {width: 0;}#sk-container-id-6 div.sk-dashed-wrapped {border: 1px dashed gray;margin: 0 0.4em 0.5em 0.4em;box-sizing: border-box;padding-bottom: 0.4em;background-color: white;}#sk-container-id-6 div.sk-label label {font-family: monospace;font-weight: bold;display: inline-block;line-height: 1.2em;}#sk-container-id-6 div.sk-label-container {text-align: center;}#sk-container-id-6 div.sk-container {/* jupyter's `normalize.less` sets `[hidden] { display: none; }` but bootstrap.min.css set `[hidden] { display: none !important; }` so we also need the `!important` here to be able to override the default hidden behavior on the sphinx rendered scikit-learn.org. See: https://github.com/scikit-learn/scikit-learn/issues/21755 */display: inline-block !important;position: relative;}#sk-container-id-6 div.sk-text-repr-fallback {display: none;}</style><div id=\"sk-container-id-6\" class=\"sk-top-container\"><div class=\"sk-text-repr-fallback\"><pre>LogisticRegression()</pre><b>In a Jupyter environment, please rerun this cell to show the HTML representation or trust the notebook. <br />On GitHub, the HTML representation is unable to render, please try loading this page with nbviewer.org.</b></div><div class=\"sk-container\" hidden><div class=\"sk-item\"><div class=\"sk-estimator sk-toggleable\"><input class=\"sk-toggleable__control sk-hidden--visually\" id=\"sk-estimator-id-6\" type=\"checkbox\" checked><label for=\"sk-estimator-id-6\" class=\"sk-toggleable__label sk-toggleable__label-arrow\">LogisticRegression</label><div class=\"sk-toggleable__content\"><pre>LogisticRegression()</pre></div></div></div></div></div>"
      ],
      "text/plain": [
       "LogisticRegression()"
      ]
     },
     "execution_count": 165,
     "metadata": {},
     "output_type": "execute_result"
    }
   ],
   "source": [
    "logmodel = LogisticRegression()\n",
    "logmodel.fit(X_train,y_train)"
   ]
  },
  {
   "cell_type": "code",
   "execution_count": 166,
   "metadata": {
    "execution": {
     "iopub.execute_input": "2022-05-05T08:16:02.738470Z",
     "iopub.status.busy": "2022-05-05T08:16:02.738181Z",
     "iopub.status.idle": "2022-05-05T08:16:02.747711Z",
     "shell.execute_reply": "2022-05-05T08:16:02.746675Z"
    },
    "papermill": {
     "duration": 0.130088,
     "end_time": "2022-05-05T08:16:02.749737",
     "exception": false,
     "start_time": "2022-05-05T08:16:02.619649",
     "status": "completed"
    },
    "tags": []
   },
   "outputs": [
    {
     "data": {
      "text/plain": [
       "0.978125"
      ]
     },
     "execution_count": 166,
     "metadata": {},
     "output_type": "execute_result"
    }
   ],
   "source": [
    "logmodel.score(X_train, y_train)"
   ]
  },
  {
   "cell_type": "markdown",
   "metadata": {
    "papermill": {
     "duration": 0.118012,
     "end_time": "2022-05-05T08:16:02.985418",
     "exception": false,
     "start_time": "2022-05-05T08:16:02.867406",
     "status": "completed"
    },
    "tags": []
   },
   "source": [
    "# Saving new Log Model"
   ]
  },
  {
   "cell_type": "code",
   "execution_count": 167,
   "metadata": {
    "execution": {
     "iopub.execute_input": "2022-05-05T08:16:03.223220Z",
     "iopub.status.busy": "2022-05-05T08:16:03.222940Z",
     "iopub.status.idle": "2022-05-05T08:16:03.227518Z",
     "shell.execute_reply": "2022-05-05T08:16:03.226737Z"
    },
    "papermill": {
     "duration": 0.12582,
     "end_time": "2022-05-05T08:16:03.229681",
     "exception": false,
     "start_time": "2022-05-05T08:16:03.103861",
     "status": "completed"
    },
    "tags": []
   },
   "outputs": [],
   "source": [
    "#Save model\n",
    "filename = 'logmodel_new.pkl'\n",
    "pickle.dump(logmodel, open(filename, 'wb'))"
   ]
  },
  {
   "cell_type": "code",
   "execution_count": 168,
   "metadata": {
    "execution": {
     "iopub.execute_input": "2022-05-05T08:16:03.466203Z",
     "iopub.status.busy": "2022-05-05T08:16:03.465865Z",
     "iopub.status.idle": "2022-05-05T08:16:03.471829Z",
     "shell.execute_reply": "2022-05-05T08:16:03.470956Z"
    },
    "papermill": {
     "duration": 0.12668,
     "end_time": "2022-05-05T08:16:03.473936",
     "exception": false,
     "start_time": "2022-05-05T08:16:03.347256",
     "status": "completed"
    },
    "tags": []
   },
   "outputs": [],
   "source": [
    "predictions = logmodel.predict(X_test)"
   ]
  },
  {
   "cell_type": "code",
   "execution_count": 169,
   "metadata": {
    "execution": {
     "iopub.execute_input": "2022-05-05T08:16:03.710354Z",
     "iopub.status.busy": "2022-05-05T08:16:03.710072Z",
     "iopub.status.idle": "2022-05-05T08:16:03.721354Z",
     "shell.execute_reply": "2022-05-05T08:16:03.720662Z"
    },
    "papermill": {
     "duration": 0.134143,
     "end_time": "2022-05-05T08:16:03.724653",
     "exception": false,
     "start_time": "2022-05-05T08:16:03.590510",
     "status": "completed"
    },
    "tags": []
   },
   "outputs": [
    {
     "name": "stdout",
     "output_type": "stream",
     "text": [
      "              precision    recall  f1-score   support\n",
      "\n",
      "         0.0       1.00      0.97      0.98        30\n",
      "         1.0       0.98      1.00      0.99        50\n",
      "\n",
      "    accuracy                           0.99        80\n",
      "   macro avg       0.99      0.98      0.99        80\n",
      "weighted avg       0.99      0.99      0.99        80\n",
      "\n"
     ]
    }
   ],
   "source": [
    "print(classification_report(y_test,predictions))"
   ]
  },
  {
   "cell_type": "code",
   "execution_count": 170,
   "metadata": {
    "execution": {
     "iopub.execute_input": "2022-05-05T08:16:03.966231Z",
     "iopub.status.busy": "2022-05-05T08:16:03.965963Z",
     "iopub.status.idle": "2022-05-05T08:16:03.971872Z",
     "shell.execute_reply": "2022-05-05T08:16:03.970868Z"
    },
    "papermill": {
     "duration": 0.126706,
     "end_time": "2022-05-05T08:16:03.974849",
     "exception": false,
     "start_time": "2022-05-05T08:16:03.848143",
     "status": "completed"
    },
    "tags": []
   },
   "outputs": [
    {
     "name": "stdout",
     "output_type": "stream",
     "text": [
      "[[29  1]\n",
      " [ 0 50]]\n"
     ]
    }
   ],
   "source": [
    "print(confusion_matrix(y_test,predictions))"
   ]
  },
  {
   "cell_type": "code",
   "execution_count": 171,
   "metadata": {
    "execution": {
     "iopub.execute_input": "2022-05-05T08:16:04.216687Z",
     "iopub.status.busy": "2022-05-05T08:16:04.216367Z",
     "iopub.status.idle": "2022-05-05T08:16:04.224292Z",
     "shell.execute_reply": "2022-05-05T08:16:04.223434Z"
    },
    "papermill": {
     "duration": 0.132099,
     "end_time": "2022-05-05T08:16:04.226315",
     "exception": false,
     "start_time": "2022-05-05T08:16:04.094216",
     "status": "completed"
    },
    "tags": []
   },
   "outputs": [
    {
     "data": {
      "text/plain": [
       "1.0"
      ]
     },
     "execution_count": 171,
     "metadata": {},
     "output_type": "execute_result"
    }
   ],
   "source": [
    "accuracy_score( y_test, rfc_pred)"
   ]
  },
  {
   "cell_type": "code",
   "execution_count": 172,
   "metadata": {
    "execution": {
     "iopub.execute_input": "2022-05-05T08:16:04.466754Z",
     "iopub.status.busy": "2022-05-05T08:16:04.466474Z",
     "iopub.status.idle": "2022-05-05T08:16:04.470189Z",
     "shell.execute_reply": "2022-05-05T08:16:04.469303Z"
    },
    "papermill": {
     "duration": 0.12536,
     "end_time": "2022-05-05T08:16:04.472212",
     "exception": false,
     "start_time": "2022-05-05T08:16:04.346852",
     "status": "completed"
    },
    "tags": []
   },
   "outputs": [],
   "source": [
    "dtree=DecisionTreeClassifier()"
   ]
  },
  {
   "cell_type": "code",
   "execution_count": 173,
   "metadata": {
    "execution": {
     "iopub.execute_input": "2022-05-05T08:16:04.711647Z",
     "iopub.status.busy": "2022-05-05T08:16:04.711348Z",
     "iopub.status.idle": "2022-05-05T08:16:04.721813Z",
     "shell.execute_reply": "2022-05-05T08:16:04.720952Z"
    },
    "papermill": {
     "duration": 0.133569,
     "end_time": "2022-05-05T08:16:04.723725",
     "exception": false,
     "start_time": "2022-05-05T08:16:04.590156",
     "status": "completed"
    },
    "tags": []
   },
   "outputs": [
    {
     "data": {
      "text/html": [
       "<style>#sk-container-id-7 {color: black;background-color: white;}#sk-container-id-7 pre{padding: 0;}#sk-container-id-7 div.sk-toggleable {background-color: white;}#sk-container-id-7 label.sk-toggleable__label {cursor: pointer;display: block;width: 100%;margin-bottom: 0;padding: 0.3em;box-sizing: border-box;text-align: center;}#sk-container-id-7 label.sk-toggleable__label-arrow:before {content: \"▸\";float: left;margin-right: 0.25em;color: #696969;}#sk-container-id-7 label.sk-toggleable__label-arrow:hover:before {color: black;}#sk-container-id-7 div.sk-estimator:hover label.sk-toggleable__label-arrow:before {color: black;}#sk-container-id-7 div.sk-toggleable__content {max-height: 0;max-width: 0;overflow: hidden;text-align: left;background-color: #f0f8ff;}#sk-container-id-7 div.sk-toggleable__content pre {margin: 0.2em;color: black;border-radius: 0.25em;background-color: #f0f8ff;}#sk-container-id-7 input.sk-toggleable__control:checked~div.sk-toggleable__content {max-height: 200px;max-width: 100%;overflow: auto;}#sk-container-id-7 input.sk-toggleable__control:checked~label.sk-toggleable__label-arrow:before {content: \"▾\";}#sk-container-id-7 div.sk-estimator input.sk-toggleable__control:checked~label.sk-toggleable__label {background-color: #d4ebff;}#sk-container-id-7 div.sk-label input.sk-toggleable__control:checked~label.sk-toggleable__label {background-color: #d4ebff;}#sk-container-id-7 input.sk-hidden--visually {border: 0;clip: rect(1px 1px 1px 1px);clip: rect(1px, 1px, 1px, 1px);height: 1px;margin: -1px;overflow: hidden;padding: 0;position: absolute;width: 1px;}#sk-container-id-7 div.sk-estimator {font-family: monospace;background-color: #f0f8ff;border: 1px dotted black;border-radius: 0.25em;box-sizing: border-box;margin-bottom: 0.5em;}#sk-container-id-7 div.sk-estimator:hover {background-color: #d4ebff;}#sk-container-id-7 div.sk-parallel-item::after {content: \"\";width: 100%;border-bottom: 1px solid gray;flex-grow: 1;}#sk-container-id-7 div.sk-label:hover label.sk-toggleable__label {background-color: #d4ebff;}#sk-container-id-7 div.sk-serial::before {content: \"\";position: absolute;border-left: 1px solid gray;box-sizing: border-box;top: 0;bottom: 0;left: 50%;z-index: 0;}#sk-container-id-7 div.sk-serial {display: flex;flex-direction: column;align-items: center;background-color: white;padding-right: 0.2em;padding-left: 0.2em;position: relative;}#sk-container-id-7 div.sk-item {position: relative;z-index: 1;}#sk-container-id-7 div.sk-parallel {display: flex;align-items: stretch;justify-content: center;background-color: white;position: relative;}#sk-container-id-7 div.sk-item::before, #sk-container-id-7 div.sk-parallel-item::before {content: \"\";position: absolute;border-left: 1px solid gray;box-sizing: border-box;top: 0;bottom: 0;left: 50%;z-index: -1;}#sk-container-id-7 div.sk-parallel-item {display: flex;flex-direction: column;z-index: 1;position: relative;background-color: white;}#sk-container-id-7 div.sk-parallel-item:first-child::after {align-self: flex-end;width: 50%;}#sk-container-id-7 div.sk-parallel-item:last-child::after {align-self: flex-start;width: 50%;}#sk-container-id-7 div.sk-parallel-item:only-child::after {width: 0;}#sk-container-id-7 div.sk-dashed-wrapped {border: 1px dashed gray;margin: 0 0.4em 0.5em 0.4em;box-sizing: border-box;padding-bottom: 0.4em;background-color: white;}#sk-container-id-7 div.sk-label label {font-family: monospace;font-weight: bold;display: inline-block;line-height: 1.2em;}#sk-container-id-7 div.sk-label-container {text-align: center;}#sk-container-id-7 div.sk-container {/* jupyter's `normalize.less` sets `[hidden] { display: none; }` but bootstrap.min.css set `[hidden] { display: none !important; }` so we also need the `!important` here to be able to override the default hidden behavior on the sphinx rendered scikit-learn.org. See: https://github.com/scikit-learn/scikit-learn/issues/21755 */display: inline-block !important;position: relative;}#sk-container-id-7 div.sk-text-repr-fallback {display: none;}</style><div id=\"sk-container-id-7\" class=\"sk-top-container\"><div class=\"sk-text-repr-fallback\"><pre>DecisionTreeClassifier()</pre><b>In a Jupyter environment, please rerun this cell to show the HTML representation or trust the notebook. <br />On GitHub, the HTML representation is unable to render, please try loading this page with nbviewer.org.</b></div><div class=\"sk-container\" hidden><div class=\"sk-item\"><div class=\"sk-estimator sk-toggleable\"><input class=\"sk-toggleable__control sk-hidden--visually\" id=\"sk-estimator-id-7\" type=\"checkbox\" checked><label for=\"sk-estimator-id-7\" class=\"sk-toggleable__label sk-toggleable__label-arrow\">DecisionTreeClassifier</label><div class=\"sk-toggleable__content\"><pre>DecisionTreeClassifier()</pre></div></div></div></div></div>"
      ],
      "text/plain": [
       "DecisionTreeClassifier()"
      ]
     },
     "execution_count": 173,
     "metadata": {},
     "output_type": "execute_result"
    }
   ],
   "source": [
    "dtree.fit(X_train,y_train)"
   ]
  },
  {
   "cell_type": "code",
   "execution_count": 174,
   "metadata": {
    "execution": {
     "iopub.execute_input": "2022-05-05T08:16:04.963716Z",
     "iopub.status.busy": "2022-05-05T08:16:04.963408Z",
     "iopub.status.idle": "2022-05-05T08:16:04.972236Z",
     "shell.execute_reply": "2022-05-05T08:16:04.971561Z"
    },
    "papermill": {
     "duration": 0.131298,
     "end_time": "2022-05-05T08:16:04.974060",
     "exception": false,
     "start_time": "2022-05-05T08:16:04.842762",
     "status": "completed"
    },
    "tags": []
   },
   "outputs": [
    {
     "data": {
      "text/plain": [
       "1.0"
      ]
     },
     "execution_count": 174,
     "metadata": {},
     "output_type": "execute_result"
    }
   ],
   "source": [
    "dtree.score(X_train, y_train)"
   ]
  },
  {
   "cell_type": "markdown",
   "metadata": {
    "papermill": {
     "duration": 0.122052,
     "end_time": "2022-05-05T08:16:05.215646",
     "exception": false,
     "start_time": "2022-05-05T08:16:05.093594",
     "status": "completed"
    },
    "tags": []
   },
   "source": [
    "# Saving New decision tree model"
   ]
  },
  {
   "cell_type": "code",
   "execution_count": 175,
   "metadata": {
    "execution": {
     "iopub.execute_input": "2022-05-05T08:16:05.453948Z",
     "iopub.status.busy": "2022-05-05T08:16:05.453579Z",
     "iopub.status.idle": "2022-05-05T08:16:05.457631Z",
     "shell.execute_reply": "2022-05-05T08:16:05.456932Z"
    },
    "papermill": {
     "duration": 0.125643,
     "end_time": "2022-05-05T08:16:05.459623",
     "exception": false,
     "start_time": "2022-05-05T08:16:05.333980",
     "status": "completed"
    },
    "tags": []
   },
   "outputs": [],
   "source": [
    "#Save model\n",
    "filename = 'dtree.pkl'\n",
    "pickle.dump(dtree, open(filename, 'wb'))"
   ]
  },
  {
   "cell_type": "code",
   "execution_count": 176,
   "metadata": {
    "execution": {
     "iopub.execute_input": "2022-05-05T08:16:05.698273Z",
     "iopub.status.busy": "2022-05-05T08:16:05.697977Z",
     "iopub.status.idle": "2022-05-05T08:16:05.704448Z",
     "shell.execute_reply": "2022-05-05T08:16:05.703426Z"
    },
    "papermill": {
     "duration": 0.129199,
     "end_time": "2022-05-05T08:16:05.707046",
     "exception": false,
     "start_time": "2022-05-05T08:16:05.577847",
     "status": "completed"
    },
    "tags": []
   },
   "outputs": [],
   "source": [
    "predictions=dtree.predict(X_test)"
   ]
  },
  {
   "cell_type": "code",
   "execution_count": 177,
   "metadata": {
    "execution": {
     "iopub.execute_input": "2022-05-05T08:16:05.948959Z",
     "iopub.status.busy": "2022-05-05T08:16:05.948114Z",
     "iopub.status.idle": "2022-05-05T08:16:05.954967Z",
     "shell.execute_reply": "2022-05-05T08:16:05.953906Z"
    },
    "papermill": {
     "duration": 0.128786,
     "end_time": "2022-05-05T08:16:05.956949",
     "exception": false,
     "start_time": "2022-05-05T08:16:05.828163",
     "status": "completed"
    },
    "tags": []
   },
   "outputs": [
    {
     "name": "stdout",
     "output_type": "stream",
     "text": [
      "[[30  0]\n",
      " [ 0 50]]\n"
     ]
    }
   ],
   "source": [
    "print(confusion_matrix(y_test,predictions))"
   ]
  },
  {
   "cell_type": "code",
   "execution_count": 178,
   "metadata": {
    "execution": {
     "iopub.execute_input": "2022-05-05T08:16:06.198264Z",
     "iopub.status.busy": "2022-05-05T08:16:06.197763Z",
     "iopub.status.idle": "2022-05-05T08:16:06.208149Z",
     "shell.execute_reply": "2022-05-05T08:16:06.206761Z"
    },
    "papermill": {
     "duration": 0.134349,
     "end_time": "2022-05-05T08:16:06.210433",
     "exception": false,
     "start_time": "2022-05-05T08:16:06.076084",
     "status": "completed"
    },
    "tags": []
   },
   "outputs": [
    {
     "name": "stdout",
     "output_type": "stream",
     "text": [
      "              precision    recall  f1-score   support\n",
      "\n",
      "         0.0       1.00      1.00      1.00        30\n",
      "         1.0       1.00      1.00      1.00        50\n",
      "\n",
      "    accuracy                           1.00        80\n",
      "   macro avg       1.00      1.00      1.00        80\n",
      "weighted avg       1.00      1.00      1.00        80\n",
      "\n"
     ]
    }
   ],
   "source": [
    "print(classification_report(y_test,predictions))"
   ]
  },
  {
   "cell_type": "code",
   "execution_count": 179,
   "metadata": {
    "execution": {
     "iopub.execute_input": "2022-05-05T08:16:06.451580Z",
     "iopub.status.busy": "2022-05-05T08:16:06.451090Z",
     "iopub.status.idle": "2022-05-05T08:16:06.464913Z",
     "shell.execute_reply": "2022-05-05T08:16:06.464122Z"
    },
    "papermill": {
     "duration": 0.137287,
     "end_time": "2022-05-05T08:16:06.467186",
     "exception": false,
     "start_time": "2022-05-05T08:16:06.329899",
     "status": "completed"
    },
    "tags": []
   },
   "outputs": [
    {
     "ename": "ModuleNotFoundError",
     "evalue": "No module named 'pydot'",
     "output_type": "error",
     "traceback": [
      "\u001b[0;31m---------------------------------------------------------------------------\u001b[0m",
      "\u001b[0;31mModuleNotFoundError\u001b[0m                       Traceback (most recent call last)",
      "\u001b[0;32m<ipython-input-179-e26974a93c85>\u001b[0m in \u001b[0;36m<module>\u001b[0;34m\u001b[0m\n\u001b[1;32m      1\u001b[0m \u001b[0;32mfrom\u001b[0m \u001b[0mIPython\u001b[0m\u001b[0;34m.\u001b[0m\u001b[0mdisplay\u001b[0m \u001b[0;32mimport\u001b[0m \u001b[0mImage\u001b[0m\u001b[0;34m\u001b[0m\u001b[0;34m\u001b[0m\u001b[0m\n\u001b[1;32m      2\u001b[0m \u001b[0;32mfrom\u001b[0m \u001b[0msklearn\u001b[0m\u001b[0;34m.\u001b[0m\u001b[0mtree\u001b[0m \u001b[0;32mimport\u001b[0m \u001b[0mexport_graphviz\u001b[0m\u001b[0;34m\u001b[0m\u001b[0;34m\u001b[0m\u001b[0m\n\u001b[0;32m----> 3\u001b[0;31m \u001b[0;32mimport\u001b[0m \u001b[0mpydot\u001b[0m\u001b[0;34m\u001b[0m\u001b[0;34m\u001b[0m\u001b[0m\n\u001b[0m\u001b[1;32m      4\u001b[0m \u001b[0;32mimport\u001b[0m \u001b[0mos\u001b[0m\u001b[0;34m\u001b[0m\u001b[0;34m\u001b[0m\u001b[0m\n\u001b[1;32m      5\u001b[0m \u001b[0mos\u001b[0m\u001b[0;34m.\u001b[0m\u001b[0menviron\u001b[0m\u001b[0;34m[\u001b[0m\u001b[0;34m\"PATH\"\u001b[0m\u001b[0;34m]\u001b[0m \u001b[0;34m+=\u001b[0m \u001b[0mos\u001b[0m\u001b[0;34m.\u001b[0m\u001b[0mpathsep\u001b[0m \u001b[0;34m+\u001b[0m \u001b[0;34m'C:\\Program Files (x86)/Graphviz2.38/bin/'\u001b[0m\u001b[0;34m\u001b[0m\u001b[0;34m\u001b[0m\u001b[0m\n",
      "\u001b[0;31mModuleNotFoundError\u001b[0m: No module named 'pydot'"
     ]
    }
   ],
   "source": [
    "from IPython.display import Image\n",
    "from sklearn.tree import export_graphviz\n",
    "import pydot\n",
    "import os\n",
    "os.environ[\"PATH\"] += os.pathsep + 'C:\\Program Files (x86)/Graphviz2.38/bin/'\n",
    "\n",
    "features = list(kidney3.columns[1:])\n",
    "features"
   ]
  },
  {
   "cell_type": "code",
   "execution_count": 180,
   "metadata": {
    "execution": {
     "iopub.execute_input": "2022-05-05T08:16:06.709478Z",
     "iopub.status.busy": "2022-05-05T08:16:06.709176Z",
     "iopub.status.idle": "2022-05-05T08:16:06.904899Z",
     "shell.execute_reply": "2022-05-05T08:16:06.904067Z"
    },
    "papermill": {
     "duration": 0.319506,
     "end_time": "2022-05-05T08:16:06.907232",
     "exception": false,
     "start_time": "2022-05-05T08:16:06.587726",
     "status": "completed"
    },
    "tags": []
   },
   "outputs": [
    {
     "data": {
      "text/html": [
       "<style>#sk-container-id-8 {color: black;background-color: white;}#sk-container-id-8 pre{padding: 0;}#sk-container-id-8 div.sk-toggleable {background-color: white;}#sk-container-id-8 label.sk-toggleable__label {cursor: pointer;display: block;width: 100%;margin-bottom: 0;padding: 0.3em;box-sizing: border-box;text-align: center;}#sk-container-id-8 label.sk-toggleable__label-arrow:before {content: \"▸\";float: left;margin-right: 0.25em;color: #696969;}#sk-container-id-8 label.sk-toggleable__label-arrow:hover:before {color: black;}#sk-container-id-8 div.sk-estimator:hover label.sk-toggleable__label-arrow:before {color: black;}#sk-container-id-8 div.sk-toggleable__content {max-height: 0;max-width: 0;overflow: hidden;text-align: left;background-color: #f0f8ff;}#sk-container-id-8 div.sk-toggleable__content pre {margin: 0.2em;color: black;border-radius: 0.25em;background-color: #f0f8ff;}#sk-container-id-8 input.sk-toggleable__control:checked~div.sk-toggleable__content {max-height: 200px;max-width: 100%;overflow: auto;}#sk-container-id-8 input.sk-toggleable__control:checked~label.sk-toggleable__label-arrow:before {content: \"▾\";}#sk-container-id-8 div.sk-estimator input.sk-toggleable__control:checked~label.sk-toggleable__label {background-color: #d4ebff;}#sk-container-id-8 div.sk-label input.sk-toggleable__control:checked~label.sk-toggleable__label {background-color: #d4ebff;}#sk-container-id-8 input.sk-hidden--visually {border: 0;clip: rect(1px 1px 1px 1px);clip: rect(1px, 1px, 1px, 1px);height: 1px;margin: -1px;overflow: hidden;padding: 0;position: absolute;width: 1px;}#sk-container-id-8 div.sk-estimator {font-family: monospace;background-color: #f0f8ff;border: 1px dotted black;border-radius: 0.25em;box-sizing: border-box;margin-bottom: 0.5em;}#sk-container-id-8 div.sk-estimator:hover {background-color: #d4ebff;}#sk-container-id-8 div.sk-parallel-item::after {content: \"\";width: 100%;border-bottom: 1px solid gray;flex-grow: 1;}#sk-container-id-8 div.sk-label:hover label.sk-toggleable__label {background-color: #d4ebff;}#sk-container-id-8 div.sk-serial::before {content: \"\";position: absolute;border-left: 1px solid gray;box-sizing: border-box;top: 0;bottom: 0;left: 50%;z-index: 0;}#sk-container-id-8 div.sk-serial {display: flex;flex-direction: column;align-items: center;background-color: white;padding-right: 0.2em;padding-left: 0.2em;position: relative;}#sk-container-id-8 div.sk-item {position: relative;z-index: 1;}#sk-container-id-8 div.sk-parallel {display: flex;align-items: stretch;justify-content: center;background-color: white;position: relative;}#sk-container-id-8 div.sk-item::before, #sk-container-id-8 div.sk-parallel-item::before {content: \"\";position: absolute;border-left: 1px solid gray;box-sizing: border-box;top: 0;bottom: 0;left: 50%;z-index: -1;}#sk-container-id-8 div.sk-parallel-item {display: flex;flex-direction: column;z-index: 1;position: relative;background-color: white;}#sk-container-id-8 div.sk-parallel-item:first-child::after {align-self: flex-end;width: 50%;}#sk-container-id-8 div.sk-parallel-item:last-child::after {align-self: flex-start;width: 50%;}#sk-container-id-8 div.sk-parallel-item:only-child::after {width: 0;}#sk-container-id-8 div.sk-dashed-wrapped {border: 1px dashed gray;margin: 0 0.4em 0.5em 0.4em;box-sizing: border-box;padding-bottom: 0.4em;background-color: white;}#sk-container-id-8 div.sk-label label {font-family: monospace;font-weight: bold;display: inline-block;line-height: 1.2em;}#sk-container-id-8 div.sk-label-container {text-align: center;}#sk-container-id-8 div.sk-container {/* jupyter's `normalize.less` sets `[hidden] { display: none; }` but bootstrap.min.css set `[hidden] { display: none !important; }` so we also need the `!important` here to be able to override the default hidden behavior on the sphinx rendered scikit-learn.org. See: https://github.com/scikit-learn/scikit-learn/issues/21755 */display: inline-block !important;position: relative;}#sk-container-id-8 div.sk-text-repr-fallback {display: none;}</style><div id=\"sk-container-id-8\" class=\"sk-top-container\"><div class=\"sk-text-repr-fallback\"><pre>RandomForestClassifier()</pre><b>In a Jupyter environment, please rerun this cell to show the HTML representation or trust the notebook. <br />On GitHub, the HTML representation is unable to render, please try loading this page with nbviewer.org.</b></div><div class=\"sk-container\" hidden><div class=\"sk-item\"><div class=\"sk-estimator sk-toggleable\"><input class=\"sk-toggleable__control sk-hidden--visually\" id=\"sk-estimator-id-8\" type=\"checkbox\" checked><label for=\"sk-estimator-id-8\" class=\"sk-toggleable__label sk-toggleable__label-arrow\">RandomForestClassifier</label><div class=\"sk-toggleable__content\"><pre>RandomForestClassifier()</pre></div></div></div></div></div>"
      ],
      "text/plain": [
       "RandomForestClassifier()"
      ]
     },
     "execution_count": 180,
     "metadata": {},
     "output_type": "execute_result"
    }
   ],
   "source": [
    "rfc = RandomForestClassifier(n_estimators=100)\n",
    "rfc.fit(X_train,y_train)"
   ]
  },
  {
   "cell_type": "code",
   "execution_count": 181,
   "metadata": {
    "execution": {
     "iopub.execute_input": "2022-05-05T08:16:07.152553Z",
     "iopub.status.busy": "2022-05-05T08:16:07.152233Z",
     "iopub.status.idle": "2022-05-05T08:16:07.175588Z",
     "shell.execute_reply": "2022-05-05T08:16:07.174628Z"
    },
    "papermill": {
     "duration": 0.147942,
     "end_time": "2022-05-05T08:16:07.177818",
     "exception": false,
     "start_time": "2022-05-05T08:16:07.029876",
     "status": "completed"
    },
    "tags": []
   },
   "outputs": [
    {
     "data": {
      "text/plain": [
       "1.0"
      ]
     },
     "execution_count": 181,
     "metadata": {},
     "output_type": "execute_result"
    }
   ],
   "source": [
    "rfc.score(X_train, y_train)"
   ]
  },
  {
   "cell_type": "code",
   "execution_count": 182,
   "metadata": {
    "execution": {
     "iopub.execute_input": "2022-05-05T08:16:07.421030Z",
     "iopub.status.busy": "2022-05-05T08:16:07.420176Z",
     "iopub.status.idle": "2022-05-05T08:16:07.440189Z",
     "shell.execute_reply": "2022-05-05T08:16:07.439557Z"
    },
    "papermill": {
     "duration": 0.143486,
     "end_time": "2022-05-05T08:16:07.442413",
     "exception": false,
     "start_time": "2022-05-05T08:16:07.298927",
     "status": "completed"
    },
    "tags": []
   },
   "outputs": [],
   "source": [
    "rfc_pred = rfc.predict(X_test)"
   ]
  },
  {
   "cell_type": "code",
   "execution_count": 183,
   "metadata": {
    "execution": {
     "iopub.execute_input": "2022-05-05T08:16:07.687059Z",
     "iopub.status.busy": "2022-05-05T08:16:07.686459Z",
     "iopub.status.idle": "2022-05-05T08:16:07.696402Z",
     "shell.execute_reply": "2022-05-05T08:16:07.695545Z"
    },
    "papermill": {
     "duration": 0.133765,
     "end_time": "2022-05-05T08:16:07.698646",
     "exception": false,
     "start_time": "2022-05-05T08:16:07.564881",
     "status": "completed"
    },
    "tags": []
   },
   "outputs": [],
   "source": [
    "#Save model\n",
    "filename = 'rfc_high.pkl'\n",
    "pickle.dump(rfc, open(filename, 'wb'))"
   ]
  },
  {
   "cell_type": "code",
   "execution_count": 184,
   "metadata": {
    "execution": {
     "iopub.execute_input": "2022-05-05T08:16:07.945146Z",
     "iopub.status.busy": "2022-05-05T08:16:07.944822Z",
     "iopub.status.idle": "2022-05-05T08:16:07.950848Z",
     "shell.execute_reply": "2022-05-05T08:16:07.949921Z"
    },
    "papermill": {
     "duration": 0.131472,
     "end_time": "2022-05-05T08:16:07.953190",
     "exception": false,
     "start_time": "2022-05-05T08:16:07.821718",
     "status": "completed"
    },
    "tags": []
   },
   "outputs": [
    {
     "name": "stdout",
     "output_type": "stream",
     "text": [
      "[[30  0]\n",
      " [ 0 50]]\n"
     ]
    }
   ],
   "source": [
    "print(confusion_matrix(y_test,rfc_pred))"
   ]
  },
  {
   "cell_type": "code",
   "execution_count": 185,
   "metadata": {
    "execution": {
     "iopub.execute_input": "2022-05-05T08:16:08.198654Z",
     "iopub.status.busy": "2022-05-05T08:16:08.198341Z",
     "iopub.status.idle": "2022-05-05T08:16:08.208697Z",
     "shell.execute_reply": "2022-05-05T08:16:08.207552Z"
    },
    "papermill": {
     "duration": 0.136706,
     "end_time": "2022-05-05T08:16:08.211210",
     "exception": false,
     "start_time": "2022-05-05T08:16:08.074504",
     "status": "completed"
    },
    "tags": []
   },
   "outputs": [
    {
     "name": "stdout",
     "output_type": "stream",
     "text": [
      "              precision    recall  f1-score   support\n",
      "\n",
      "         0.0       1.00      1.00      1.00        30\n",
      "         1.0       1.00      1.00      1.00        50\n",
      "\n",
      "    accuracy                           1.00        80\n",
      "   macro avg       1.00      1.00      1.00        80\n",
      "weighted avg       1.00      1.00      1.00        80\n",
      "\n"
     ]
    }
   ],
   "source": [
    "print(classification_report(y_test,rfc_pred))"
   ]
  },
  {
   "cell_type": "code",
   "execution_count": 186,
   "metadata": {
    "execution": {
     "iopub.execute_input": "2022-05-05T08:16:08.456895Z",
     "iopub.status.busy": "2022-05-05T08:16:08.456563Z",
     "iopub.status.idle": "2022-05-05T08:16:08.462817Z",
     "shell.execute_reply": "2022-05-05T08:16:08.462006Z"
    },
    "papermill": {
     "duration": 0.131097,
     "end_time": "2022-05-05T08:16:08.464824",
     "exception": false,
     "start_time": "2022-05-05T08:16:08.333727",
     "status": "completed"
    },
    "tags": []
   },
   "outputs": [
    {
     "data": {
      "text/plain": [
       "1.0"
      ]
     },
     "execution_count": 186,
     "metadata": {},
     "output_type": "execute_result"
    }
   ],
   "source": [
    "accuracy_score( y_test, rfc_pred)"
   ]
  },
  {
   "cell_type": "code",
   "execution_count": 187,
   "metadata": {
    "execution": {
     "iopub.execute_input": "2022-05-05T08:16:08.709565Z",
     "iopub.status.busy": "2022-05-05T08:16:08.709291Z",
     "iopub.status.idle": "2022-05-05T08:16:09.206727Z",
     "shell.execute_reply": "2022-05-05T08:16:09.205634Z"
    },
    "papermill": {
     "duration": 0.623574,
     "end_time": "2022-05-05T08:16:09.210279",
     "exception": false,
     "start_time": "2022-05-05T08:16:08.586705",
     "status": "completed"
    },
    "tags": []
   },
   "outputs": [],
   "source": [
    "# Choosing a K Value.\n",
    "# Let's go ahead and use the elbow method to pick a good k value.\n",
    "error_rate = []\n",
    "\n",
    "# Will take some time\n",
    "for i in range(1,40):\n",
    "    \n",
    "    knn = KNeighborsClassifier(n_neighbors=i)\n",
    "    knn.fit(X_train,y_train)\n",
    "    pred_i = knn.predict(X_test)\n",
    "    error_rate.append(np.mean(pred_i != y_test))"
   ]
  },
  {
   "cell_type": "code",
   "execution_count": 188,
   "metadata": {
    "execution": {
     "iopub.execute_input": "2022-05-05T08:16:09.506198Z",
     "iopub.status.busy": "2022-05-05T08:16:09.505873Z",
     "iopub.status.idle": "2022-05-05T08:16:09.737202Z",
     "shell.execute_reply": "2022-05-05T08:16:09.736616Z"
    },
    "papermill": {
     "duration": 0.357086,
     "end_time": "2022-05-05T08:16:09.739223",
     "exception": false,
     "start_time": "2022-05-05T08:16:09.382137",
     "status": "completed"
    },
    "tags": []
   },
   "outputs": [
    {
     "data": {
      "text/plain": [
       "Text(0, 0.5, 'Error Rate')"
      ]
     },
     "execution_count": 188,
     "metadata": {},
     "output_type": "execute_result"
    },
    {
     "data": {
      "image/png": "[encoded data removed]",
      "text/plain": [
       "<Figure size 720x432 with 1 Axes>"
      ]
     },
     "metadata": {
      "needs_background": "light"
     },
     "output_type": "display_data"
    }
   ],
   "source": [
    "plt.figure(figsize=(10,6))\n",
    "plt.plot(range(1,40),error_rate,color='blue', linestyle='dashed', marker='o', markerfacecolor='red',markersize=10)\n",
    "plt.title('Error Rate vs. K Value')\n",
    "plt.xlabel('K')\n",
    "plt.ylabel('Error Rate')"
   ]
  },
  {
   "cell_type": "code",
   "execution_count": 189,
   "metadata": {
    "execution": {
     "iopub.execute_input": "2022-05-05T08:16:10.019654Z",
     "iopub.status.busy": "2022-05-05T08:16:10.019131Z",
     "iopub.status.idle": "2022-05-05T08:16:10.023072Z",
     "shell.execute_reply": "2022-05-05T08:16:10.022491Z"
    },
    "papermill": {
     "duration": 0.134855,
     "end_time": "2022-05-05T08:16:10.024904",
     "exception": false,
     "start_time": "2022-05-05T08:16:09.890049",
     "status": "completed"
    },
    "tags": []
   },
   "outputs": [],
   "source": [
    "knn = KNeighborsClassifier(n_neighbors=1)"
   ]
  },
  {
   "cell_type": "code",
   "execution_count": 190,
   "metadata": {
    "execution": {
     "iopub.execute_input": "2022-05-05T08:16:10.281125Z",
     "iopub.status.busy": "2022-05-05T08:16:10.280212Z",
     "iopub.status.idle": "2022-05-05T08:16:10.288709Z",
     "shell.execute_reply": "2022-05-05T08:16:10.287719Z"
    },
    "papermill": {
     "duration": 0.140838,
     "end_time": "2022-05-05T08:16:10.291006",
     "exception": false,
     "start_time": "2022-05-05T08:16:10.150168",
     "status": "completed"
    },
    "tags": []
   },
   "outputs": [
    {
     "data": {
      "text/html": [
       "<style>#sk-container-id-9 {color: black;background-color: white;}#sk-container-id-9 pre{padding: 0;}#sk-container-id-9 div.sk-toggleable {background-color: white;}#sk-container-id-9 label.sk-toggleable__label {cursor: pointer;display: block;width: 100%;margin-bottom: 0;padding: 0.3em;box-sizing: border-box;text-align: center;}#sk-container-id-9 label.sk-toggleable__label-arrow:before {content: \"▸\";float: left;margin-right: 0.25em;color: #696969;}#sk-container-id-9 label.sk-toggleable__label-arrow:hover:before {color: black;}#sk-container-id-9 div.sk-estimator:hover label.sk-toggleable__label-arrow:before {color: black;}#sk-container-id-9 div.sk-toggleable__content {max-height: 0;max-width: 0;overflow: hidden;text-align: left;background-color: #f0f8ff;}#sk-container-id-9 div.sk-toggleable__content pre {margin: 0.2em;color: black;border-radius: 0.25em;background-color: #f0f8ff;}#sk-container-id-9 input.sk-toggleable__control:checked~div.sk-toggleable__content {max-height: 200px;max-width: 100%;overflow: auto;}#sk-container-id-9 input.sk-toggleable__control:checked~label.sk-toggleable__label-arrow:before {content: \"▾\";}#sk-container-id-9 div.sk-estimator input.sk-toggleable__control:checked~label.sk-toggleable__label {background-color: #d4ebff;}#sk-container-id-9 div.sk-label input.sk-toggleable__control:checked~label.sk-toggleable__label {background-color: #d4ebff;}#sk-container-id-9 input.sk-hidden--visually {border: 0;clip: rect(1px 1px 1px 1px);clip: rect(1px, 1px, 1px, 1px);height: 1px;margin: -1px;overflow: hidden;padding: 0;position: absolute;width: 1px;}#sk-container-id-9 div.sk-estimator {font-family: monospace;background-color: #f0f8ff;border: 1px dotted black;border-radius: 0.25em;box-sizing: border-box;margin-bottom: 0.5em;}#sk-container-id-9 div.sk-estimator:hover {background-color: #d4ebff;}#sk-container-id-9 div.sk-parallel-item::after {content: \"\";width: 100%;border-bottom: 1px solid gray;flex-grow: 1;}#sk-container-id-9 div.sk-label:hover label.sk-toggleable__label {background-color: #d4ebff;}#sk-container-id-9 div.sk-serial::before {content: \"\";position: absolute;border-left: 1px solid gray;box-sizing: border-box;top: 0;bottom: 0;left: 50%;z-index: 0;}#sk-container-id-9 div.sk-serial {display: flex;flex-direction: column;align-items: center;background-color: white;padding-right: 0.2em;padding-left: 0.2em;position: relative;}#sk-container-id-9 div.sk-item {position: relative;z-index: 1;}#sk-container-id-9 div.sk-parallel {display: flex;align-items: stretch;justify-content: center;background-color: white;position: relative;}#sk-container-id-9 div.sk-item::before, #sk-container-id-9 div.sk-parallel-item::before {content: \"\";position: absolute;border-left: 1px solid gray;box-sizing: border-box;top: 0;bottom: 0;left: 50%;z-index: -1;}#sk-container-id-9 div.sk-parallel-item {display: flex;flex-direction: column;z-index: 1;position: relative;background-color: white;}#sk-container-id-9 div.sk-parallel-item:first-child::after {align-self: flex-end;width: 50%;}#sk-container-id-9 div.sk-parallel-item:last-child::after {align-self: flex-start;width: 50%;}#sk-container-id-9 div.sk-parallel-item:only-child::after {width: 0;}#sk-container-id-9 div.sk-dashed-wrapped {border: 1px dashed gray;margin: 0 0.4em 0.5em 0.4em;box-sizing: border-box;padding-bottom: 0.4em;background-color: white;}#sk-container-id-9 div.sk-label label {font-family: monospace;font-weight: bold;display: inline-block;line-height: 1.2em;}#sk-container-id-9 div.sk-label-container {text-align: center;}#sk-container-id-9 div.sk-container {/* jupyter's `normalize.less` sets `[hidden] { display: none; }` but bootstrap.min.css set `[hidden] { display: none !important; }` so we also need the `!important` here to be able to override the default hidden behavior on the sphinx rendered scikit-learn.org. See: https://github.com/scikit-learn/scikit-learn/issues/21755 */display: inline-block !important;position: relative;}#sk-container-id-9 div.sk-text-repr-fallback {display: none;}</style><div id=\"sk-container-id-9\" class=\"sk-top-container\"><div class=\"sk-text-repr-fallback\"><pre>KNeighborsClassifier(n_neighbors=1)</pre><b>In a Jupyter environment, please rerun this cell to show the HTML representation or trust the notebook. <br />On GitHub, the HTML representation is unable to render, please try loading this page with nbviewer.org.</b></div><div class=\"sk-container\" hidden><div class=\"sk-item\"><div class=\"sk-estimator sk-toggleable\"><input class=\"sk-toggleable__control sk-hidden--visually\" id=\"sk-estimator-id-9\" type=\"checkbox\" checked><label for=\"sk-estimator-id-9\" class=\"sk-toggleable__label sk-toggleable__label-arrow\">KNeighborsClassifier</label><div class=\"sk-toggleable__content\"><pre>KNeighborsClassifier(n_neighbors=1)</pre></div></div></div></div></div>"
      ],
      "text/plain": [
       "KNeighborsClassifier(n_neighbors=1)"
      ]
     },
     "execution_count": 190,
     "metadata": {},
     "output_type": "execute_result"
    }
   ],
   "source": [
    "knn.fit(X_train,y_train)"
   ]
  },
  {
   "cell_type": "code",
   "execution_count": 191,
   "metadata": {
    "execution": {
     "iopub.execute_input": "2022-05-05T08:16:10.546503Z",
     "iopub.status.busy": "2022-05-05T08:16:10.545769Z",
     "iopub.status.idle": "2022-05-05T08:16:10.562877Z",
     "shell.execute_reply": "2022-05-05T08:16:10.561568Z"
    },
    "papermill": {
     "duration": 0.147635,
     "end_time": "2022-05-05T08:16:10.566352",
     "exception": false,
     "start_time": "2022-05-05T08:16:10.418717",
     "status": "completed"
    },
    "tags": []
   },
   "outputs": [],
   "source": [
    "pred = knn.predict(X_test)"
   ]
  },
  {
   "cell_type": "code",
   "execution_count": 192,
   "metadata": {
    "execution": {
     "iopub.execute_input": "2022-05-05T08:16:10.868409Z",
     "iopub.status.busy": "2022-05-05T08:16:10.868088Z",
     "iopub.status.idle": "2022-05-05T08:16:10.900026Z",
     "shell.execute_reply": "2022-05-05T08:16:10.899180Z"
    },
    "papermill": {
     "duration": 0.162116,
     "end_time": "2022-05-05T08:16:10.902926",
     "exception": false,
     "start_time": "2022-05-05T08:16:10.740810",
     "status": "completed"
    },
    "tags": []
   },
   "outputs": [
    {
     "data": {
      "text/plain": [
       "1.0"
      ]
     },
     "execution_count": 192,
     "metadata": {},
     "output_type": "execute_result"
    }
   ],
   "source": [
    "knn.score(X_train, y_train)"
   ]
  },
  {
   "cell_type": "markdown",
   "metadata": {
    "papermill": {
     "duration": 0.127144,
     "end_time": "2022-05-05T08:16:11.199294",
     "exception": false,
     "start_time": "2022-05-05T08:16:11.072150",
     "status": "completed"
    },
    "tags": []
   },
   "source": [
    "# Saving Lowest KNN model"
   ]
  },
  {
   "cell_type": "code",
   "execution_count": 193,
   "metadata": {
    "execution": {
     "iopub.execute_input": "2022-05-05T08:16:11.449756Z",
     "iopub.status.busy": "2022-05-05T08:16:11.449433Z",
     "iopub.status.idle": "2022-05-05T08:16:11.454100Z",
     "shell.execute_reply": "2022-05-05T08:16:11.453470Z"
    },
    "papermill": {
     "duration": 0.131984,
     "end_time": "2022-05-05T08:16:11.456067",
     "exception": false,
     "start_time": "2022-05-05T08:16:11.324083",
     "status": "completed"
    },
    "tags": []
   },
   "outputs": [],
   "source": [
    "#Save model\n",
    "filename = 'knn_lowest.pkl'\n",
    "pickle.dump(knn, open(filename, 'wb'))"
   ]
  },
  {
   "cell_type": "code",
   "execution_count": 194,
   "metadata": {
    "execution": {
     "iopub.execute_input": "2022-05-05T08:16:11.714338Z",
     "iopub.status.busy": "2022-05-05T08:16:11.713429Z",
     "iopub.status.idle": "2022-05-05T08:16:11.720579Z",
     "shell.execute_reply": "2022-05-05T08:16:11.719691Z"
    },
    "papermill": {
     "duration": 0.139951,
     "end_time": "2022-05-05T08:16:11.723121",
     "exception": false,
     "start_time": "2022-05-05T08:16:11.583170",
     "status": "completed"
    },
    "tags": []
   },
   "outputs": [
    {
     "name": "stdout",
     "output_type": "stream",
     "text": [
      "[[26  4]\n",
      " [ 7 43]]\n"
     ]
    }
   ],
   "source": [
    "print(confusion_matrix(y_test,pred))"
   ]
  },
  {
   "cell_type": "code",
   "execution_count": 195,
   "metadata": {
    "execution": {
     "iopub.execute_input": "2022-05-05T08:16:11.979789Z",
     "iopub.status.busy": "2022-05-05T08:16:11.979446Z",
     "iopub.status.idle": "2022-05-05T08:16:11.990863Z",
     "shell.execute_reply": "2022-05-05T08:16:11.989703Z"
    },
    "papermill": {
     "duration": 0.144335,
     "end_time": "2022-05-05T08:16:11.993686",
     "exception": false,
     "start_time": "2022-05-05T08:16:11.849351",
     "status": "completed"
    },
    "tags": []
   },
   "outputs": [
    {
     "name": "stdout",
     "output_type": "stream",
     "text": [
      "              precision    recall  f1-score   support\n",
      "\n",
      "         0.0       0.79      0.87      0.83        30\n",
      "         1.0       0.91      0.86      0.89        50\n",
      "\n",
      "    accuracy                           0.86        80\n",
      "   macro avg       0.85      0.86      0.86        80\n",
      "weighted avg       0.87      0.86      0.86        80\n",
      "\n"
     ]
    }
   ],
   "source": [
    "print(classification_report(y_test,pred))"
   ]
  },
  {
   "cell_type": "code",
   "execution_count": 196,
   "metadata": {
    "execution": {
     "iopub.execute_input": "2022-05-05T08:16:12.248669Z",
     "iopub.status.busy": "2022-05-05T08:16:12.248218Z",
     "iopub.status.idle": "2022-05-05T08:16:12.255548Z",
     "shell.execute_reply": "2022-05-05T08:16:12.254752Z"
    },
    "papermill": {
     "duration": 0.137018,
     "end_time": "2022-05-05T08:16:12.257483",
     "exception": false,
     "start_time": "2022-05-05T08:16:12.120465",
     "status": "completed"
    },
    "tags": []
   },
   "outputs": [
    {
     "data": {
      "text/plain": [
       "0.8625"
      ]
     },
     "execution_count": 196,
     "metadata": {},
     "output_type": "execute_result"
    }
   ],
   "source": [
    "accuracy_score( y_test,pred)"
   ]
  },
  {
   "cell_type": "code",
   "execution_count": 197,
   "metadata": {
    "execution": {
     "iopub.execute_input": "2022-05-05T08:16:12.515484Z",
     "iopub.status.busy": "2022-05-05T08:16:12.515063Z",
     "iopub.status.idle": "2022-05-05T08:16:12.521053Z",
     "shell.execute_reply": "2022-05-05T08:16:12.520416Z"
    },
    "papermill": {
     "duration": 0.136058,
     "end_time": "2022-05-05T08:16:12.522995",
     "exception": false,
     "start_time": "2022-05-05T08:16:12.386937",
     "status": "completed"
    },
    "tags": []
   },
   "outputs": [
    {
     "data": {
      "text/plain": [
       "Index(['age', 'bp', 'sg', 'al', 'su', 'pcc', 'ba', 'bgr', 'bu', 'sc', 'hemo',\n",
       "       'htn', 'dm', 'cad', 'appet', 'pe', 'ane'],\n",
       "      dtype='object')"
      ]
     },
     "execution_count": 197,
     "metadata": {},
     "output_type": "execute_result"
    }
   ],
   "source": [
    "X_test.columns"
   ]
  },
  {
   "cell_type": "code",
   "execution_count": 199,
   "metadata": {},
   "outputs": [],
   "source": [
    "import pickle"
   ]
  },
  {
   "cell_type": "code",
   "execution_count": 200,
   "metadata": {},
   "outputs": [],
   "source": [
    "loaded_model = pickle.load(open('logmodel_new.pkl', 'rb'))"
   ]
  },
  {
   "cell_type": "code",
   "execution_count": 204,
   "metadata": {},
   "outputs": [
    {
     "name": "stdout",
     "output_type": "stream",
     "text": [
      "age\n",
      "bp\n",
      "sg\n",
      "al\n",
      "su\n",
      "pcc\n",
      "ba\n",
      "bgr\n",
      "bu\n",
      "sc\n",
      "hemo\n",
      "htn\n",
      "dm\n",
      "cad\n",
      "appet\n",
      "pe\n",
      "ane\n"
     ]
    }
   ],
   "source": [
    "for column in X_train.columns: print(column)"
   ]
  },
  {
   "cell_type": "code",
   "execution_count": null,
   "metadata": {},
   "outputs": [],
   "source": []
  }
 ],
 "metadata": {
  "kernelspec": {
   "display_name": "Python 3 (ipykernel)",
   "language": "python",
   "name": "python3"
  },
  "language_info": {
   "codemirror_mode": {
    "name": "ipython",
    "version": 3
   },
   "file_extension": ".py",
   "mimetype": "text/x-python",
   "name": "python",
   "nbconvert_exporter": "python",
   "pygments_lexer": "ipython3",
   "version": "3.8.10"
  },
  "papermill": {
   "default_parameters": {},
   "duration": 56.247241,
   "end_time": "2022-05-05T08:16:13.472134",
   "environment_variables": {},
   "exception": null,
   "input_path": "__notebook__.ipynb",
   "output_path": "__notebook__.ipynb",
   "parameters": {},
   "start_time": "2022-05-05T08:15:17.224893",
   "version": "2.3.4"
  }
 },
 "nbformat": 4,
 "nbformat_minor": 5
}
