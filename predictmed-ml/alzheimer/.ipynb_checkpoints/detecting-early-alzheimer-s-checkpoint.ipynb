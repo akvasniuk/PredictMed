{
 "cells": [
  {
   "cell_type": "code",
   "execution_count": 1,
   "metadata": {
    "_uuid": "6a720755860b07d7eb93e458306ec1b6fa079ed5"
   },
   "outputs": [
    {
     "data": {
      "text/html": [
       "<div>\n",
       "<style scoped>\n",
       "    .dataframe tbody tr th:only-of-type {\n",
       "        vertical-align: middle;\n",
       "    }\n",
       "\n",
       "    .dataframe tbody tr th {\n",
       "        vertical-align: top;\n",
       "    }\n",
       "\n",
       "    .dataframe thead th {\n",
       "        text-align: right;\n",
       "    }\n",
       "</style>\n",
       "<table border=\"1\" class=\"dataframe\">\n",
       "  <thead>\n",
       "    <tr style=\"text-align: right;\">\n",
       "      <th></th>\n",
       "      <th>Subject ID</th>\n",
       "      <th>MRI ID</th>\n",
       "      <th>Group</th>\n",
       "      <th>Visit</th>\n",
       "      <th>MR Delay</th>\n",
       "      <th>M/F</th>\n",
       "      <th>Hand</th>\n",
       "      <th>Age</th>\n",
       "      <th>EDUC</th>\n",
       "      <th>SES</th>\n",
       "      <th>MMSE</th>\n",
       "      <th>CDR</th>\n",
       "      <th>eTIV</th>\n",
       "      <th>nWBV</th>\n",
       "      <th>ASF</th>\n",
       "    </tr>\n",
       "  </thead>\n",
       "  <tbody>\n",
       "    <tr>\n",
       "      <th>0</th>\n",
       "      <td>OAS2_0001</td>\n",
       "      <td>OAS2_0001_MR1</td>\n",
       "      <td>Nondemented</td>\n",
       "      <td>1</td>\n",
       "      <td>0</td>\n",
       "      <td>M</td>\n",
       "      <td>R</td>\n",
       "      <td>87</td>\n",
       "      <td>14</td>\n",
       "      <td>2.0</td>\n",
       "      <td>27.0</td>\n",
       "      <td>0.0</td>\n",
       "      <td>1987</td>\n",
       "      <td>0.696</td>\n",
       "      <td>0.883</td>\n",
       "    </tr>\n",
       "    <tr>\n",
       "      <th>1</th>\n",
       "      <td>OAS2_0001</td>\n",
       "      <td>OAS2_0001_MR2</td>\n",
       "      <td>Nondemented</td>\n",
       "      <td>2</td>\n",
       "      <td>457</td>\n",
       "      <td>M</td>\n",
       "      <td>R</td>\n",
       "      <td>88</td>\n",
       "      <td>14</td>\n",
       "      <td>2.0</td>\n",
       "      <td>30.0</td>\n",
       "      <td>0.0</td>\n",
       "      <td>2004</td>\n",
       "      <td>0.681</td>\n",
       "      <td>0.876</td>\n",
       "    </tr>\n",
       "    <tr>\n",
       "      <th>2</th>\n",
       "      <td>OAS2_0002</td>\n",
       "      <td>OAS2_0002_MR1</td>\n",
       "      <td>Demented</td>\n",
       "      <td>1</td>\n",
       "      <td>0</td>\n",
       "      <td>M</td>\n",
       "      <td>R</td>\n",
       "      <td>75</td>\n",
       "      <td>12</td>\n",
       "      <td>NaN</td>\n",
       "      <td>23.0</td>\n",
       "      <td>0.5</td>\n",
       "      <td>1678</td>\n",
       "      <td>0.736</td>\n",
       "      <td>1.046</td>\n",
       "    </tr>\n",
       "    <tr>\n",
       "      <th>3</th>\n",
       "      <td>OAS2_0002</td>\n",
       "      <td>OAS2_0002_MR2</td>\n",
       "      <td>Demented</td>\n",
       "      <td>2</td>\n",
       "      <td>560</td>\n",
       "      <td>M</td>\n",
       "      <td>R</td>\n",
       "      <td>76</td>\n",
       "      <td>12</td>\n",
       "      <td>NaN</td>\n",
       "      <td>28.0</td>\n",
       "      <td>0.5</td>\n",
       "      <td>1738</td>\n",
       "      <td>0.713</td>\n",
       "      <td>1.010</td>\n",
       "    </tr>\n",
       "    <tr>\n",
       "      <th>4</th>\n",
       "      <td>OAS2_0002</td>\n",
       "      <td>OAS2_0002_MR3</td>\n",
       "      <td>Demented</td>\n",
       "      <td>3</td>\n",
       "      <td>1895</td>\n",
       "      <td>M</td>\n",
       "      <td>R</td>\n",
       "      <td>80</td>\n",
       "      <td>12</td>\n",
       "      <td>NaN</td>\n",
       "      <td>22.0</td>\n",
       "      <td>0.5</td>\n",
       "      <td>1698</td>\n",
       "      <td>0.701</td>\n",
       "      <td>1.034</td>\n",
       "    </tr>\n",
       "  </tbody>\n",
       "</table>\n",
       "</div>"
      ],
      "text/plain": [
       "  Subject ID         MRI ID        Group  Visit  MR Delay M/F Hand  Age  EDUC  \\\n",
       "0  OAS2_0001  OAS2_0001_MR1  Nondemented      1         0   M    R   87    14   \n",
       "1  OAS2_0001  OAS2_0001_MR2  Nondemented      2       457   M    R   88    14   \n",
       "2  OAS2_0002  OAS2_0002_MR1     Demented      1         0   M    R   75    12   \n",
       "3  OAS2_0002  OAS2_0002_MR2     Demented      2       560   M    R   76    12   \n",
       "4  OAS2_0002  OAS2_0002_MR3     Demented      3      1895   M    R   80    12   \n",
       "\n",
       "   SES  MMSE  CDR  eTIV   nWBV    ASF  \n",
       "0  2.0  27.0  0.0  1987  0.696  0.883  \n",
       "1  2.0  30.0  0.0  2004  0.681  0.876  \n",
       "2  NaN  23.0  0.5  1678  0.736  1.046  \n",
       "3  NaN  28.0  0.5  1738  0.713  1.010  \n",
       "4  NaN  22.0  0.5  1698  0.701  1.034  "
      ]
     },
     "execution_count": 1,
     "metadata": {},
     "output_type": "execute_result"
    }
   ],
   "source": [
    "import pandas as pd  \n",
    "import numpy as np     \n",
    "import seaborn as sns \n",
    "import matplotlib.pyplot as plt \n",
    "%matplotlib inline\n",
    "\n",
    "\n",
    "sns.set()\n",
    "\n",
    "\n",
    "df = pd.read_csv('./oasis_longitudinal.csv')\n",
    "\n",
    "df.head()\n"
   ]
  },
  {
   "cell_type": "code",
   "execution_count": 2,
   "metadata": {
    "_uuid": "08991ab4c6c3aef89ad366662aad97a846aa9d8f",
    "jupyter": {
     "outputs_hidden": true
    }
   },
   "outputs": [],
   "source": [
    "\n",
    "df = df.loc[df['Visit']==1]\n",
    "\n",
    "\n",
    "df = df.reset_index(drop=True)\n",
    "\n",
    "\n",
    "df['M/F'] = df['M/F'].replace(['F','M'], [0,1])\n",
    "\n",
    "\n",
    "df['Group'] = df['Group'].replace(['Converted'], ['Demented'])\n",
    "\n",
    "\n",
    "df['Group'] = df['Group'].replace(['Demented', 'Nondemented'], [1,0])\n",
    "\n",
    "\n",
    "df = df.drop(['MRI ID', 'Visit', 'Hand'], axis=1)\n"
   ]
  },
  {
   "cell_type": "code",
   "execution_count": 3,
   "metadata": {
    "_uuid": "9175b97a0b02ff8ace2e3bc8a6327488b3232783",
    "executionInfo": {
     "elapsed": 11761,
     "status": "error",
     "timestamp": 1512599691671,
     "user": {
      "displayName": "Saurin Parikh",
      "photoUrl": "//lh3.googleusercontent.com/-6RG-0wrBKjU/AAAAAAAAAAI/AAAAAAAABpU/h5Zwf5zd3tk/s50-c-k-no/photo.jpg",
      "userId": "104703813675171986785"
     },
     "user_tz": 300
    },
    "id": "-4-ZVrHJslSF",
    "outputId": "5f5cc170-02d6-41d4-f5f2-3b575833b56b"
   },
   "outputs": [],
   "source": [
    "\n",
    "def bar_chart(feature):\n",
    "    \n",
    "    Demented = df[df['Group']==1][feature].value_counts()\n",
    "    Nondemented = df[df['Group']==0][feature].value_counts()\n",
    "    \n",
    "\n",
    "    df_bar = pd.DataFrame([Demented, Nondemented])\n",
    "    df_bar.index = ['Demented', 'Nondemented']\n",
    "    \n",
    " \n",
    "    df_bar.plot(kind='bar', stacked=True, figsize=(8, 5))\n"
   ]
  },
  {
   "cell_type": "code",
   "execution_count": 4,
   "metadata": {
    "_uuid": "5f8599d4f70b78047011217e3bbcaa26311fddc6",
    "id": "k-92eJ7pslSL",
    "outputId": "d9940867-44f6-4d3a-f6fb-ddef5630877e"
   },
   "outputs": [
    {
     "data": {
      "text/plain": [
       "Text(0.5, 1.0, 'Gender and Demented rate')"
      ]
     },
     "execution_count": 4,
     "metadata": {},
     "output_type": "execute_result"
    },
    {
     "data": {
      "image/png": "[encoded data removed]",
      "text/plain": [
       "<Figure size 576x360 with 1 Axes>"
      ]
     },
     "metadata": {},
     "output_type": "display_data"
    }
   ],
   "source": [
    "\n",
    "bar_chart('M/F')\n",
    "\n",
    "\n",
    "plt.xlabel('Group')\n",
    "\n",
    "\n",
    "plt.ylabel('Number of patients')\n",
    "\n",
    "\n",
    "plt.legend()\n",
    "\n",
    "\n",
    "plt.title('Gender and Demented rate')"
   ]
  },
  {
   "cell_type": "code",
   "execution_count": 5,
   "metadata": {
    "_uuid": "e1b8fbe86bbf469971aed915c2b8e9caa9cdbe53",
    "id": "QfZMuTl7slSP",
    "outputId": "b3a6a8a7-5cd6-48eb-e631-20b8d30c3bad"
   },
   "outputs": [
    {
     "name": "stderr",
     "output_type": "stream",
     "text": [
      "/home/user/.local/lib/python3.8/site-packages/seaborn/axisgrid.py:745: FutureWarning: iteritems is deprecated and will be removed in a future version. Use .items instead.\n",
      "  plot_args = [v for k, v in plot_data.iteritems()]\n",
      "/home/user/.local/lib/python3.8/site-packages/seaborn/axisgrid.py:848: FutureWarning: \n",
      "\n",
      "`shade` is now deprecated in favor of `fill`; setting `fill=True`.\n",
      "This will become an error in seaborn v0.14.0; please update your code.\n",
      "\n",
      "  func(*plot_args, **plot_kwargs)\n",
      "/home/user/.local/lib/python3.8/site-packages/seaborn/axisgrid.py:745: FutureWarning: iteritems is deprecated and will be removed in a future version. Use .items instead.\n",
      "  plot_args = [v for k, v in plot_data.iteritems()]\n",
      "/home/user/.local/lib/python3.8/site-packages/seaborn/axisgrid.py:848: FutureWarning: \n",
      "\n",
      "`shade` is now deprecated in favor of `fill`; setting `fill=True`.\n",
      "This will become an error in seaborn v0.14.0; please update your code.\n",
      "\n",
      "  func(*plot_args, **plot_kwargs)\n"
     ]
    },
    {
     "data": {
      "text/plain": [
       "(15.0, 30.0)"
      ]
     },
     "execution_count": 5,
     "metadata": {},
     "output_type": "execute_result"
    },
    {
     "data": {
      "image/png": "[encoded data removed]",
      "text/plain": [
       "<Figure size 694.6x216 with 1 Axes>"
      ]
     },
     "metadata": {},
     "output_type": "display_data"
    }
   ],
   "source": [
    "facet = sns.FacetGrid(df, hue=\"Group\", aspect=3)\n",
    "\n",
    "\n",
    "facet.map(sns.kdeplot, 'MMSE', shade=True)\n",
    "\n",
    "\n",
    "facet.set(xlim=(0, df['MMSE'].max()))\n",
    "\n",
    "\n",
    "facet.add_legend()\n",
    "\n",
    "\n",
    "plt.xlim(15, 30)\n"
   ]
  },
  {
   "cell_type": "code",
   "execution_count": 6,
   "metadata": {
    "_uuid": "4dc483b489417595af5d23cf7a44de13c8ba371d",
    "id": "JPuWkiWGslSS",
    "outputId": "4088e3c2-8493-41d2-c61a-c386e784fd37"
   },
   "outputs": [
    {
     "data": {
      "text/plain": [
       "(0.6, 0.9)"
      ]
     },
     "execution_count": 6,
     "metadata": {},
     "output_type": "execute_result"
    },
    {
     "data": {
      "image/png": "[encoded data removed]",
      "text/plain": [
       "<matplotlib.figure.Figure at 0x7fd5aa2da198>"
      ]
     },
     "metadata": {},
     "output_type": "display_data"
    },
    {
     "data": {
      "image/png": "[encoded data removed]",
      "text/plain": [
       "<matplotlib.figure.Figure at 0x7fd5aa15e7b8>"
      ]
     },
     "metadata": {},
     "output_type": "display_data"
    },
    {
     "data": {
      "image/png": "[encoded data removed]",
      "text/plain": [
       "<matplotlib.figure.Figure at 0x7fd5aa0ddf60>"
      ]
     },
     "metadata": {},
     "output_type": "display_data"
    }
   ],
   "source": [
    "\n",
    "facet = sns.FacetGrid(df, hue=\"Group\", aspect=3)  \n",
    "facet.map(sns.kdeplot, 'ASF', shade=True)  # KDE 플롯을 통해 ASF의 분포 시각화, 음영 효과 추가\n",
    "facet.set(xlim=(0, df['ASF'].max()))  # x축 범위 설정\n",
    "facet.add_legend()  # 범례 추가\n",
    "plt.xlim(0.5, 2)  # x축 범위 재설정\n",
    "\n",
    "# 추정 총 두뇌 내용량(eTIV)에 대한 분포 시각화\n",
    "facet = sns.FacetGrid(df, hue=\"Group\", aspect=3)  # FacetGrid 생성, 'Group'에 따라 색상 구분\n",
    "facet.map(sns.kdeplot, 'eTIV', shade=True)  # KDE 플롯을 통해 eTIV의 분포 시각화, 음영 효과 추가\n",
    "facet.set(xlim=(0, df['eTIV'].max()))  # x축 범위 설정\n",
    "facet.add_legend()  # 범례 추가\n",
    "plt.xlim(900, 2100)  # x축 범위 재설정\n",
    "\n",
    "# 정규화된 전체 뇌 부피(nWBV)에 대한 분포 시각화\n",
    "# 비치맨티드(치맨트되지 않은) 그룹은 0, 데맨티드(치맨트된) 그룹은 1로 표시됩니다.\n",
    "facet = sns.FacetGrid(df, hue=\"Group\", aspect=3)  # FacetGrid 생성, 'Group'에 따라 색상 구분\n",
    "facet.map(sns.kdeplot, 'nWBV', shade=True)  # KDE 플롯을 통해 nWBV의 분포 시각화, 음영 효과 추가\n",
    "facet.set(xlim=(0, df['nWBV'].max()))  # x축 범위 설정\n",
    "facet.add_legend()  # 범례 추가\n",
    "plt.xlim(0.6, 0.9)  # x축 범위 재설정\n"
   ]
  },
  {
   "cell_type": "markdown",
   "metadata": {
    "_uuid": "96f2d269e35927b57c5068b2b3dda2d145ae91f4",
    "id": "1LC-PdJislSV"
   },
   "source": [
    "The chart indicates that Nondemented group has higher brain volume ratio than Demented group. This is assumed to be because the diseases affect the brain to be shrinking its tissue. "
   ]
  },
  {
   "cell_type": "code",
   "execution_count": 7,
   "metadata": {
    "_uuid": "87a846e38f21e28b3c7ad6bae536b7cd2c3e2466",
    "id": "w6rN7jjSslSW",
    "outputId": "fbb23e63-a926-477c-c6ff-fc87933c1ea6"
   },
   "outputs": [
    {
     "data": {
      "text/plain": [
       "(50, 100)"
      ]
     },
     "execution_count": 7,
     "metadata": {},
     "output_type": "execute_result"
    },
    {
     "data": {
      "image/png": "[encoded data removed]",
      "text/plain": [
       "<matplotlib.figure.Figure at 0x7fd5aa20f1d0>"
      ]
     },
     "metadata": {},
     "output_type": "display_data"
    }
   ],
   "source": [
    "# 나이(Age)에 대한 분포 시각화\n",
    "# 논디멘티드(치맨트되지 않은) 그룹은 0, 데맨티드(치맨트된) 그룹은 1로 표시됩니다.\n",
    "facet = sns.FacetGrid(df, hue=\"Group\", aspect=3)  # FacetGrid 생성, 'Group'에 따라 색상 구분\n",
    "facet.map(sns.kdeplot, 'Age', shade=True)  # KDE 플롯을 통해 나이의 분포 시각화, 음영 효과 추가\n",
    "facet.set(xlim=(0, df['Age'].max()))  # x축 범위 설정\n",
    "facet.add_legend()  # 범례 추가\n",
    "plt.xlim(50, 100)  # x축 범위 재설정\n"
   ]
  },
  {
   "cell_type": "markdown",
   "metadata": {
    "_uuid": "e491fe3ded880c040a17cde07279b0474b00ff7a",
    "id": "VlQHpQRWslSY"
   },
   "source": [
    "There is a higher concentration of 70-80 years old in the Demented patient group than those in the nondemented patients.\n",
    "We guess patients who suffered from that kind of disease has lower survival rate so that there are a few of 90 years old."
   ]
  },
  {
   "cell_type": "code",
   "execution_count": 8,
   "metadata": {
    "_uuid": "8177a32eff0fece26f2220ccc046843347afc41e",
    "id": "w6rN7jjSslSW",
    "outputId": "fbb23e63-a926-477c-c6ff-fc87933c1ea6"
   },
   "outputs": [
    {
     "data": {
      "text/plain": [
       "(0, 0.16)"
      ]
     },
     "execution_count": 8,
     "metadata": {},
     "output_type": "execute_result"
    },
    {
     "data": {
      "image/png": "[encoded data removed]",
      "text/plain": [
       "<matplotlib.figure.Figure at 0x7fd5aa0f64e0>"
      ]
     },
     "metadata": {},
     "output_type": "display_data"
    }
   ],
   "source": [
    "# 교육 연수(EDUC)에 대한 분포 시각화\n",
    "# 논디멘티드(치맨트되지 않은) 그룹은 0, 데맨티드(치맨트된) 그룹은 1로 표시됩니다.\n",
    "facet = sns.FacetGrid(df, hue=\"Group\", aspect=3)  # FacetGrid 생성, 'Group'에 따라 색상 구분\n",
    "facet.map(sns.kdeplot, 'EDUC', shade=True)  # KDE 플롯을 통해 교육 연수의 분포 시각화, 음영 효과 추가\n",
    "facet.set(xlim=(df['EDUC'].min(), df['EDUC'].max()))  # x축 범위 설정\n",
    "facet.add_legend()  # 범례 추가\n",
    "plt.ylim(0, 0.16)  # y축 범위 설정\n"
   ]
  },
  {
   "cell_type": "markdown",
   "metadata": {
    "_uuid": "26e6c99d943c7e371e9fd7c3b962449996e743fd",
    "id": "HGKJOeWYslSZ"
   },
   "source": [
    "## Intermediate Result Summary\n",
    "1. Men are more likely with demented, an Alzheimer's Disease, than Women.\n",
    "2. Demented patients were less educated in terms of years of education.\n",
    "3. Nondemented group has higher brain volume than Demented group.\n",
    "4. Higher concentration of 70-80 years old in Demented group than those in the nondemented patients."
   ]
  },
  {
   "cell_type": "markdown",
   "metadata": {
    "_uuid": "80a9f0ebb50abd31cfa14ed7d93204d00f313543",
    "id": "dR7e2FEuScR8"
   },
   "source": [
    "# 5. Data Preprocessing\n",
    "---\n",
    "We identified 8 rows with missing values in SES column. We deal with this issue with 2 approaches. One is just to drop the rows with missing values. The other is to replace the missing values with the corresponing values, also known as 'Imputation'. Since we have only 150 data, I assume imputation would help the performance of our model."
   ]
  },
  {
   "cell_type": "code",
   "execution_count": 9,
   "metadata": {
    "_uuid": "c485e9bdba313a2897fa58aa61406f07c2206c27",
    "id": "crn5DxTUScSI",
    "outputId": "10613858-0403-4c42-aea7-7bc3635ef60e"
   },
   "outputs": [
    {
     "data": {
      "text/plain": [
       "Subject ID    0\n",
       "Group         0\n",
       "MR Delay      0\n",
       "M/F           0\n",
       "Age           0\n",
       "EDUC          0\n",
       "SES           8\n",
       "MMSE          0\n",
       "CDR           0\n",
       "eTIV          0\n",
       "nWBV          0\n",
       "ASF           0\n",
       "dtype: int64"
      ]
     },
     "execution_count": 9,
     "metadata": {},
     "output_type": "execute_result"
    }
   ],
   "source": [
    "# 각 열별로 결측값 확인\n",
    "missing_values = pd.isnull(df).sum()  # 각 열마다 결측값 개수를 세어 Series로 반환\n",
    "# 'SES' 열에는 8개의 결측값이 있음\n",
    "\n",
    "# 결측값을 확인하기 위해 생성된 Series 출력\n",
    "missing_values\n"
   ]
  },
  {
   "cell_type": "markdown",
   "metadata": {
    "_uuid": "10bb2143731149217bd59b8ea7fb2f12706dd355",
    "id": "v96VUyPYScSL"
   },
   "source": [
    "## 5.A Removing rows with missing values"
   ]
  },
  {
   "cell_type": "code",
   "execution_count": 10,
   "metadata": {
    "_uuid": "71f15a1cda750ae72a718d2ec0aa7939ac2b7855",
    "id": "NCuXVrJtScSM",
    "outputId": "29e022db-bb16-44f6-bfc7-3cd3fbb6f930"
   },
   "outputs": [
    {
     "data": {
      "text/plain": [
       "Subject ID    0\n",
       "Group         0\n",
       "MR Delay      0\n",
       "M/F           0\n",
       "Age           0\n",
       "EDUC          0\n",
       "SES           0\n",
       "MMSE          0\n",
       "CDR           0\n",
       "eTIV          0\n",
       "nWBV          0\n",
       "ASF           0\n",
       "dtype: int64"
      ]
     },
     "execution_count": 10,
     "metadata": {},
     "output_type": "execute_result"
    }
   ],
   "source": [
    "# 'SES' 열의 결측값을 포함하는 행을 삭제\n",
    "df_dropna = df.dropna(axis=0, how='any')  # 결측값이 있는 행을 삭제한 새로운 데이터프레임 생성\n",
    "# 삭제 후 결측값이 있는 열별로 다시 확인\n",
    "missing_values_after_drop = pd.isnull(df_dropna).sum()\n",
    "\n",
    "# 결측값이 있는 열별로 다시 확인한 결과를 출력\n",
    "missing_values_after_drop\n"
   ]
  },
  {
   "cell_type": "code",
   "execution_count": 11,
   "metadata": {
    "_uuid": "a08f0ff032efa883e45e9b5bd2b6d386dd89f9b3",
    "id": "ThXMkCk0ScSQ",
    "outputId": "24c17bc4-f411-470d-e483-cd6098eff679"
   },
   "outputs": [
    {
     "data": {
      "text/plain": [
       "0    72\n",
       "1    70\n",
       "Name: Group, dtype: int64"
      ]
     },
     "execution_count": 11,
     "metadata": {},
     "output_type": "execute_result"
    }
   ],
   "source": [
    "# 결측값이 삭제된 데이터프레임에서 'Group' 열의 값 분포 확인\n",
    "group_value_counts = df_dropna['Group'].value_counts()\n",
    "# 'Group' 열의 각 값이 몇 번씩 나타나는지 확인하여 출력\n",
    "\n",
    "# 'Group' 열의 값 분포 확인 결과 출력\n",
    "group_value_counts\n"
   ]
  },
  {
   "cell_type": "markdown",
   "metadata": {
    "_uuid": "9a81499adca6b212e798a6b9a123c5806d57e087",
    "id": "A0ipe9qsScSU"
   },
   "source": [
    "## 5.B Imputation\n",
    "\n",
    "Scikit-learn provides package for imputation [6], but we do it manually. Since the *SES* is a discrete variable, we use median for the imputation."
   ]
  },
  {
   "cell_type": "code",
   "execution_count": 12,
   "metadata": {
    "_uuid": "1c2354281b56aaac81b5dd09cee531be85a72b1f",
    "id": "62IgZtwnScSV",
    "outputId": "a5e8f86e-66d6-4147-83f7-f26b12787245"
   },
   "outputs": [
    {
     "data": {
      "image/png": "[encoded data removed]",
      "text/plain": [
       "<matplotlib.figure.Figure at 0x7fd5aa119b70>"
      ]
     },
     "metadata": {},
     "output_type": "display_data"
    }
   ],
   "source": [
    "# 교육 연수(EDUC)와 사회경제적 지위(SES) 사이의 산점도 그리기\n",
    "x = df['EDUC']  # x 축에 사용할 데이터: 교육 연수\n",
    "y = df['SES']   # y 축에 사용할 데이터: 사회경제적 지위\n",
    "\n",
    "# SES 열에서 결측값이 없는 행의 인덱스 추출\n",
    "ses_not_null_index = y[~y.isnull()].index\n",
    "x = x[ses_not_null_index]  # 결측값이 없는 행의 교육 연수 데이터\n",
    "y = y[ses_not_null_index]  # 결측값이 없는 행의 사회경제적 지위 데이터\n",
    "\n",
    "# 빨간색 점선을 사용하여 추세선 그리기\n",
    "z = np.polyfit(x, y, 1)  # 1차 다항식으로 회귀 계수 추정\n",
    "p = np.poly1d(z)  # 추정된 회귀 계수를 사용하여 다항식 생성\n",
    "plt.plot(x, y, 'go', x, p(x), \"r--\")  # 산점도와 추세선 그리기\n",
    "plt.xlabel('교육 수준(EDUC)')  # x 축 레이블 설정\n",
    "plt.ylabel('사회경제적 지위(SES)')  # y 축 레이블 설정\n",
    "\n",
    "plt.show()  # 그래프 출력\n"
   ]
  },
  {
   "cell_type": "code",
   "execution_count": 13,
   "metadata": {
    "_uuid": "d2fcc229a25ba9ad1097de001cd53505ad0ba478",
    "id": "cKaMRSvgScSY",
    "outputId": "f05f5530-b14c-4bb8-abbb-037e2a0838e3"
   },
   "outputs": [
    {
     "data": {
      "text/plain": [
       "EDUC\n",
       "6     4.0\n",
       "8     5.0\n",
       "11    4.0\n",
       "12    3.0\n",
       "13    2.0\n",
       "14    3.0\n",
       "15    2.0\n",
       "16    2.0\n",
       "17    1.0\n",
       "18    2.0\n",
       "20    1.0\n",
       "23    1.0\n",
       "Name: SES, dtype: float64"
      ]
     },
     "execution_count": 13,
     "metadata": {},
     "output_type": "execute_result"
    }
   ],
   "source": [
    "# 교육 연수(EDUC)에 따른 사회경제적 지위(SES)의 중앙값 계산\n",
    "# 'groupby'를 사용하여 'EDUC' 열을 기준으로 그룹화하고, 'SES' 열의 중앙값을 계산합니다.\n",
    "educ_ses_median = df.groupby(['EDUC'])['SES'].median()\n",
    "\n",
    "# 계산된 중앙값 결과를 출력\n",
    "educ_ses_median\n"
   ]
  },
  {
   "cell_type": "code",
   "execution_count": 14,
   "metadata": {
    "_uuid": "b41fdf3fc1f569f482e8a506f0737775e84b338a",
    "collapsed": true,
    "id": "dj_edAcdScSb",
    "jupyter": {
     "outputs_hidden": true
    }
   },
   "outputs": [],
   "source": [
    "# 'SES' 열의 결측값을 해당 교육 연수 그룹의 중앙값으로 채우기\n",
    "# 'groupby'를 사용하여 'EDUC' 열을 기준으로 그룹화하고, 각 그룹의 중앙값을 계산하여 결측값을 채웁니다.\n",
    "df[\"SES\"].fillna(df.groupby(\"EDUC\")[\"SES\"].transform(\"median\"), inplace=True)\n"
   ]
  },
  {
   "cell_type": "code",
   "execution_count": 15,
   "metadata": {
    "_uuid": "63c36b7bc32f5cc65c8bf908113ba919a17fc5b8",
    "id": "Y4SgUM58ScSd",
    "outputId": "9325d3dc-7f01-4be2-a932-a39c68d202b7"
   },
   "outputs": [
    {
     "data": {
      "text/plain": [
       "False    150\n",
       "Name: SES, dtype: int64"
      ]
     },
     "execution_count": 15,
     "metadata": {},
     "output_type": "execute_result"
    }
   ],
   "source": [
    "# 더 이상 결측값이 없고 모든 150개의 데이터가 사용되었는지 확인\n",
    "# 'pd.isnull(df['SES'])'를 통해 'SES' 열의 결측값 여부를 확인하고, 각 값의 개수를 세어줍니다.\n",
    "missing_values_check = pd.isnull(df['SES']).value_counts()\n",
    "\n",
    "# 결측값 여부 확인 결과 출력\n",
    "missing_values_check\n"
   ]
  },
  {
   "cell_type": "markdown",
   "metadata": {
    "_uuid": "61220f51b25e5efcc5ceaa0d8f133967514b33a5"
   },
   "source": [
    "## 5.C Splitting Train/Validation/Test Sets"
   ]
  },
  {
   "cell_type": "code",
   "execution_count": 16,
   "metadata": {
    "_uuid": "b039c111537091add5e04716b4d33501855155e8",
    "collapsed": true,
    "id": "kJcRjpOIScSj",
    "jupyter": {
     "outputs_hidden": true
    }
   },
   "outputs": [],
   "source": [
    "# scikit-learn 라이브러리에서 필요한 모듈들을 임포트\n",
    "from sklearn.model_selection import train_test_split  # 데이터를 훈련 세트와 테스트 세트로 분할하기 위한 모듈\n",
    "from sklearn import preprocessing  # 데이터 전처리를 위한 모듈\n",
    "from sklearn.preprocessing import MinMaxScaler  # Min-Max 스케일링을 위한 모듈\n",
    "from sklearn.model_selection import cross_val_score  # 교차 검증을 위한 모듈"
   ]
  },
  {
   "cell_type": "code",
   "execution_count": 17,
   "metadata": {
    "_uuid": "9c0cd7fedabdd26e4dbd2e5ed19a79c9097511c8",
    "collapsed": true,
    "id": "eI6EXWT7ScSm",
    "jupyter": {
     "outputs_hidden": true
    }
   },
   "outputs": [],
   "source": [
    "# 대체된 데이터셋 생성\n",
    "Y = df['Group'].values  # 모델의 목표값(타겟)\n",
    "X = df[['M/F', 'Age', 'EDUC', 'SES', 'MMSE', 'eTIV', 'nWBV', 'ASF']]  # 사용할 특성들\n",
    "\n",
    "# 세 가지 세트로 데이터 분할\n",
    "X_trainval, X_test, Y_trainval, Y_test = train_test_split(\n",
    "    X, Y, random_state=0)\n",
    "# train_test_split을 사용하여 데이터를 훈련, 검증, 테스트 세트로 나누고, 난수 발생 시드로 고정하여 재현성을 확보합니다.\n",
    "\n",
    "# 특성 스케일링\n",
    "scaler = MinMaxScaler().fit(X_trainval)\n",
    "X_trainval_scaled = scaler.transform(X_trainval)\n",
    "X_test_scaled = scaler.transform(X_test)\n"
   ]
  },
  {
   "cell_type": "code",
   "execution_count": 18,
   "metadata": {
    "_uuid": "aa47c091672863c3ad5c785a65cf227977cb9c37",
    "collapsed": true,
    "id": "oQAwHijeScSq",
    "jupyter": {
     "outputs_hidden": true
    }
   },
   "outputs": [],
   "source": [
    "# 결측값이 제거된 데이터셋 생성\n",
    "Y = df_dropna['Group'].values  # 모델의 목표값(타겟)\n",
    "X = df_dropna[['M/F', 'Age', 'EDUC', 'SES', 'MMSE', 'eTIV', 'nWBV', 'ASF']]  # 사용할 특성들\n",
    "\n",
    "# 세 가지 세트로 데이터 분할\n",
    "X_trainval_dna, X_test_dna, Y_trainval_dna, Y_test_dna = train_test_split(\n",
    "    X, Y, random_state=0)\n",
    "# train_test_split을 사용하여 데이터를 훈련, 검증, 테스트 세트로 나누고, 난수 발생 시드로 고정하여 재현성을 확보합니다.\n",
    "\n",
    "# 특성 스케일링\n",
    "scaler = MinMaxScaler().fit(X_trainval_dna)\n",
    "X_trainval_scaled_dna = scaler.transform(X_trainval_dna)\n",
    "X_test_scaled_dna = scaler.transform(X_test_dna)\n"
   ]
  },
  {
   "cell_type": "markdown",
   "metadata": {
    "_uuid": "b2356d2f3b9b746909c52e98c88c9dd9e20f77bf",
    "id": "Hh0VrtWIScSt"
   },
   "source": [
    "## 5.D Cross-validation\n",
    "We conduct 5-fold cross-validation to figure out the best parameters for each model, Logistic Regression, SVM, Decision Tree, Random Forests, and AdaBoost. Since our performance metric is accuracy, we find the best tuning parameters by *accuracy*. In the end, we compare the accuracy, recall and AUC for each model."
   ]
  },
  {
   "cell_type": "markdown",
   "metadata": {
    "_uuid": "27d4266a859c95510a8355df6c98c741a4805224",
    "id": "vgYxX0OkScSj"
   },
   "source": [
    "# 6. MODEL\n",
    "---"
   ]
  },
  {
   "cell_type": "markdown",
   "metadata": {
    "_uuid": "3bef5c29ca278b2aee2e6d0786e78149ab1bd83d",
    "id": "ZmzXtTaFScSs"
   },
   "source": [
    "## 6.A Performance Measures\n",
    "\n",
    "We use area under the receiver operating characteristic curve (AUC) as our main performance measure. We believe that in case of medical diagnostics for non-life threatening terminal diseases like most neurodegenerative diseases it is important to have a high true positive rate so that all patients with alzheimer's are identified as early as possible. But we also want to make sure that the false positive rate is as low as possible since we do not want to misdiagnose a healthy adult as demented and begin medical therapy. Hence AUC seemed like a ideal choice for a performance measure.\n",
    "\n",
    "We will also be looking at accuracy and recall for each model.\n",
    "\n",
    "In the figure below, you can think relevant elements as actually demented subjects.\n",
    "Precision and Recall [12]\n",
    "![Precision and Recall](https://upload.wikimedia.org/wikipedia/commons/2/26/Precisionrecall.svg)"
   ]
  },
  {
   "cell_type": "markdown",
   "metadata": {
    "_uuid": "52d9efbf3184f96ff3a0767e08d3d1e6f8ea1a73",
    "id": "L0zOT1CAScSu"
   },
   "source": [
    "## 6.B Logistic Regression\n",
    "The parameter C, inverse of regularization strength.\n",
    "\n",
    "Tuning range: [0.001, 0.1, 1, 10, 100]"
   ]
  },
  {
   "cell_type": "code",
   "execution_count": 19,
   "metadata": {
    "_uuid": "f8dcc6798d6f0aa777fff85c880a47ec78ad9e5c"
   },
   "outputs": [],
   "source": [
    "# scikit-learn 라이브러리에서 필요한 분류 모델 및 성능 평가 지표들을 임포트\n",
    "from sklearn.linear_model import LogisticRegression  # 로지스틱 회귀 모델\n",
    "from sklearn.svm import SVC  # 서포트 벡터 머신(SVM) 모델\n",
    "from sklearn.tree import DecisionTreeClassifier  # 의사결정 트리 모델\n",
    "from sklearn.ensemble import RandomForestClassifier  # 랜덤 포레스트 모델\n",
    "from sklearn.ensemble import AdaBoostClassifier  # 에이다부스트 모델\n",
    "from sklearn.metrics import confusion_matrix, accuracy_score, recall_score, roc_curve, auc\n",
    "# 성능 평가를 위한 지표들을 임포트\n",
    "\n",
    "# 주로 사용되는 분류 모델들을 임포트하고, 분류 모델의 성능을 평가하기 위한 지표들도 임포트합니다.\n",
    "# 이 중에서 로지스틱 회귀, 서포트 벡터 머신, 의사결정 트리, 랜덤 포레스트, 에이다부스트 모델이 포함되어 있습니다.\n",
    "# 성능 평가를 위한 지표로는 혼동 행렬, 정확도, 재현율, ROC 커브 및 AUC가 사용됩니다."
   ]
  },
  {
   "cell_type": "code",
   "execution_count": 20,
   "metadata": {
    "_uuid": "252a6294c3c8754c0e19660e5ad7c0af189fd8e5",
    "id": "nvBhRVT_ScSu"
   },
   "outputs": [],
   "source": [
    "# 성능 지표를 저장하기 위한 빈 리스트 생성\n",
    "acc = []  # 모든 성능 지표를 저장할 리스트입니다."
   ]
  },
  {
   "cell_type": "code",
   "execution_count": 21,
   "metadata": {
    "_uuid": "cb9f7249fa6793ec6e339aeb9936c26fbdfe552d",
    "execution": {
     "iopub.execute_input": "2023-12-04T04:39:51.118997Z",
     "iopub.status.busy": "2023-12-04T04:39:51.118176Z",
     "iopub.status.idle": "2023-12-04T04:39:51.360300Z",
     "shell.execute_reply": "2023-12-04T04:39:51.359021Z",
     "shell.execute_reply.started": "2023-12-04T04:39:51.118909Z"
    },
    "id": "xsWC0JpIScSw",
    "outputId": "f0c4357e-951e-4078-9356-f01f7326c056"
   },
   "outputs": [
    {
     "name": "stdout",
     "output_type": "stream",
     "text": [
      "Best accuracy on validation set is: 0.754112554113\n",
      "Best parameter for regularization (C) is:  10\n",
      "Test accuracy with best C parameter is 0.789473684211\n",
      "Test recall with the best C parameter is 0.75\n",
      "Test AUC with the best C parameter is 0.791666666667\n"
     ]
    }
   ],
   "source": [
    "# 대체된 데이터셋을 사용한 로지스틱 회귀 모델의 성능 평가\n",
    "best_score = 0  # 최고 정확도 초기값 설정\n",
    "kfolds = 5  # 교차 검증을 위한 폴드 수 설정\n",
    "\n",
    "# 다양한 C 값에 대해 반복하여 최적의 모델 파라미터 찾기\n",
    "for c in [0.001, 0.1, 1, 10, 100]:\n",
    "    logRegModel = LogisticRegression(C=c)  # 로지스틱 회귀 모델 생성\n",
    "    # 교차 검증 수행\n",
    "    scores = cross_val_score(logRegModel, X_trainval, Y_trainval, cv=kfolds, scoring='accuracy')  # 각 파라미터 설정에 대한 정확도 측정\n",
    "    \n",
    "    # 평균 교차 검증 정확도 계산\n",
    "    score = np.mean(scores)\n",
    "    \n",
    "    # 최고의 파라미터 및 정확도 찾기\n",
    "    if score > best_score:\n",
    "        best_score = score\n",
    "        best_parameters = c\n",
    "\n",
    "# 훈련 및 검증 세트를 결합하여 모델 재구성\n",
    "SelectedLogRegModel = LogisticRegression(C=best_parameters).fit(X_trainval_scaled, Y_trainval)\n",
    "\n",
    "# 테스트 세트에 대한 성능 평가\n",
    "test_score = SelectedLogRegModel.score(X_test_scaled, Y_test)  # 테스트 정확도 측정\n",
    "PredictedOutput = SelectedLogRegModel.predict(X_test_scaled)  # 테스트 세트에 대한 예측값 생성\n",
    "test_recall = recall_score(Y_test, PredictedOutput, pos_label=1)  # 테스트 재현율 측정\n",
    "fpr, tpr, thresholds = roc_curve(Y_test, PredictedOutput, pos_label=1)  # ROC 커브 생성\n",
    "test_auc = auc(fpr, tpr)  # 테스트 AUC 계산\n",
    "\n",
    "# 최적의 파라미터 및 성능 지표 출력\n",
    "print(\"Best accuracy on validation set is:\", best_score)\n",
    "print(\"Best parameter for regularization (C) is: \", best_parameters)\n",
    "print(\"Test accuracy with best C parameter is\", test_score)\n",
    "print(\"Test recall with the best C parameter is\", test_recall)\n",
    "print(\"Test AUC with the best C parameter is\", test_auc)\n",
    "\n",
    "# 결과를 리스트에 저장\n",
    "m = 'Logistic Regression (w/ imputation)'\n",
    "acc.append([m, test_score, test_recall, test_auc, fpr, tpr, thresholds])\n"
   ]
  },
  {
   "cell_type": "code",
   "execution_count": 22,
   "metadata": {
    "_uuid": "200d475f03c493ecc5de448537841771d0817eb9",
    "id": "Zb-VqkXUScSz",
    "outputId": "2f1858c0-335a-4720-dc18-bef6e3c10a9e"
   },
   "outputs": [
    {
     "name": "stdout",
     "output_type": "stream",
     "text": [
      "Best accuracy on validation set is: 0.700909090909\n",
      "Best parameter for regularization (C) is:  10\n",
      "Test accuracy with best C parameter is 0.75\n",
      "Test recall with the best C parameter is 0.882352941176\n",
      "Test AUC with the best C parameter is 0.756965944272\n"
     ]
    }
   ],
   "source": [
    "# 결측값이 제거된 데이터셋을 사용한 로지스틱 회귀 모델의 성능 평가\n",
    "best_score = 0  # 최고 정확도 초기값 설정\n",
    "kfolds = 5  # 교차 검증을 위한 폴드 수 설정\n",
    "\n",
    "# 다양한 C 값에 대해 반복하여 최적의 모델 파라미터 찾기\n",
    "for c in [0.001, 0.1, 1, 10, 100]:\n",
    "    logRegModel = LogisticRegression(C=c)  # 로지스틱 회귀 모델 생성\n",
    "    # 교차 검증 수행\n",
    "    scores = cross_val_score(logRegModel, X_trainval_scaled_dna, Y_trainval_dna, cv=kfolds, scoring='accuracy')  # 각 파라미터 설정에 대한 정확도 측정\n",
    "    \n",
    "    # 평균 교차 검증 정확도 계산\n",
    "    score = np.mean(scores)\n",
    "    \n",
    "    # 최고의 파라미터 및 정확도 찾기\n",
    "    if score > best_score:\n",
    "        best_score = score\n",
    "        best_parameters = c\n",
    "\n",
    "# 훈련 및 검증 세트를 결합하여 모델 재구성\n",
    "SelectedLogRegModel = LogisticRegression(C=best_parameters).fit(X_trainval_scaled_dna, Y_trainval_dna)\n",
    "\n",
    "# 테스트 세트에 대한 성능 평가\n",
    "test_score = SelectedLogRegModel.score(X_test_scaled_dna, Y_test_dna)  # 테스트 정확도 측정\n",
    "PredictedOutput = SelectedLogRegModel.predict(X_test_scaled_dna)  # 테스트 세트에 대한 예측값 생성\n",
    "test_recall = recall_score(Y_test_dna, PredictedOutput, pos_label=1)  # 테스트 재현율 측정\n",
    "fpr, tpr, thresholds = roc_curve(Y_test_dna, PredictedOutput, pos_label=1)  # ROC 커브 생성\n",
    "test_auc = auc(fpr, tpr)  # 테스트 AUC 계산\n",
    "\n",
    "# 최적의 파라미터 및 성능 지표 출력\n",
    "print(\"Best accuracy on validation set is:\", best_score)\n",
    "print(\"Best parameter for regularization (C) is: \", best_parameters)\n",
    "print(\"Test accuracy with best C parameter is\", test_score)        \n",
    "print(\"Test recall with the best C parameter is\", test_recall)\n",
    "print(\"Test AUC with the best C parameter is\", test_auc)\n",
    "\n",
    "# 결과를 리스트에 저장\n",
    "m = 'Logistic Regression (w/ dropna)'\n",
    "acc.append([m, test_score, test_recall, test_recall, fpr, tpr, thresholds])"
   ]
  },
  {
   "cell_type": "markdown",
   "metadata": {
    "_uuid": "9b30f505fa1febaa9b0577ef2943906046f77413"
   },
   "source": [
    "In overall, dataset with imputation outperforms the one without imputation. For the later models, we use dataset without imputation."
   ]
  },
  {
   "cell_type": "markdown",
   "metadata": {
    "_uuid": "c3fcf0473df26fdea9ba51953aab1f53b2e522c5",
    "id": "Gj3b-ssXScS2"
   },
   "source": [
    "## 6.C SVM\n",
    "C: Penalty parameter C of the error term. [0.001, 0.01, 0.1, 1, 10, 100, 1000]\n",
    "\n",
    "gamma: kernel coefficient. [0.001, 0.01, 0.1, 1, 10, 100, 1000]\n",
    "\n",
    "kernel: kernel type. ['rbf', 'linear', 'poly', 'sigmoid']"
   ]
  },
  {
   "cell_type": "code",
   "execution_count": 23,
   "metadata": {
    "_uuid": "527bf4c3aaeb65eeb16f929c2c8c82ce4c2263c2",
    "id": "Xp5EM__NScS2",
    "outputId": "ac91ced2-9648-4248-8c62-6babfb401178"
   },
   "outputs": [
    {
     "name": "stdout",
     "output_type": "stream",
     "text": [
      "Best accuracy on cross validation set is: 0.77150385846\n",
      "Best parameter for c is:  100\n",
      "Best parameter for gamma is:  0.1\n",
      "Best parameter for kernel is:  rbf\n",
      "Test accuracy with the best parameters is 0.815789473684\n",
      "Test recall with the best parameters is 0.7\n",
      "Test recall with the best parameter is 0.822222222222\n"
     ]
    }
   ],
   "source": [
    "# SVM 모델의 성능 평가를 위한 코드\n",
    "best_score = 0  # 최고 정확도 초기값 설정\n",
    "\n",
    "# 다양한 C, gamma, kernel 값에 대해 반복하여 최적의 모델 파라미터 찾기\n",
    "for c_paramter in [0.001, 0.01, 0.1, 1, 10, 100, 1000]:\n",
    "    for gamma_paramter in [0.001, 0.01, 0.1, 1, 10, 100, 1000]:\n",
    "        for k_parameter in ['rbf', 'linear', 'poly', 'sigmoid']:\n",
    "            svmModel = SVC(kernel=k_parameter, C=c_paramter, gamma=gamma_paramter)  # SVM 모델 정의\n",
    "            # 교차 검증 수행\n",
    "            scores = cross_val_score(svmModel, X_trainval_scaled, Y_trainval, cv=kfolds, scoring='accuracy')\n",
    "            # 훈련 세트는 내부적으로 훈련 및 교차 검증으로 분할됩니다.\n",
    "\n",
    "            # 평균 교차 검증 정확도 계산\n",
    "            score = np.mean(scores)\n",
    "            # 더 좋은 정확도를 얻었을 경우, 점수와 파라미터 저장\n",
    "            if score > best_score:\n",
    "                best_score = score  # 점수 저장\n",
    "                best_parameter_c = c_paramter  # 파라미터 c 저장\n",
    "                best_parameter_gamma = gamma_paramter  # 파라미터 gamma 저장\n",
    "                best_parameter_k = k_parameter  # 파라미터 kernel 저장\n",
    "\n",
    "# 최적의 파라미터로 모델을 재구성하여 점수 계산\n",
    "SelectedSVMmodel = SVC(C=best_parameter_c, gamma=best_parameter_gamma, kernel=best_parameter_k).fit(X_trainval_scaled, Y_trainval)\n",
    "\n",
    "# 테스트 세트에 대한 성능 평가\n",
    "test_score = SelectedSVMmodel.score(X_test_scaled, Y_test)  # 테스트 정확도 측정\n",
    "PredictedOutput = SelectedSVMmodel.predict(X_test_scaled)  # 테스트 세트에 대한 예측값 생성\n",
    "test_recall = recall_score(Y_test, PredictedOutput, pos_label=1)  # 테스트 재현율 측정\n",
    "fpr, tpr, thresholds = roc_curve(Y_test, PredictedOutput, pos_label=1)  # ROC 커브 생성\n",
    "test_auc = auc(fpr, tpr)  # 테스트 AUC 계산\n",
    "\n",
    "# 최적의 파라미터 및 성능 지표 출력\n",
    "print(\"Best accuracy on cross validation set is:\", best_score)\n",
    "print(\"Best parameter for c is: \", best_parameter_c)\n",
    "print(\"Best parameter for gamma is: \", best_parameter_gamma)\n",
    "print(\"Best parameter for kernel is: \", best_parameter_k)\n",
    "print(\"Test accuracy with the best parameters is\", test_score)\n",
    "print(\"Test recall with the best parameters is\", test_recall)\n",
    "print(\"Test recall with the best parameter is\", test_auc)\n",
    "\n",
    "# 결과를 리스트에 저장\n",
    "m = 'SVM'\n",
    "acc.append([m, test_score, test_recall, test_auc, fpr, tpr, thresholds])"
   ]
  },
  {
   "cell_type": "markdown",
   "metadata": {
    "_uuid": "2a111665a3aeefa0449d6e9b86efb45e14e5996d",
    "id": "mYGAer5hScS5"
   },
   "source": [
    "## 6.D Decision Tree\n",
    "Maximum depth. [1, 2, ..., 8]\n",
    "\n",
    "8 is the number of features"
   ]
  },
  {
   "cell_type": "code",
   "execution_count": 24,
   "metadata": {
    "_uuid": "4c27de17e77f9b986e27d2090113bce38bd67fba",
    "id": "jGI1Smg7ScS6",
    "outputId": "86ea4ca6-b57f-47c0-fc4c-a958e1da8f95"
   },
   "outputs": [
    {
     "name": "stdout",
     "output_type": "stream",
     "text": [
      "Best accuracy on validation set is: 0.778543195935\n",
      "Best parameter for the maximum depth is:  1\n",
      "Test accuracy with best parameter is  0.815789473684\n",
      "Test recall with best parameters is  0.65\n",
      "Test AUC with the best parameter is  0.825\n"
     ]
    }
   ],
   "source": [
    "# 의사결정트리 모델의 성능 평가를 위한 코드\n",
    "best_score = 0  # 최고 정확도 초기값 설정\n",
    "\n",
    "# 다양한 최대 깊이(max_depth) 값을 반복하여 최적의 모델 파라미터 찾기\n",
    "for md in range(1, 9):\n",
    "    # 모델 훈련\n",
    "    treeModel = DecisionTreeClassifier(random_state=0, max_depth=md, criterion='gini')\n",
    "    # 교차 검증 수행\n",
    "    scores = cross_val_score(treeModel, X_trainval_scaled, Y_trainval, cv=kfolds, scoring='accuracy')\n",
    "    \n",
    "    # 평균 교차 검증 정확도 계산\n",
    "    score = np.mean(scores)\n",
    "    \n",
    "    # 더 좋은 정확도를 얻었을 경우, 점수와 파라미터 저장\n",
    "    if score > best_score:\n",
    "        best_score = score\n",
    "        best_parameter = md\n",
    "\n",
    "# 최적의 파라미터로 모델을 재구성하여 점수 계산\n",
    "SelectedDTModel = DecisionTreeClassifier(max_depth=best_parameter).fit(X_trainval_scaled, Y_trainval)\n",
    "\n",
    "# 테스트 세트에 대한 성능 평가\n",
    "test_score = SelectedDTModel.score(X_test_scaled, Y_test)  # 테스트 정확도 측정\n",
    "PredictedOutput = SelectedDTModel.predict(X_test_scaled)  # 테스트 세트에 대한 예측값 생성\n",
    "test_recall = recall_score(Y_test, PredictedOutput, pos_label=1)  # 테스트 재현율 측정\n",
    "fpr, tpr, thresholds = roc_curve(Y_test, PredictedOutput, pos_label=1)  # ROC 커브 생성\n",
    "test_auc = auc(fpr, tpr)  # 테스트 AUC 계산\n",
    "\n",
    "# 최고의 파라미터 및 성능 지표 출력\n",
    "print(\"Best accuracy on validation set is:\", best_score)\n",
    "print(\"Best parameter for the maximum depth is: \", best_parameter)\n",
    "print(\"Test accuracy with best parameter is \", test_score)\n",
    "print(\"Test recall with best parameters is \", test_recall)\n",
    "print(\"Test AUC with the best parameter is \", test_auc)\n",
    "\n",
    "# 결과를 리스트에 저장\n",
    "m = 'Decision Tree'\n",
    "acc.append([m, test_score, test_recall, test_auc, fpr, tpr, thresholds])"
   ]
  },
  {
   "cell_type": "code",
   "execution_count": 25,
   "metadata": {
    "_uuid": "802da5f22fbe73ff4d4ff097408da95100fababe",
    "id": "3k1LzTAOScS9",
    "outputId": "c4d23b31-7cde-459d-c745-df64c9716cad"
   },
   "outputs": [
    {
     "name": "stdout",
     "output_type": "stream",
     "text": [
      "특성 중요도: \n"
     ]
    }
   ],
   "source": [
    "# 특성 중요도 출력\n",
    "print(\"특성 중요도: \")\n",
    "# X 데이터프레임의 열 이름과 의사결정트리 모델의 특성 중요도를 리스트로 변환하여 합침\n",
    "feature_importance = np.array([X.columns.values.tolist(), list(SelectedDTModel.feature_importances_)]).T"
   ]
  },
  {
   "cell_type": "code",
   "execution_count": 26,
   "metadata": {
    "_uuid": "9df711a59c1470af47f2c5a83f2e9cb11dcb00c7",
    "id": "jAXEhs2gScS_",
    "outputId": "8fccfeea-ec7f-4bad-9029-0b66b4aa09f7"
   },
   "outputs": [
    {
     "data": {
      "image/svg+xml": [
       "<?xml version=\"1.0\" encoding=\"UTF-8\" standalone=\"no\"?>\n",
       "<!DOCTYPE svg PUBLIC \"-//W3C//DTD SVG 1.1//EN\"\n",
       " \"http://www.w3.org/Graphics/SVG/1.1/DTD/svg11.dtd\">\n",
       "<!-- Generated by graphviz version 2.38.0 (20140413.2041)\n",
       " -->\n",
       "<!-- Title: Tree Pages: 1 -->\n",
       "<svg width=\"230pt\" height=\"165pt\"\n",
       " viewBox=\"0.00 0.00 229.50 165.00\" xmlns=\"http://www.w3.org/2000/svg\" xmlns:xlink=\"http://www.w3.org/1999/xlink\">\n",
       "<g id=\"graph0\" class=\"graph\" transform=\"scale(1 1) rotate(0) translate(4 161)\">\n",
       "<title>Tree</title>\n",
       "<polygon fill=\"white\" stroke=\"none\" points=\"-4,4 -4,-161 225.5,-161 225.5,4 -4,4\"/>\n",
       "<!-- 0 -->\n",
       "<g id=\"node1\" class=\"node\"><title>0</title>\n",
       "<polygon fill=\"none\" stroke=\"black\" points=\"165.5,-157 52.5,-157 52.5,-89 165.5,-89 165.5,-157\"/>\n",
       "<text text-anchor=\"middle\" x=\"109\" y=\"-141.8\" font-family=\"Times,serif\" font-size=\"14.00\">MMSE &lt;= 0.808</text>\n",
       "<text text-anchor=\"middle\" x=\"109\" y=\"-126.8\" font-family=\"Times,serif\" font-size=\"14.00\">gini = 0.499</text>\n",
       "<text text-anchor=\"middle\" x=\"109\" y=\"-111.8\" font-family=\"Times,serif\" font-size=\"14.00\">samples = 112</text>\n",
       "<text text-anchor=\"middle\" x=\"109\" y=\"-96.8\" font-family=\"Times,serif\" font-size=\"14.00\">value = [54, 58]</text>\n",
       "</g>\n",
       "<!-- 1 -->\n",
       "<g id=\"node2\" class=\"node\"><title>1</title>\n",
       "<polygon fill=\"none\" stroke=\"black\" points=\"98,-53 7.10543e-15,-53 7.10543e-15,-0 98,-0 98,-53\"/>\n",
       "<text text-anchor=\"middle\" x=\"49\" y=\"-37.8\" font-family=\"Times,serif\" font-size=\"14.00\">gini = 0.102</text>\n",
       "<text text-anchor=\"middle\" x=\"49\" y=\"-22.8\" font-family=\"Times,serif\" font-size=\"14.00\">samples = 37</text>\n",
       "<text text-anchor=\"middle\" x=\"49\" y=\"-7.8\" font-family=\"Times,serif\" font-size=\"14.00\">value = [2, 35]</text>\n",
       "</g>\n",
       "<!-- 0&#45;&gt;1 -->\n",
       "<g id=\"edge1\" class=\"edge\"><title>0&#45;&gt;1</title>\n",
       "<path fill=\"none\" stroke=\"black\" d=\"M88.0149,-88.9485C82.439,-80.1664 76.405,-70.6629 70.7873,-61.815\"/>\n",
       "<polygon fill=\"black\" stroke=\"black\" points=\"73.6556,-59.8028 65.3408,-53.2367 67.7461,-63.5549 73.6556,-59.8028\"/>\n",
       "<text text-anchor=\"middle\" x=\"59.8924\" y=\"-73.9358\" font-family=\"Times,serif\" font-size=\"14.00\">True</text>\n",
       "</g>\n",
       "<!-- 2 -->\n",
       "<g id=\"node3\" class=\"node\"><title>2</title>\n",
       "<polygon fill=\"none\" stroke=\"black\" points=\"221.5,-53 116.5,-53 116.5,-0 221.5,-0 221.5,-53\"/>\n",
       "<text text-anchor=\"middle\" x=\"169\" y=\"-37.8\" font-family=\"Times,serif\" font-size=\"14.00\">gini = 0.425</text>\n",
       "<text text-anchor=\"middle\" x=\"169\" y=\"-22.8\" font-family=\"Times,serif\" font-size=\"14.00\">samples = 75</text>\n",
       "<text text-anchor=\"middle\" x=\"169\" y=\"-7.8\" font-family=\"Times,serif\" font-size=\"14.00\">value = [52, 23]</text>\n",
       "</g>\n",
       "<!-- 0&#45;&gt;2 -->\n",
       "<g id=\"edge2\" class=\"edge\"><title>0&#45;&gt;2</title>\n",
       "<path fill=\"none\" stroke=\"black\" d=\"M129.985,-88.9485C135.561,-80.1664 141.595,-70.6629 147.213,-61.815\"/>\n",
       "<polygon fill=\"black\" stroke=\"black\" points=\"150.254,-63.5549 152.659,-53.2367 144.344,-59.8028 150.254,-63.5549\"/>\n",
       "<text text-anchor=\"middle\" x=\"158.108\" y=\"-73.9358\" font-family=\"Times,serif\" font-size=\"14.00\">False</text>\n",
       "</g>\n",
       "</g>\n",
       "</svg>\n"
      ],
      "text/plain": [
       "<graphviz.files.Source at 0x7fd5a16f87b8>"
      ]
     },
     "execution_count": 26,
     "metadata": {},
     "output_type": "execute_result"
    }
   ],
   "source": [
    "# 의사결정트리 시각화를 위한 코드\n",
    "from sklearn.tree import export_graphviz\n",
    "import graphviz \n",
    "\n",
    "# export_graphviz 함수를 사용하여 의사결정트리 모델의 그래프 정보 생성\n",
    "dot_data = export_graphviz(SelectedDTModel, feature_names=X_trainval.columns.values.tolist(), out_file=None)\n",
    "\n",
    "# graphviz 라이브러리를 사용하여 그래프 생성\n",
    "graph = graphviz.Source(dot_data)  \n",
    "\n",
    "# 생성된 그래프 출력\n",
    "graph "
   ]
  },
  {
   "cell_type": "markdown",
   "metadata": {
    "_uuid": "20608c740de79f3ea76598be6c3e3e8fd158fd82",
    "id": "ZkIF7600ScTD"
   },
   "source": [
    "## 6.E Random Forest Classifier\n",
    "n_estimators(M): the number of trees in the forest\n",
    "\n",
    "max_features(d): the number of features to consider when looking for the best split\n",
    "\n",
    "max_depth(m): the maximum depth of the tree. "
   ]
  },
  {
   "cell_type": "code",
   "execution_count": 27,
   "metadata": {
    "_uuid": "0314f070def4da297b2b8712cea7727f6d5d8112",
    "id": "zi0Ssns3ScTE",
    "outputId": "e7adb6b8-ccfd-47b4-f65c-01848c1a0450"
   },
   "outputs": [
    {
     "name": "stdout",
     "output_type": "stream",
     "text": [
      "Best accuracy on validation set is: 0.796329757199\n",
      "Best parameters of M, d, m are:  14 5 7\n",
      "Test accuracy with the best parameters is 0.842105263158\n",
      "Test recall with the best parameters is: 0.8\n",
      "Test AUC with the best parameters is: 0.844444444444\n"
     ]
    }
   ],
   "source": [
    "best_score = 0\n",
    "\n",
    "for M in range(2, 15, 2): # combines M trees\n",
    "    for d in range(1, 9): # maximum number of features considered at each split\n",
    "        for m in range(1, 9): # maximum depth of the tree\n",
    "            # train the model\n",
    "            # n_jobs(4) is the number of parallel computing\n",
    "            forestModel = RandomForestClassifier(n_estimators=M, max_features=d, n_jobs=4,\n",
    "                                          max_depth=m, random_state=0)\n",
    "        \n",
    "            # perform cross-validation\n",
    "            scores = cross_val_score(forestModel, X_trainval_scaled, Y_trainval, cv=kfolds, scoring='accuracy')\n",
    "\n",
    "            # compute mean cross-validation accuracy\n",
    "            score = np.mean(scores)\n",
    "\n",
    "            # if we got a better score, store the score and parameters\n",
    "            if score > best_score:\n",
    "                best_score = score\n",
    "                best_M = M\n",
    "                best_d = d\n",
    "                best_m = m\n",
    "\n",
    "# Rebuild a model on the combined training and validation set        \n",
    "SelectedRFModel = RandomForestClassifier(n_estimators=M, max_features=d,\n",
    "                                          max_depth=m, random_state=0).fit(X_trainval_scaled, Y_trainval )\n",
    "\n",
    "PredictedOutput = SelectedRFModel.predict(X_test_scaled)\n",
    "test_score = SelectedRFModel.score(X_test_scaled, Y_test)\n",
    "test_recall = recall_score(Y_test, PredictedOutput, pos_label=1)\n",
    "fpr, tpr, thresholds = roc_curve(Y_test, PredictedOutput, pos_label=1)\n",
    "test_auc = auc(fpr, tpr)\n",
    "print(\"Best accuracy on validation set is:\", best_score)\n",
    "print(\"Best parameters of M, d, m are: \", best_M, best_d, best_m)\n",
    "print(\"Test accuracy with the best parameters is\", test_score)\n",
    "print(\"Test recall with the best parameters is:\", test_recall)\n",
    "print(\"Test AUC with the best parameters is:\", test_auc)\n",
    "\n",
    "m = 'Random Forest'\n",
    "acc.append([m, test_score, test_recall, test_auc, fpr, tpr, thresholds])"
   ]
  },
  {
   "cell_type": "code",
   "execution_count": 28,
   "metadata": {
    "_uuid": "7264a60baa490343e92e743d43f635a18af9fa13",
    "id": "Mcx6LmzcScTJ",
    "outputId": "f7ba2e6f-1a5b-4495-a9b1-2a0973101259"
   },
   "outputs": [
    {
     "name": "stdout",
     "output_type": "stream",
     "text": [
      "Feature importance: \n"
     ]
    },
    {
     "data": {
      "text/plain": [
       "array([['M/F', '0.0350313242748'],\n",
       "       ['Age', '0.0955123712553'],\n",
       "       ['EDUC', '0.0626155679721'],\n",
       "       ['SES', '0.0606203275185'],\n",
       "       ['MMSE', '0.400656596279'],\n",
       "       ['eTIV', '0.0700549752829'],\n",
       "       ['nWBV', '0.146057111794'],\n",
       "       ['ASF', '0.129451725623']],\n",
       "      dtype='<U15')"
      ]
     },
     "execution_count": 28,
     "metadata": {},
     "output_type": "execute_result"
    }
   ],
   "source": [
    "print(\"Feature importance: \")\n",
    "np.array([X.columns.values.tolist(), list(SelectedRFModel.feature_importances_)]).T"
   ]
  },
  {
   "cell_type": "markdown",
   "metadata": {
    "_uuid": "ea3b9dd38fd2bbfe32e1cdd35ed6a3cdfa2dbccc"
   },
   "source": [
    "## 6.F AdaBoost"
   ]
  },
  {
   "cell_type": "code",
   "execution_count": 29,
   "metadata": {
    "_uuid": "9eab03ab2cd59e507dc30b632c60fb0aeb1d2c37"
   },
   "outputs": [
    {
     "name": "stdout",
     "output_type": "stream",
     "text": [
      "Best accuracy on validation set is: 0.778543195935\n",
      "Best parameter of M is:  2\n",
      "best parameter of LR is:  0.0001\n",
      "Test accuracy with the best parameter is 0.842105263158\n",
      "Test recall with the best parameters is: 0.65\n",
      "Test AUC with the best parameters is: 0.825\n"
     ]
    }
   ],
   "source": [
    "best_score = 0\n",
    "\n",
    "for M in range(2, 15, 2): # combines M trees\n",
    "    for lr in [0.0001, 0.001, 0.01, 0.1, 1]:\n",
    "        # train the model\n",
    "        boostModel = AdaBoostClassifier(n_estimators=M, learning_rate=lr, random_state=0)\n",
    "\n",
    "        # perform cross-validation\n",
    "        scores = cross_val_score(boostModel, X_trainval_scaled, Y_trainval, cv=kfolds, scoring='accuracy')\n",
    "\n",
    "        # compute mean cross-validation accuracy\n",
    "        score = np.mean(scores)\n",
    "\n",
    "        # if we got a better score, store the score and parameters\n",
    "        if score > best_score:\n",
    "            best_score = score\n",
    "            best_M = M\n",
    "            best_lr = lr\n",
    "\n",
    "# Rebuild a model on the combined training and validation set        \n",
    "SelectedBoostModel = AdaBoostClassifier(n_estimators=M, learning_rate=lr, random_state=0).fit(X_trainval_scaled, Y_trainval )\n",
    "\n",
    "PredictedOutput = SelectedBoostModel.predict(X_test_scaled)\n",
    "test_score = SelectedRFModel.score(X_test_scaled, Y_test)\n",
    "test_recall = recall_score(Y_test, PredictedOutput, pos_label=1)\n",
    "fpr, tpr, thresholds = roc_curve(Y_test, PredictedOutput, pos_label=1)\n",
    "test_auc = auc(fpr, tpr)\n",
    "print(\"Best accuracy on validation set is:\", best_score)\n",
    "print(\"Best parameter of M is: \", best_M)\n",
    "print(\"best parameter of LR is: \", best_lr)\n",
    "print(\"Test accuracy with the best parameter is\", test_score)\n",
    "print(\"Test recall with the best parameters is:\", test_recall)\n",
    "print(\"Test AUC with the best parameters is:\", test_auc)\n",
    "\n",
    "m = 'AdaBoost'\n",
    "acc.append([m, test_score, test_recall, test_auc, fpr, tpr, thresholds])"
   ]
  },
  {
   "cell_type": "code",
   "execution_count": 30,
   "metadata": {
    "_uuid": "a240cd4c2abd5b9bb46c10b21d157e663665a2bb"
   },
   "outputs": [
    {
     "name": "stdout",
     "output_type": "stream",
     "text": [
      "Feature importance: \n"
     ]
    },
    {
     "data": {
      "text/plain": [
       "array([['M/F', '0.0714285714286'],\n",
       "       ['Age', '0.142857142857'],\n",
       "       ['EDUC', '0.214285714286'],\n",
       "       ['SES', '0.0714285714286'],\n",
       "       ['MMSE', '0.142857142857'],\n",
       "       ['eTIV', '0.214285714286'],\n",
       "       ['nWBV', '0.142857142857'],\n",
       "       ['ASF', '0.0']],\n",
       "      dtype='<U15')"
      ]
     },
     "execution_count": 30,
     "metadata": {},
     "output_type": "execute_result"
    }
   ],
   "source": [
    "print(\"Feature importance: \")\n",
    "np.array([X.columns.values.tolist(), list(SelectedBoostModel.feature_importances_)]).T"
   ]
  },
  {
   "cell_type": "markdown",
   "metadata": {
    "_uuid": "5defe4c299e6a47547b1d05a533c90aba26c0365",
    "id": "w1vFrwcwScTO"
   },
   "source": [
    "# 7. CONCLUSION\n",
    "\n",
    "## 7.A RESULTS"
   ]
  },
  {
   "cell_type": "code",
   "execution_count": 31,
   "metadata": {
    "_uuid": "567d27a76de89fd5c9feb715bfc0e58400872f7e"
   },
   "outputs": [
    {
     "data": {
      "text/html": [
       "<div>\n",
       "<style>\n",
       "    .dataframe thead tr:only-child th {\n",
       "        text-align: right;\n",
       "    }\n",
       "\n",
       "    .dataframe thead th {\n",
       "        text-align: left;\n",
       "    }\n",
       "\n",
       "    .dataframe tbody tr th {\n",
       "        vertical-align: top;\n",
       "    }\n",
       "</style>\n",
       "<table border=\"1\" class=\"dataframe\">\n",
       "  <thead>\n",
       "    <tr style=\"text-align: right;\">\n",
       "      <th></th>\n",
       "      <th>Model</th>\n",
       "      <th>Accuracy</th>\n",
       "      <th>Recall</th>\n",
       "      <th>AUC</th>\n",
       "    </tr>\n",
       "  </thead>\n",
       "  <tbody>\n",
       "    <tr>\n",
       "      <th>0</th>\n",
       "      <td>Logistic Regression (w/ imputation)</td>\n",
       "      <td>0.789474</td>\n",
       "      <td>0.750000</td>\n",
       "      <td>0.791667</td>\n",
       "    </tr>\n",
       "    <tr>\n",
       "      <th>1</th>\n",
       "      <td>Logistic Regression (w/ dropna)</td>\n",
       "      <td>0.750000</td>\n",
       "      <td>0.882353</td>\n",
       "      <td>0.882353</td>\n",
       "    </tr>\n",
       "    <tr>\n",
       "      <th>2</th>\n",
       "      <td>SVM</td>\n",
       "      <td>0.815789</td>\n",
       "      <td>0.700000</td>\n",
       "      <td>0.822222</td>\n",
       "    </tr>\n",
       "    <tr>\n",
       "      <th>3</th>\n",
       "      <td>Decision Tree</td>\n",
       "      <td>0.815789</td>\n",
       "      <td>0.650000</td>\n",
       "      <td>0.825000</td>\n",
       "    </tr>\n",
       "    <tr>\n",
       "      <th>4</th>\n",
       "      <td>Random Forest</td>\n",
       "      <td>0.842105</td>\n",
       "      <td>0.800000</td>\n",
       "      <td>0.844444</td>\n",
       "    </tr>\n",
       "    <tr>\n",
       "      <th>5</th>\n",
       "      <td>AdaBoost</td>\n",
       "      <td>0.842105</td>\n",
       "      <td>0.650000</td>\n",
       "      <td>0.825000</td>\n",
       "    </tr>\n",
       "  </tbody>\n",
       "</table>\n",
       "</div>"
      ],
      "text/plain": [
       "                                 Model  Accuracy    Recall       AUC\n",
       "0  Logistic Regression (w/ imputation)  0.789474  0.750000  0.791667\n",
       "1      Logistic Regression (w/ dropna)  0.750000  0.882353  0.882353\n",
       "2                                  SVM  0.815789  0.700000  0.822222\n",
       "3                        Decision Tree  0.815789  0.650000  0.825000\n",
       "4                        Random Forest  0.842105  0.800000  0.844444\n",
       "5                             AdaBoost  0.842105  0.650000  0.825000"
      ]
     },
     "execution_count": 31,
     "metadata": {},
     "output_type": "execute_result"
    }
   ],
   "source": [
    "# Performance Metric for each model\n",
    "result = pd.DataFrame(acc, columns=['Model', 'Accuracy', 'Recall', 'AUC', 'FPR', 'TPR', 'TH'])\n",
    "result[['Model', 'Accuracy', 'Recall', 'AUC']]"
   ]
  },
  {
   "cell_type": "markdown",
   "metadata": {
    "_uuid": "97515e1017176438f0b63b12ef68038a396a0778"
   },
   "source": [
    "#### Below is a comparision of our results with those from the papers that were listed previously:\n",
    "\n",
    "|Sr.No.|Paper|Data|Model|Results|\n",
    "|---\n",
    "|1.|E. Moradi et al. [3]|Ye et al. [7]|Random Forrest Classifier|AUC = 71.0%|ACC = 55.3%|\n",
    "|||Filipovych et al. [8]|Random Forrest Classifier|AUC = 61.0%|ACC = N/A|\n",
    "|||Zhang et al. [9]|Random Forrest Classifier|AUC = 94.6%|ACC = N/A|\n",
    "|||Batmanghelich et al. [10]|Random Forrest Classifier|AUC = 61.5%|ACC = N/A|\n",
    "|2.|Zhang et al. [4]|Ardekani et al. [11]|Support Vector Machine |||\n",
    "||||*polynomial kernel*|AUC = N/A|ACC = 92.4%|\n",
    "||||*linear kernel*|AUC = N/A|ACC = 91.5%|\n",
    "||||*radial basis function*|AUC = N/A|ACC = 86.7%|\n",
    "|3.|Hyun, Kyuri, Saurin|Marcus et al. [1]| Logistic Regression (w/ imputation)|AUC = 79.2%|ACC = 78.9%|\n",
    "||||Logistic Regression (w/ dropna)|AUC = 70.0%|ACC = 75.0%|\n",
    "||||Support Vector Machine|AUC = 82.2%|ACC = 81.6%|\n",
    "||||Decision Tree Classifier|AUC = 82.5%|ACC = 81.6%|\n",
    "||||Random Forest Classifier|AUC = 84.4%|ACC = 84.2%|\n",
    "||||AdaBoost|AUC = 82.5%|ACC = 84.2%|\n",
    "\n",
    "It can be noticed that our results are comparable and in certain cases better than those from the previous work. Our Random Forest Classifier was one of the best performing model."
   ]
  },
  {
   "cell_type": "markdown",
   "metadata": {
    "_uuid": "d8e735911083847bdff95aac9cf9d76c0cbd730e",
    "id": "30ETMyJAszMY"
   },
   "source": [
    "## 7.B UNIQUE APPROACH\n",
    "The uniqueness of our approach is the fact that we would be including metrices like MMSE and Education also in our model to train it to differentiate between normal healthy adults and those with Alzheimer's. MMSE is one of the gold standards for determining dementia and hence we think it is an important feature to include.\n",
    "\n",
    "The same fact also make our approach flexible enough to be applied to other neurodegenerative diseases which are diagnosed using a combination of MRI features and cognitive tests.\n",
    "\n",
    "## 7.C IMPLEMENTATION\n",
    "The teams' primary intention was to explore how machine learning can make a difference in the clinical environment. For that we have developed a web program using our algorithm which can be used anyone regardless of their programming experience. By using a [CGI module](https://docs.python.org/2/library/cgi.html) we want to make everyone take advantage of your effort!\n",
    "\n",
    "\n",
    "#### Common Gateway Interface (CGI)\n",
    "* CGI can be used make a webserver execute your model.\n",
    "* The input arguments for your web program should be the same as the parameters you used to train your model.\n",
    "* The idea is that a Clinician should be able to input MRI results, biographic data and other parameters for a patient. Your model should assist them in identifying dementia.\n",
    "\n",
    "\n",
    "#### Here is the [screenshot](https://pitt.box.com/s/a0wvujqqbbtt97qri1pqo06mw28rwjlb) of our web application\n",
    "\n",
    "\n",
    "## 7.D LIMITATIONS\n",
    "There are limitations in implementing a complex model because of the quantity of the dataset. Even though the nature of each feature is evident, the ranges of each group's test value are not classified well. In other words, we should have identified more clearly the differences in the variables which might have played a role in the result.The predicted value using the random forest model is higher than the other models. It implies there is a potential for higher prediction rate if we pay more attention to develop the data cleaning and analysis process. Moreover,  the perfect recall score 1.0 of SVM 1.0. Indicates that the quality and accuracy of the classification might decrease dramatically when we use different dataset.\n",
    "\n",
    "\n",
    "##  7.E FURTHER RESEARCH\n",
    "The main takeaway for us is that there are several key factors which are caused by Dementia and we should continue to check it and clear the process in different ways.For the further study, it is necessary for us to improve our understanding through more sophisticated EDA process with a larger sample size. For instance, we would try not only the age itself but also group it into generation, or grade volume of brain tissue or exam scores. If the results from this process are reflected in the data cleaning process and positively affect the decision making of the model, the accuracy of the prediction model can be further improved."
   ]
  },
  {
   "cell_type": "markdown",
   "metadata": {
    "_uuid": "794501cc79cf1a9faa9eef64e8311b48153bb5aa",
    "id": "rnyO0OWWmsV-"
   },
   "source": [
    "# 8. ACKNOWLEDGEMENTS\n",
    "---\n",
    "\n",
    "## FUNDING SOURCES\n",
    "Grant Numbers: P50 AG05681, P01 AG03991, R01 AG021910, P50 MH071616, U24 RR021382, R01 MH56584.\n",
    "\n",
    "## REFERENCES\n",
    "1. Marcus DS, Fotenos AF, Csernansky JG, Morris JC, Buckner RL. Open Access Series of Imaging Studies (OASIS): Longitudinal MRI Data in Nondemented and Demented Older Adults. Journal of cognitive neuroscience. 2010;22(12):2677-2684. doi:10.1162/jocn.2009.21407.\n",
    "2. Marcus, DS, Wang, TH, Parker, J, Csernansky, JG, Morris, JC, Buckner, RL. Open Access Series of Imaging Studies (OASIS): Cross-Sectional MRI Data in Young, Middle Aged, Nondemented, and Demented Older Adults. Journal of Cognitive Neuroscience, 19, 1498-1507. doi:10.1162/jocn.2007.19.9.1498\n",
    "3. Elaheh Moradi, Antonietta Pepe, Christian Gaser, Heikki Huttunen, Jussi Tohka, Machine learning framework for early MRI-based Alzheimer's conversion prediction in MCI subjects, In NeuroImage, Volume 104, 2015, Pages 398-412, ISSN 1053-8119, doi.org/10.1016/j.neuroimage.2014.10.002.\n",
    "4. Zhang Y, Dong Z, Phillips P, et al. Detection of subjects and brain regions related to Alzheimer’s disease using 3D MRI scans based on eigenbrain and machine learning. Frontiers in Computational Neuroscience. 2015;9:66. doi:10.3389/fncom.2015.00066.\n",
    "5. Magnin, B., Mesrob, L., Kinkingnéhun, S. et al. Support vector machine-based classification of Alzheimer’s disease from whole-brain anatomical MRI. Neuroradiology (2009) 51: 73. doi.org/10.1007/s00234-008-0463-x\n",
    "6. http://scikit-learn.org/stable/modules/preprocessing.html#imputation\n",
    "7. Ye, D.H., Pohl, K.M., Davatzikos, C., 2011. Semi-supervised pattern classification: application to structural MRI of Alzheimer's disease. Pattern Recognition in NeuroImaging(PRNI), 2011 International Workshop on. IEEE, pp. 1–4. http://doi:10.1109/PRNI.2011.12.\n",
    "8. Filipovych, R., Davatzikos, C., 2011. Semi-supervised pattern classification of medical images: application to mild cognitive impairment (MCI). Neuroimage 55 (3), 1109–1119. https://doi.org/10.1016/j.neuroimage.2010.12.066\n",
    "9. Zhang, D., Shen, D., 2012. Predicting future clinical changes ofMCI patients using longitudinal and multimodal biomarkers. PLoS One 7 (3), e33182. https://doi.org/10.1371/journal.pone.0033182\n",
    "10. Batmanghelich, K.N., Ye, D.H., Pohl, K.M., Taskar, B., Davatzikos, C., 2011. Disease classification and prediction via semi-supervised dimensionality reduction. Biomedical Imaging: From Nano to Macro, 2011 IEEE International Symposium on. IEEE, pp. 1086–1090. http://10.1109/ISBI.2011.5872590\n",
    "11. Ardekani,B.A.,Bachman,A.H.,Figarsky,K.,andSidtis,J.J.(2014).Corpus callosum shape changes in early Alzheimer’s disease: an MRI study using the OASISbraindatabase. BrainStruct.Funct. 219,343–352.doi:10.1007/s00429-013-0503-0\n",
    "12. https://en.wikipedia.org/wiki/Precision_and_recall"
   ]
  }
 ],
 "metadata": {
  "anaconda-cloud": {},
  "colab": {
   "collapsed_sections": [],
   "default_view": {},
   "name": "FinalReport_Code.ipynb",
   "provenance": [],
   "version": "0.3.2",
   "views": {}
  },
  "kaggle": {
   "accelerator": "none",
   "dataSources": [
    {
     "datasetId": 1980,
     "sourceId": 3398,
     "sourceType": "datasetVersion"
    }
   ],
   "dockerImageVersionId": 46,
   "isGpuEnabled": false,
   "isInternetEnabled": false,
   "language": "python",
   "sourceType": "notebook"
  },
  "kernelspec": {
   "display_name": "Python 3 (ipykernel)",
   "language": "python",
   "name": "python3"
  },
  "language_info": {
   "codemirror_mode": {
    "name": "ipython",
    "version": 3
   },
   "file_extension": ".py",
   "mimetype": "text/x-python",
   "name": "python",
   "nbconvert_exporter": "python",
   "pygments_lexer": "ipython3",
   "version": "3.8.10"
  }
 },
 "nbformat": 4,
 "nbformat_minor": 4
}
